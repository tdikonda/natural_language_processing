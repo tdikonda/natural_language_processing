{
 "cells": [
  {
   "cell_type": "markdown",
   "metadata": {
    "colab_type": "text",
    "id": "GK3k7q4AeQfH"
   },
   "source": [
    "# Text Classification with Pre-trained Embeddings & Deep Convolutional Neural Network (CNN)\n",
    "\n",
    "## 1. Movie Review Dataset\n",
    "\n",
    "- The Movie Review Data is a collection of movie reviews retrieved from imdb.com in the early 2000s by Bo Pang and Lillian Lee. The reviews were collected and made available as part of their research on natural language processing. The reviews were originally released in 2002, but an updated and cleaned up version were released in 2004, referred to as “v2.0”.\n",
    "\n",
    "- The dataset is comprised of 1,000 positive and 1,000 negative movie reviews drawn from an archive of rec.arts.movies.reviews newsgroup hosted at imdb.com. The authors refer to this dataset as the “polarity dataset.”\n",
    "\n",
    "- The data has been cleaned up somewhat, for example:\n",
    "    - The dataset is comprised of only English reviews.\n",
    "    - All text has been converted to lowercase.\n",
    "    - There is white space around punctuation like periods, commas and brackets.\n",
    "    - Text has been split into one sentence per line.\n",
    "\n",
    "- The data has been used for a few related natural language processing tasks. For classification, the performance of machine learning models (such as Support Vector Machines) on the data is in the range of high 70% to low 80% (e.g. 78%-82%).\n",
    "\n",
    "- More sophisticated data preparation may see results as high as 86% with 10-fold cross validation. This gives us a ballpark of low-to-mid 80s if we were looking to use this dataset in experiments of modern methods.\n",
    "\n",
    "- You can download the dataset from here :- [Movie Review Polarity Dataset](http://www.cs.cornell.edu/people/pabo/movie-review-data/review_polarity.tar.gz) (review_polarity.tar.gz, 3MB)\n",
    "\n",
    "- After unzipping the file, you will have a directory called “txt_sentoken” with two sub-directories containing the text “neg” and “pos” for negative and positive reviews respectively. Reviews are stored one per file with a naming convention cv000 to cv999 for each neg and pos."
   ]
  },
  {
   "cell_type": "code",
   "execution_count": 5,
   "metadata": {
    "colab": {
     "base_uri": "https://localhost:8080/",
     "height": 70
    },
    "colab_type": "code",
    "id": "Ez3tgG6tB47m",
    "outputId": "ae054386-c1bf-46d9-96ec-64311451e996"
   },
   "outputs": [
    {
     "name": "stdout",
     "output_type": "stream",
     "text": [
      "[nltk_data] Downloading package stopwords to /root/nltk_data...\n",
      "[nltk_data]   Package stopwords is already up-to-date!\n",
      "TensorFlow Version is 2.2.0\n"
     ]
    }
   ],
   "source": [
    "# import necessary libraries\n",
    "from string import punctuation\n",
    "import nltk\n",
    "nltk.download('stopwords')\n",
    "from nltk.corpus import stopwords\n",
    "from collections import Counter\n",
    "from os import listdir\n",
    "from numpy import array, asarray, zeros\n",
    "import tensorflow as tf\n",
    "from itertools import islice\n",
    "import matplotlib.pyplot as plt\n",
    "\n",
    "# print tensorflow version\n",
    "print(f'TensorFlow Version is {tf.__version__}')"
   ]
  },
  {
   "cell_type": "markdown",
   "metadata": {
    "colab_type": "text",
    "id": "9X32NJEYhra1"
   },
   "source": [
    "[tf.keras.utils.get_file](https://www.tensorflow.org/api_docs/python/tf/keras/utils/get_file)"
   ]
  },
  {
   "cell_type": "code",
   "execution_count": 0,
   "metadata": {
    "colab": {},
    "colab_type": "code",
    "id": "steK-RmoZM5r"
   },
   "outputs": [],
   "source": [
    "# dataset URL\n",
    "#URL = 'http://www.cs.cornell.edu/people/pabo/movie-review-data/review_polarity.tar.gz'\n",
    "# get dataset and extract\n",
    "#path = tf.keras.utils.get_file('review_polarity', origin=URL, extract=True, cache_dir='/content/')\n",
    "#print(f'Path : {path}')"
   ]
  },
  {
   "cell_type": "code",
   "execution_count": 2,
   "metadata": {
    "colab": {
     "base_uri": "https://localhost:8080/",
     "height": 210
    },
    "colab_type": "code",
    "id": "IdqtONq_RCOt",
    "outputId": "e119d9f4-9aa0-49a9-a9c4-b1767f84eec5"
   },
   "outputs": [
    {
     "name": "stdout",
     "output_type": "stream",
     "text": [
      "--2020-06-15 00:54:33--  http://www.cs.cornell.edu/people/pabo/movie-review-data/review_polarity.tar.gz\n",
      "Resolving www.cs.cornell.edu (www.cs.cornell.edu)... 132.236.207.20\n",
      "Connecting to www.cs.cornell.edu (www.cs.cornell.edu)|132.236.207.20|:80... connected.\n",
      "HTTP request sent, awaiting response... 200 OK\n",
      "Length: 3127238 (3.0M) [application/x-gzip]\n",
      "Saving to: ‘review_polarity.tar.gz’\n",
      "\n",
      "review_polarity.tar 100%[===================>]   2.98M  1.09MB/s    in 2.7s    \n",
      "\n",
      "2020-06-15 00:54:36 (1.09 MB/s) - ‘review_polarity.tar.gz’ saved [3127238/3127238]\n",
      "\n"
     ]
    }
   ],
   "source": [
    "# download the dataset\n",
    "!wget http://www.cs.cornell.edu/people/pabo/movie-review-data/review_polarity.tar.gz"
   ]
  },
  {
   "cell_type": "code",
   "execution_count": 0,
   "metadata": {
    "colab": {},
    "colab_type": "code",
    "id": "sN_gf9wURKH9"
   },
   "outputs": [],
   "source": [
    "# extract the data\n",
    "!tar -xf review_polarity.tar.gz"
   ]
  },
  {
   "cell_type": "markdown",
   "metadata": {
    "colab_type": "text",
    "id": "tiorTl22fRwn"
   },
   "source": [
    "## 2. Data Preparation\n",
    "\n",
    "In this section, we will look at 3 things:\n",
    "\n",
    "* A. Separation of data into training and testing set.\n",
    "\n",
    "* B. Loading and cleaning the data to remove punctuation and numbers.\n",
    "\n",
    "* C. Defining a vocabulary of preferred words.\n",
    "\n",
    "### A. Split into Train and Test Sets\n",
    "- We are pretending that we are developing a system that can predict the sentiment of a textual movie review as either positive or negative.\n",
    "\n",
    "- This means that after the model is developed, we will need to make predictions on new textual reviews. This will require all of the same data preparation to be performed on those new reviews as it is performed on the training data for the model.\n",
    "\n",
    "- We will ensure that this constraint is built into the evaluation of our model by splitting the training and test datasets prior to any data preparation. This means that any knowledge in the data in the test set that could help us better prepare the data (e.g. the words used) are unavailable in the preparation of data used for training the model.\n",
    "\n",
    "- That being said, we will use the last 100 positive reviews and the last 100 negative reviews as a test set (100 reviews) and the remaining 1,800 reviews as the training dataset. This is a 90% train, 10% split of the data. The split can be imposed easily by using the filenames of the reviews where reviews named 000 to 899 are for training data and reviews named 900 onwards are for test.\n",
    "\n",
    "### B. Loading and Cleaning Reviews\n",
    "\n",
    "- The text data is already pretty clean not much preparation is required. If you are new to cleaning text data, see this post :- [How to Clean Text for Machine Learning with Python](https://machinelearningmastery.com/clean-text-machine-learning-python/)\n",
    "\n",
    "- We will prepare the data using the following way:\n",
    "\n",
    "    - Split tokens on white space.\n",
    "    - Remove all punctuation from words.\n",
    "    - Remove all words that are not purely comprised of alphabetical characters.\n",
    "    - Remove all words that are known stop words.\n",
    "    - Remove all words that have a length <= 1 character.\n",
    "\n",
    "- We can put all of these steps into a function called clean_text( ) that takes as an argument the raw text loaded from a file and returns a list of cleaned tokens. We can also define a function load_text( ) that loads a document from file ready for use with the clean_text( ) function."
   ]
  },
  {
   "cell_type": "code",
   "execution_count": 0,
   "metadata": {
    "colab": {},
    "colab_type": "code",
    "id": "sVh23CE4M1NG"
   },
   "outputs": [],
   "source": [
    "# load text into memory\n",
    "def load_text(filename):\n",
    "    # open the file as read only\n",
    "    file = open(filename, mode='r')\n",
    "    # read all the text\n",
    "    text = file.read()\n",
    "    # close the file\n",
    "    file.close()\n",
    "    return text"
   ]
  },
  {
   "cell_type": "code",
   "execution_count": 0,
   "metadata": {
    "colab": {},
    "colab_type": "code",
    "id": "bZdPSS2WNgmT"
   },
   "outputs": [],
   "source": [
    "# clean the text and return it as tokens\n",
    "def clean_text(text):\n",
    "    # split the text on white space\n",
    "    tokens = text.split()\n",
    "    # remove punctuations from each token\n",
    "    table = str.maketrans('', '', punctuation)\n",
    "    tokens = [t.translate(table) for t in tokens]\n",
    "    # remove remaining tokens that are not alphabetic\n",
    "    tokens = [word for word in tokens if word.isalpha()]\n",
    "    # filter out stop words\n",
    "    stop_words = set(stopwords.words('english'))\n",
    "    tokens = [word for word in tokens if not word in stop_words]\n",
    "    # filter out short tokens\n",
    "    tokens = [word for word in tokens if len(word) > 1]\n",
    "    return tokens"
   ]
  },
  {
   "cell_type": "markdown",
   "metadata": {
    "colab_type": "text",
    "id": "KqoQRGuBgc_8"
   },
   "source": [
    "### C. Define a Vocabulary\n",
    "- It is important to define a vocabulary of known words when using a bag-of-words or embedding model. The more words, the larger the representation of documents, therefore it is important to constrain the words to only those believed to be predictive. This is difficult to know beforehand and often it is important to test different hypothesis about how to construct a useful vocabulary.\n",
    "\n",
    "- We have already seen how we can remove punctuation and numbers from the vocabulary in the previous section. We can repeat this for all documents and build a set of all known words. We can develop a vocabulary as a Counter, which is a dictionary mapping of words and their counts that allow us to easily update and query.\n",
    "\n",
    "- Each document can be added to the counter and we can step over all of the reviews in the negative directory and then the positive directory through a function called process_files( )."
   ]
  },
  {
   "cell_type": "code",
   "execution_count": 0,
   "metadata": {
    "colab": {},
    "colab_type": "code",
    "id": "XgDeqQEMTMaR"
   },
   "outputs": [],
   "source": [
    "# load all the files in a directory\n",
    "def process_files(directory, vocab, is_train):\n",
    "    # walk through all files in the folder\n",
    "    for filename in listdir(directory):\n",
    "        # skip any reviews in the test set\n",
    "        if is_train and filename.startswith('cv9'):\n",
    "            continue\n",
    "        if not is_train and not filename.startswith('cv9'):\n",
    "            continue\n",
    "        # create full path of the file to open\n",
    "        path = directory + '/' + filename\n",
    "        # load the text files\n",
    "        text = load_text(path)\n",
    "        # tokenize the text\n",
    "        tokens = clean_text(text)\n",
    "        # update vocab counts\n",
    "        vocab.update(tokens)"
   ]
  },
  {
   "cell_type": "code",
   "execution_count": 6,
   "metadata": {
    "colab": {
     "base_uri": "https://localhost:8080/",
     "height": 72
    },
    "colab_type": "code",
    "id": "rLYEb6Kmeinl",
    "outputId": "e643d2af-169b-47cb-e141-8357176683d0"
   },
   "outputs": [
    {
     "name": "stdout",
     "output_type": "stream",
     "text": [
      "Words in Vocabulary :- 44276\n",
      "Top 10 most common words in the Vocabulary :- [('film', 7983), ('one', 4946), ('movie', 4826), ('like', 3201), ('even', 2262), ('good', 2080), ('time', 2041), ('story', 1907), ('films', 1873), ('would', 1844)]\n"
     ]
    }
   ],
   "source": [
    "# define vocab\n",
    "vocab = Counter()\n",
    "\n",
    "# add all files to vocab\n",
    "process_files('/content/txt_sentoken/pos', vocab, True)\n",
    "process_files('/content/txt_sentoken/neg', vocab, True)\n",
    "\n",
    "# print the size of vocabulary\n",
    "print(f'Words in Vocabulary :- {len(vocab)}')\n",
    "\n",
    "# print top 10 most common words in the vocabulary\n",
    "print(f'Top 10 most common words in the Vocabulary :- {vocab.most_common(10)}')"
   ]
  },
  {
   "cell_type": "markdown",
   "metadata": {
    "colab_type": "text",
    "id": "3k_DXRnVjBhW"
   },
   "source": [
    "-  The vocabulary can be saved to a new file called *vocab.txt* that we can later load and use to filter movie reviews prior to encoding them for modeling. We define a new function called save_list( ) that saves the vocabulary to file, with one word per file."
   ]
  },
  {
   "cell_type": "code",
   "execution_count": 0,
   "metadata": {
    "colab": {},
    "colab_type": "code",
    "id": "-S_fBTlcphfL"
   },
   "outputs": [],
   "source": [
    "tokens = [k for k, _ in vocab.items()]\n",
    "\n",
    "# save vocab to a file\n",
    "def save_list(tokens, filename):\n",
    "    # convert tokens to a single blob of text\n",
    "    data = '\\n'.join(tokens)\n",
    "    # open file\n",
    "    file = open(filename, mode='w')\n",
    "    # write text\n",
    "    file.write(data)\n",
    "    # close file\n",
    "    file.close()\n",
    "\n",
    "# save tokens to a vocabulary file\n",
    "save_list(tokens, 'vocab.txt')"
   ]
  },
  {
   "cell_type": "code",
   "execution_count": 9,
   "metadata": {
    "colab": {
     "base_uri": "https://localhost:8080/",
     "height": 193
    },
    "colab_type": "code",
    "id": "Q_pXWxJqyz5C",
    "outputId": "f23d421e-de67-4b27-b650-87c775559a7d"
   },
   "outputs": [
    {
     "data": {
      "text/plain": [
       "['grandfather',\n",
       " 'italian',\n",
       " 'horror',\n",
       " 'late',\n",
       " 'mario',\n",
       " 'bava',\n",
       " 'credits',\n",
       " 'nearly',\n",
       " 'films',\n",
       " 'tv']"
      ]
     },
     "execution_count": 9,
     "metadata": {
      "tags": []
     },
     "output_type": "execute_result"
    }
   ],
   "source": [
    "# check out first 10 tokens\n",
    "tokens[:10]"
   ]
  },
  {
   "cell_type": "code",
   "execution_count": 10,
   "metadata": {
    "colab": {
     "base_uri": "https://localhost:8080/",
     "height": 34
    },
    "colab_type": "code",
    "id": "JCWp1blNko0w",
    "outputId": "e8a63211-d68d-4c7f-c3b5-74df6967d17f"
   },
   "outputs": [
    {
     "data": {
      "text/plain": [
       "collections.Counter"
      ]
     },
     "execution_count": 10,
     "metadata": {
      "tags": []
     },
     "output_type": "execute_result"
    }
   ],
   "source": [
    "type(vocab)"
   ]
  },
  {
   "cell_type": "code",
   "execution_count": 11,
   "metadata": {
    "colab": {
     "base_uri": "https://localhost:8080/",
     "height": 193
    },
    "colab_type": "code",
    "id": "3ZlrcmTmy9EC",
    "outputId": "b783fb10-6abe-4fd4-b8be-5b72dcad877e"
   },
   "outputs": [
    {
     "data": {
      "text/plain": [
       "[('grandfather', 23),\n",
       " ('italian', 50),\n",
       " ('horror', 384),\n",
       " ('late', 204),\n",
       " ('mario', 15),\n",
       " ('bava', 6),\n",
       " ('credits', 171),\n",
       " ('nearly', 278),\n",
       " ('films', 1873),\n",
       " ('tv', 280)]"
      ]
     },
     "execution_count": 11,
     "metadata": {
      "tags": []
     },
     "output_type": "execute_result"
    }
   ],
   "source": [
    "# check out first 10 Vocabulary items\n",
    "list(islice(vocab.items(), 10))"
   ]
  },
  {
   "cell_type": "markdown",
   "metadata": {
    "colab_type": "text",
    "id": "AvAPhYDHjTOq"
   },
   "source": [
    "## 3. Train Embedding \n",
    "\n",
    "- In this section, we will learn a word embedding while training a neural network on the classification problem.\n",
    "\n",
    "- A word embedding is a way of representing text where each word in the vocabulary is represented by a real valued vector in a high-dimensional space. The vectors are learned in such a way that words that have similar meanings will have similar representation in the vector space (close in the vector space). This is a more expressive representation for text than classical methods like bag-of-words where relationships between words or tokens are ignored or forced in bigram and trigram approaches.\n",
    "\n",
    "- The real valued vector representation for words can be learned while training the neural network. We can do this in the Keras deep learning library using the [Embedding Layer](https://keras.io/layers/embeddings/).\n",
    "\n",
    "- If you are new to word embeddings, see the post :- [What Are Word Embeddings for Text?](https://machinelearningmastery.com/what-are-word-embeddings/)\n",
    "\n",
    "- If you are new to word embedding layers in Keras, see the post :- [How to Use Word Embedding Layers for Deep Learning with Keras.](https://machinelearningmastery.com/use-word-embedding-layers-deep-learning-keras/)\n",
    "\n",
    "- The first step is to load the vocabulary. We will use it to filter out words from movie reviews that we are not interested in. If you have worked through the previous section, you should have a local file called 'vocab.txt' with one word per line. We can load that file and build a vocabulary as a set for checking the validity of tokens."
   ]
  },
  {
   "cell_type": "code",
   "execution_count": 0,
   "metadata": {
    "colab": {},
    "colab_type": "code",
    "id": "aWcBZEHSuXG2"
   },
   "outputs": [],
   "source": [
    "# load the vocabulary\n",
    "vocab_filename = 'vocab.txt'\n",
    "vocab = load_text(vocab_filename)\n",
    "vocab = vocab.split()\n",
    "vocab = set(vocab)"
   ]
  },
  {
   "cell_type": "code",
   "execution_count": 13,
   "metadata": {
    "colab": {
     "base_uri": "https://localhost:8080/",
     "height": 193
    },
    "colab_type": "code",
    "id": "_KXD6FaxMACW",
    "outputId": "1ddb6136-3364-4205-93bf-4cbd638332f3"
   },
   "outputs": [
    {
     "data": {
      "text/plain": [
       "['designers',\n",
       " 'windswept',\n",
       " 'crew',\n",
       " 'thompsonbased',\n",
       " 'meschach',\n",
       " 'barby',\n",
       " 'shake',\n",
       " 'disgusted',\n",
       " 'afred',\n",
       " 'predators']"
      ]
     },
     "execution_count": 13,
     "metadata": {
      "tags": []
     },
     "output_type": "execute_result"
    }
   ],
   "source": [
    "# check out first 10 Vocabulary words\n",
    "list(vocab)[:10]"
   ]
  },
  {
   "cell_type": "markdown",
   "metadata": {
    "colab_type": "text",
    "id": "35edAXAPkIDH"
   },
   "source": [
    "- Next, we need to load all of the training data movie reviews. For that we can adapt the process_docs( ) from the previous section to load the documents, clean them and return them as a list of strings, with one document per string. We want each document to be a string for easy encoding as a sequence of integers later.\n",
    "\n",
    "- Cleaning the document involves splitting each review based on white space, removing punctuation and then filtering out all tokens not in the vocabulary. The updated clean_doc( ) function is listed below.\n",
    "\n",
    "- The updated process_docs( ) can then call the clean_doc( ) for each document on the 'pos' and 'neg' directories that are in our training dataset."
   ]
  },
  {
   "cell_type": "code",
   "execution_count": 0,
   "metadata": {
    "colab": {},
    "colab_type": "code",
    "id": "e382SgB0219z"
   },
   "outputs": [],
   "source": [
    "# tokenize the text\n",
    "def clean_doc(doc, vocab):\n",
    "    # split the text on white space\n",
    "    tokens = doc.split()\n",
    "    # remove punctuations from each token\n",
    "    table = str.maketrans('', '', punctuation)\n",
    "    tokens = [t.translate(table) for t in tokens]\n",
    "    # filter out tokens not in vocab\n",
    "    tokens = [word for word in tokens if word in vocab]\n",
    "    tokens = ' '.join(tokens)\n",
    "    return tokens"
   ]
  },
  {
   "cell_type": "code",
   "execution_count": 0,
   "metadata": {
    "colab": {},
    "colab_type": "code",
    "id": "fitKfv2s2Vjl"
   },
   "outputs": [],
   "source": [
    "# load all the files in a directory\n",
    "def process_docs(directory, vocab, is_train):\n",
    "    documents = list()\n",
    "    # walk through all files in the folder\n",
    "    for filename in listdir(directory):\n",
    "        # skip any reviews in the test set\n",
    "        if is_train and filename.startswith('cv9'):\n",
    "            continue\n",
    "        if not is_train and not filename.startswith('cv9'):\n",
    "            continue\n",
    "        # create full path of the file to open\n",
    "        path = directory + '/' + filename\n",
    "        # load the text files\n",
    "        doc = load_text(path)\n",
    "        # tokenize the text\n",
    "        tokens = clean_doc(doc, vocab)\n",
    "        # add to list\n",
    "        documents.append(tokens)\n",
    "    return documents"
   ]
  },
  {
   "cell_type": "code",
   "execution_count": 0,
   "metadata": {
    "colab": {},
    "colab_type": "code",
    "id": "D4K_GWQ9uW9N"
   },
   "outputs": [],
   "source": [
    "# load all the training reviews\n",
    "train_positive_files = process_docs('/content/txt_sentoken/pos', vocab, True)\n",
    "train_negative_files = process_docs('/content/txt_sentoken/neg', vocab, True)\n",
    "train_docs = train_positive_files + train_negative_files"
   ]
  },
  {
   "cell_type": "code",
   "execution_count": 17,
   "metadata": {
    "colab": {
     "base_uri": "https://localhost:8080/",
     "height": 125
    },
    "colab_type": "code",
    "id": "7-sM_plt1oJC",
    "outputId": "1545432a-091a-41d1-e480-5f04c0f22122",
    "scrolled": false
   },
   "outputs": [
    {
     "data": {
      "text/plain": [
       "['grandfather italian horror late mario bava credits nearly films tv movies produced italy death early practiced cinematographer director bava nonetheless sat directors chair beyond door ii project turned last fulllength feature film alongside appalling zombie schlock hacks like lucio fulci beyond door ii simply revelation day bava considered great filmmaker yet fashioned one finest italian horror movies note film connection exorcistrip behind door unexplained reason given related title release usa australia story focuses dora women set upon malevolent spirit channels young son marco film opens dora son second husband bruno returning house sea scene first husbands suicide subsequent trauma years earlier hope put past behind small accidents start befall dora usually bruno away business starts suspect marco played uncanny ability year old david colin jr somehow involved strange goings reveal story would unfair suffice say artfully paced study woman suffering nervous breakdown offers intriguing plot loads atmosphere solid acting though dialogue somewhat weakened dubbing english bava coaches surprisingly good performance usually wooden daria nicolodi wife famed italian horror director dario argento character invested sufficient depth allow audience real empathy doras troubled soul music italian ensemble libra also effective mixing oddsounding rock classic gothic piano sequences least one moment brilliantly engineered bava guaranteed lift ten feet chair yet italian horror bloodletting surprisingly minimal lamberto bava francesco barbieris script concerned deeper psychological terrors themes guilt suffering notion sow shall somewhere somehow eventually reap scholars genre take note beyond door ii stylish chilling essential',\n",
       " 'film starts creepy opening sequence classic creepy score writerdirectorproducer john carpenter mind brilliant director really wrote film directed film produced film made excessively creepy score film think always famous classic years lost popularity ability scare wits people think seen halloween times time find something new brilliant time scared even though know going happen three different versions film vhs regular version came limited edition anniversary tshirt boxed edition vhs hardcover case digitally remastered original theatrical widescreen presentation nifty plastic picture decorated box numbered snowglobe words completely utterly obsessed film changed horror movies forever spawned six sequels truly good also spawned several cheap imitations film offensive ways true halloween fan since heard halloween released dvd limited edition copies knew buy one matter man best dvd ever manufactured brilliance film words describe dvd halloween michael myers evil person killed sister cold blood years ago grown mental hospital michael myers escapes go back hometown haddonfield illinois followed past doctor sam loomis person michael targeting laurie strode played jamie lee curtis film debut stalking check halloween ii explains unholy night october laurie strode two friends going time lives trying stay alive whole film filled terrifying moments coming seeing michael myers walk nick castle played shape first movie incredible job person halloween flick john carpenter made groundbreaking new film scares wit style movie flawless perfect movie sequel lived one opinion never halloween like psycho still extremely popular even almost years later hope someday halloween released new dolby soundtrack extra scenes dvd edition halloween isnt another sliceanddice horror flick intelligent horrifying best film experience ever made see halloween scared watch reviewed brandon herring october',\n",
       " 'intolerance griffith told four different historical stories time cutting one stories builds fastpaced climax magnolia paul thomas anderson tells several stories tangentially connected others yet stories going independent strange stories synchronized story builds tense moment appears intended tense moment lets tension dissolve tension dissipates one character starts singing song plotline major characters sing along even though scene toward end stories build tense moment almost characters somehow psychically linked creates strange effects stories empty desperate people dysfunctional relationships strands varying degrees bizarre content story dying man earl partridge jason robards wanting get touch son make amends phil parma philip seymour hoffman nurse frantic help partridge achieve final goal partridges young wife linda julianne moore getting anxious partridge dies unsuspected reason frank mackey tom cruise runs kinds selfhelp seminar businesses like much aims teaching disaffected men real shitheels dealing women angry backlash womens lib officer jim kurring john reilly patrolman need feel making world better place jimmy gator philip baker hall hosts popular childrens tv quiz show really exploits destroys children see stories current quiz kid stanley spector jeremy blackman former quiz kid donnie smith william macy film juggles stories three hours even time one story resolved satisfactorily story moves toward single bizarre common climax one seems much derail story common climax ambiguous many ways fails really tie stories film seems built around strange events weird history really little content stories though connected part one weird event magnolia probably bring much deserved attention paul thomas anderson though opinion two previous films hard eight boogie nights better told stories interesting one starts look forward actors andersons company john reilly seems standard fixture particularly notable philip baker hall gave mesmerizing performance first scene hard eight several characters mesmerizing characteristic really used studies characters stories worth following wellrounded stories beginning middle end leave something desired film willing unexpected helps make film worth sitting rate scale low scale heavy spoiler heavy spoiler heavy spoiler heavy spoiler strange climactic event film get multiple messages filmmaker event seeing really happen actual fact since biblical times rains frogs interpreted signs displeasure gods however perfectly natural somewhat unnerving phenomenon cause associated whirlwinds know tornadoes land rip land even objects size ground hurl air holding aloft reader may remember unfortunate cow twister smaller objects hurled high atmosphere kept aloft updrafts surprisingly long periods time much hail chunks ice whirlwind water animals near surface frequently fish frogs may suffer fate essentially vacuumed whirlwind held aloft updrafts finally dropped elsewhere rain possible doubts creep rain frogs depicted film may greater scale pictured rain frogs seems unlikely frogs would still alive dropped clear geographic conditions right los angeles sort phenomenon frankly idea points otherwise event quite believable see film much credible phenomena saw volcano film left ambiguous rain sign god since many references exodus frogs shall come thee upon thy people upon thy servants however rain frogs though feels biblical definitely biblical portent note previous verse says river shall bring forth frogs abundantly shall go bible referring rain infestation river reference frogs bible symbol uncleanness revelation',\n",
       " 'eyes wide shut isnt masterpiece many hoping see stanley kubricks final film impressive achievement mesmerizing haunting adult psychodrama marriage fidelity sex stanley kubrick film beginning end consistently exhibiting auteurs trademark penchant long continuous takes unparalleled deftness behind camera uncanny ability extract gorgeous performances exhausted cast indeed eyes wide shut attained infamy even release notoriously laborious shoot kubrick renowned perfectionist reportedly held cast hostage set nearly year uncharacteristic maneuver kubrick cast two bigname stars lead roles namely reallife husband wife tom cruise nicole kidman play bill alice harford volatile couple course couple nights ponder validity idea husband wife must faithful shes unemployed introduced getting ready go fancy party affair propositioned nearly succumb temptation play around someone else return lavish new york apartment kidman smoking dash weed inquires whether husband sex two models approached night truthfully says asks happened hungarian guy dancing proceed argue alice tells spouse lustful story evidently time ago thing young naval officer admits ready give whole future bill young daughter guy wanted even one night bill jolted alices story anticipate reaction moment gets phone call go show face house justdeceased patient turns beginning long eventful night town daughter dead patient hits wisely turns almost dirty deed kindly hooker approaches street series coincidences winds gothic mansion ritualistic frankly creepy orgy takes place costumed people performing various public sex acts erotic dread mounts cruise whos supposed wonders spacious halls watching action discovered outsider much hoopla raised fact warner bros digitally edited orgy scene help computer put cloaked figures block actual sex acts still seen glory order avoid dreaded rating european viewers see film kubrick envisioned roger ebert calls american version austin powers version many others bashed alterations potentially controversial opinion figures supplement scenes mystical atmosphere first thing one notices eyes wide shut looks artful distinctively gorgeous production shot dark moody hues featuring elaborate beautiful scenery giant mansion used films centerpiece decor christmas party harfords apartment film always pleasure look boot great soundtrack makes atmospheric still core behind graphic controversial content unappealing mood goodnatured movie emphasizes importance fidelity looks sex almost perfunctory portraying unnerving rather erotic something superficial yet something necessary achieve deeper relationship end seems bills eyes wide open special kind love wife meaningful anything could ever hope find streets new york kubrick elicits wonderful performances cruise kidman tom completely convincing dr harford man seems guided solely destiny control course life take nicole projects quiet intensity jittery yet aggressive wife performance stunningly effective shes headed oscar nod movie help similarly strong supporting cast head directorcumthespian sidney pollock enigmatic articulate harfords mysterious friend eyes wide shut perfect last hour could used slightly scissorhappy editor cruise kidman good looking believe either would strong temptation philander still important work great director may par stanley kubricks best worthy final film complex exploration jealousy faithfulness eugene',\n",
       " 'people fit two different categories either love woody allen hate guts family part hates movies think hes funny shtick gotten forced contrived years maybe taking body away best decision producer could thought unrestrained physical boundaries allens humor comes shining problems physical appearance able join rest us laughing allens intelligent observations life problems verbal comedy may want skip one film introduced audiences sparked imaginations showed something theyd never seen toy story used stateoftheart computer technology presented world toys would come alive humans present many critics call better film believe say completely original motion picture antz however upped ante considerably disneys bugs life isnt due another two months dreamworks seems received better end deal beating disney satisfied audiences thirst computeranimated films dont let fool disney definitely scared past two years competitions broken studios volcano duel opinion dantes peak came way ahead predecessor time quality volcano original premise destroyed ridiculous situations twice many competing films first comet competition armageddon blew away cheesily dramatic competitor deep impact even interesting one beloved studio disney goes newcomer dreamworks prevail time tell im sure mr mouse nothing fear may sound like didnt like antz contrary id put toy story due pg rating many parents may put dialogue shouldnt appear disneys version dialogue antz pushes envelope familyoriented film sexual innuendoes profanity pop occasionally makes dreamworks animated feature geared adult crowd humor also written especially adults though many kids laughing theater attended type film made families often entertaining kids entertaining parents antz begins hilarious monologue seems meld woody allens shtick franz kafkas metamorphosis short story man wakes discover bug allen troubled ant believing made worker youre middle child family five million comments neglected childhood one night sitting bar friend weaver sylvester stallone discussing pathetic place life walks princess bala sharon stone one recognizes without crown bala asks would like dance engage pulp fictionesque dance everyone else following leader discovering princess falls love theres problem bala getting married general mandible gene hackman ruthless leader merely wants control better stronger colony order must eliminate queen anne bancroft weakest colony namely worker ants get rid queen needs get rid loyal army ants would willing die colonel cutter christopher walkin come plan send loyal ants battle surely killed queen reluctant first decides best colony meanwhile wants meet bala asks weaver army ant switch places gets sent battle manages survive slaughter termites battle sequence absolutely stunning though may flashbacks starship troopers contained similar sequence however antz film production around time similarities merely coincidence second half film revolves around zs kidnapping bala search mythical place called insectopia ant boss food wants adventures bala get surprisingly high tension especially one involving magnifying glass looming targets like spaceships independence day fact im going assume producers referenced intentionally ants look awe beam fire blasts ground visually exciting rush adrenaline dont fooled little kids shouldnt see may try copy seeing antz vowed never intentionally step ant hopefully children learn killing ants rather cruel animated film antz probably best find date visually stunning dreams may come best aspect animation fact characters arent limited gravity take ridiculous situations make seem plausible one great moment involves mass worker ants bunching form wrecking ball animation perfect virtually see every single ant ball however exhilarating scene involves bala getting stuck bottom young boys shoe truly great example film making finest computer technology animators carefully made ants faces look similar actors providing voices best example would barbatus danny glover one point even see pores face although doubt ants pores barbatus also touching rather gruesome scene final words without body young kids may disturbed site dismembered head good deal humor derived appropriate adults course disneys bugs life looks good dont know able best dreamworks newest animated feature terms animation dreamworks done something studio could go head head big mouse knock yes anastasia good nearly good even worst disney vocal talent always essential animated feature antz one best lineups seen since toy story fact far exceeds one woody allen always funny transcends hes done past years without body comic timing noticeable thing fact im pretty sure writers let improvise lot lines sharon stone bala shows comic ability though part stone works best dramatic actress sylvester stallone teamed stone beginning solidify statement wants actor typecast action star snub oscars last year stallone proving serious comedic illustrated actor gene hackman superb grufftalking general almost another take crimson tide persona christopher walkin probably noticed voice many people remember hits batman returns anne bancroft minimal role shes effective nonetheless danny glover small role good job dan aykroyd jane curtin also lend voices two lovesick eurotrash beesboth unrecognizable especially aykroyd jennifer lopez plays worker ant falls love weaver although people wont recognize voice either many people recognize grant shauds voice foreman played miles tv show murphy brown definitely huge cast highprofile names definitely help grosses course probably tell lot million budget went also directors eric darnell lawrence guterman relative newcomers though guterman direct feature headless show incredible talent type picture tense times funny throughout two hold film together like professionals screenplay todd alcott chris weitz quite simple plot contains lot subtlety makes film suitable adults kids delight animation parents laugh heartily humor go young childrens heads mean shouldnt take kids see lot fun watching one great themes given us part social commentary part romance story part moral drama antz gives everyone something talk whether animation discussions individualism community thankfully subtle either aspects antz rated pg mild language intense action sometimes language pushing limits family movie violence keep kids home battle scene ants melting acid bugs speared death magnifying scene shows ant disintegrate beam sunlight sexual innuendos perfect choice wholesome fun theaters doubt many children understand sexual innuendos unless old enough still advisable leave really young children home confused enough take kids recommend seeing film likely youll enjoy']"
      ]
     },
     "execution_count": 17,
     "metadata": {
      "tags": []
     },
     "output_type": "execute_result"
    }
   ],
   "source": [
    "# check out training reviews\n",
    "train_docs[:5]"
   ]
  },
  {
   "cell_type": "markdown",
   "metadata": {
    "colab_type": "text",
    "id": "wWOvlHrTklVW"
   },
   "source": [
    "- The next step is to encode each document as a sequence of integers. The Keras Embedding layer requires integer inputs where each integer maps to a single token that has a specific real-valued vector representation within the embedding. These vectors are random at the beginning of training but during training become meaningful to the network. We can encode the training documents as sequences of integers using the Tokenizer class in the Keras API.\n",
    "\n",
    "- First, we must construct an instance of the class then train it on all documents in the training dataset. In this case, it develops a vocabulary of all tokens in the training dataset and develops a consistent mapping from words in the vocabulary to unique integers. We could just as easily develop this mapping ourselves using our vocabulary file."
   ]
  },
  {
   "cell_type": "code",
   "execution_count": 0,
   "metadata": {
    "colab": {},
    "colab_type": "code",
    "id": "B88QvHh5100H"
   },
   "outputs": [],
   "source": [
    "# create the tokenizer\n",
    "tokenizer = tf.keras.preprocessing.text.Tokenizer()\n",
    "# fit the tokenizer on the training documents\n",
    "tokenizer.fit_on_texts(train_docs)"
   ]
  },
  {
   "cell_type": "code",
   "execution_count": 19,
   "metadata": {
    "colab": {
     "base_uri": "https://localhost:8080/",
     "height": 193
    },
    "colab_type": "code",
    "id": "IrCoT-hjOOew",
    "outputId": "954a082f-e4ae-4558-8d4a-31346a4bd0d4"
   },
   "outputs": [
    {
     "data": {
      "text/plain": [
       "['film',\n",
       " 'one',\n",
       " 'movie',\n",
       " 'like',\n",
       " 'even',\n",
       " 'good',\n",
       " 'time',\n",
       " 'story',\n",
       " 'films',\n",
       " 'would']"
      ]
     },
     "execution_count": 19,
     "metadata": {
      "tags": []
     },
     "output_type": "execute_result"
    }
   ],
   "source": [
    "# list first 10 words from index 1 to 10\n",
    "list(islice(tokenizer.word_index, 10))"
   ]
  },
  {
   "cell_type": "code",
   "execution_count": 0,
   "metadata": {
    "colab": {},
    "colab_type": "code",
    "id": "gH6rqGN6ONDW"
   },
   "outputs": [],
   "source": [
    "#tokenizer.index_word"
   ]
  },
  {
   "cell_type": "code",
   "execution_count": 0,
   "metadata": {
    "colab": {},
    "colab_type": "code",
    "id": "ak95i-Z-lIeE"
   },
   "outputs": [],
   "source": [
    "# sequence encode train docs\n",
    "train_encoded_docs = tokenizer.texts_to_sequences(train_docs)"
   ]
  },
  {
   "cell_type": "code",
   "execution_count": 21,
   "metadata": {
    "colab": {
     "base_uri": "https://localhost:8080/",
     "height": 1000
    },
    "colab_type": "code",
    "id": "KbVlU40J16Sl",
    "outputId": "8753e90c-34b2-4127-a249-4b6327e59f5c",
    "scrolled": false
   },
   "outputs": [
    {
     "data": {
      "text/plain": [
       "[4251,\n",
       " 2136,\n",
       " 205,\n",
       " 482,\n",
       " 5958,\n",
       " 11016,\n",
       " 606,\n",
       " 317,\n",
       " 9,\n",
       " 314,\n",
       " 30,\n",
       " 1018,\n",
       " 7005,\n",
       " 183,\n",
       " 355,\n",
       " 13894,\n",
       " 1820,\n",
       " 47,\n",
       " 11016,\n",
       " 2312,\n",
       " 2484,\n",
       " 708,\n",
       " 3029,\n",
       " 623,\n",
       " 1067,\n",
       " 892,\n",
       " 676,\n",
       " 594,\n",
       " 80,\n",
       " 7910,\n",
       " 527,\n",
       " 1,\n",
       " 5670,\n",
       " 5959,\n",
       " 9981,\n",
       " 7423,\n",
       " 12257,\n",
       " 4,\n",
       " 19605,\n",
       " 12258,\n",
       " 623,\n",
       " 1067,\n",
       " 892,\n",
       " 199,\n",
       " 2957,\n",
       " 134,\n",
       " 11016,\n",
       " 1322,\n",
       " 41,\n",
       " 1666,\n",
       " 135,\n",
       " 5402,\n",
       " 2,\n",
       " 2137,\n",
       " 2136,\n",
       " 205,\n",
       " 30,\n",
       " 462,\n",
       " 1,\n",
       " 1849,\n",
       " 25768,\n",
       " 277,\n",
       " 1067,\n",
       " 11017,\n",
       " 202,\n",
       " 173,\n",
       " 3112,\n",
       " 353,\n",
       " 564,\n",
       " 5671,\n",
       " 5168,\n",
       " 8,\n",
       " 2221,\n",
       " 3563,\n",
       " 393,\n",
       " 161,\n",
       " 325,\n",
       " 7911,\n",
       " 1405,\n",
       " 9143,\n",
       " 103,\n",
       " 323,\n",
       " 9144,\n",
       " 1,\n",
       " 697,\n",
       " 3563,\n",
       " 323,\n",
       " 262,\n",
       " 492,\n",
       " 4948,\n",
       " 3564,\n",
       " 267,\n",
       " 1850,\n",
       " 29,\n",
       " 17,\n",
       " 3113,\n",
       " 2068,\n",
       " 4564,\n",
       " 11018,\n",
       " 58,\n",
       " 806,\n",
       " 435,\n",
       " 217,\n",
       " 289,\n",
       " 277,\n",
       " 224,\n",
       " 7424,\n",
       " 329,\n",
       " 13895,\n",
       " 3563,\n",
       " 509,\n",
       " 4948,\n",
       " 114,\n",
       " 619,\n",
       " 311,\n",
       " 1536,\n",
       " 9144,\n",
       " 85,\n",
       " 6268,\n",
       " 838,\n",
       " 137,\n",
       " 100,\n",
       " 266,\n",
       " 6269,\n",
       " 1265,\n",
       " 528,\n",
       " 441,\n",
       " 604,\n",
       " 16192,\n",
       " 1587,\n",
       " 8,\n",
       " 10,\n",
       " 4949,\n",
       " 3935,\n",
       " 88,\n",
       " 13896,\n",
       " 2958,\n",
       " 1895,\n",
       " 166,\n",
       " 2313,\n",
       " 2883,\n",
       " 3030,\n",
       " 799,\n",
       " 1297,\n",
       " 25,\n",
       " 9982,\n",
       " 825,\n",
       " 717,\n",
       " 111,\n",
       " 62,\n",
       " 175,\n",
       " 595,\n",
       " 25769,\n",
       " 7006,\n",
       " 785,\n",
       " 11016,\n",
       " 16193,\n",
       " 612,\n",
       " 6,\n",
       " 68,\n",
       " 509,\n",
       " 2608,\n",
       " 25770,\n",
       " 25771,\n",
       " 155,\n",
       " 4766,\n",
       " 2136,\n",
       " 205,\n",
       " 47,\n",
       " 9983,\n",
       " 4565,\n",
       " 15,\n",
       " 5960,\n",
       " 13897,\n",
       " 870,\n",
       " 1492,\n",
       " 72,\n",
       " 69,\n",
       " 5672,\n",
       " 25772,\n",
       " 2485,\n",
       " 1439,\n",
       " 184,\n",
       " 2136,\n",
       " 2183,\n",
       " 25773,\n",
       " 12,\n",
       " 601,\n",
       " 5169,\n",
       " 25774,\n",
       " 689,\n",
       " 363,\n",
       " 3936,\n",
       " 4105,\n",
       " 354,\n",
       " 108,\n",
       " 2,\n",
       " 318,\n",
       " 2486,\n",
       " 7912,\n",
       " 11016,\n",
       " 5170,\n",
       " 6618,\n",
       " 811,\n",
       " 1611,\n",
       " 3029,\n",
       " 135,\n",
       " 2136,\n",
       " 205,\n",
       " 25775,\n",
       " 612,\n",
       " 4950,\n",
       " 25776,\n",
       " 11016,\n",
       " 19606,\n",
       " 25777,\n",
       " 95,\n",
       " 1965,\n",
       " 2069,\n",
       " 1966,\n",
       " 19607,\n",
       " 1298,\n",
       " 3475,\n",
       " 2313,\n",
       " 2609,\n",
       " 25778,\n",
       " 2756,\n",
       " 948,\n",
       " 528,\n",
       " 463,\n",
       " 11019,\n",
       " 9984,\n",
       " 415,\n",
       " 65,\n",
       " 462,\n",
       " 623,\n",
       " 1067,\n",
       " 892,\n",
       " 2389,\n",
       " 4566,\n",
       " 3381]"
      ]
     },
     "execution_count": 21,
     "metadata": {
      "tags": []
     },
     "output_type": "execute_result"
    }
   ],
   "source": [
    "# check out the encoding for first sentence of text\n",
    "train_encoded_docs[0]"
   ]
  },
  {
   "cell_type": "markdown",
   "metadata": {
    "colab_type": "text",
    "id": "zF25RNOZlpP6"
   },
   "source": [
    "- We also need to ensure that all documents have the same length. This is a requirement of Keras for efficient computation. We could truncate reviews to the smallest size or zero-pad (pad with the value ‘0’) reviews to the maximum length. In this case, we will pad all reviews to the length of the longest review in the training dataset.\n",
    "\n",
    "- First, we can find the longest review using the max( ) function on the training dataset and take its length. We can then call the Keras function pad_sequences( ) to pad the sequences to the maximum length by adding 0 values on the end."
   ]
  },
  {
   "cell_type": "code",
   "execution_count": 14,
   "metadata": {
    "colab": {
     "base_uri": "https://localhost:8080/",
     "height": 140
    },
    "colab_type": "code",
    "id": "NnQlRwK62Y3i",
    "outputId": "4f42ffef-1d7f-4fbc-cafb-bd07b1f1ba52"
   },
   "outputs": [
    {
     "data": {
      "text/plain": [
       "array([[ 4251,  2136,   205, ...,     0,     0,     0],\n",
       "       [    1,   311,  1218, ...,     0,     0,     0],\n",
       "       [12261,  4401,   530, ...,     0,     0,     0],\n",
       "       ...,\n",
       "       [  642,  3777,  1887, ...,     0,     0,     0],\n",
       "       [ 1600,  9435,  2223, ...,     0,     0,     0],\n",
       "       [ 4221,  4060,    16, ...,     0,     0,     0]], dtype=int32)"
      ]
     },
     "execution_count": 14,
     "metadata": {
      "tags": []
     },
     "output_type": "execute_result"
    }
   ],
   "source": [
    "# pad sequences on encoded train docs\n",
    "max_length = max([len(s.split()) for s in train_docs])\n",
    "X_train = tf.keras.preprocessing.sequence.pad_sequences(train_encoded_docs, maxlen=max_length, padding='post')\n",
    "\n",
    "# check out training data\n",
    "X_train"
   ]
  },
  {
   "cell_type": "markdown",
   "metadata": {
    "colab_type": "text",
    "id": "yrbPuRmDmE1C"
   },
   "source": [
    "- Finally, we can define the class labels for the training dataset, needed to fit the supervised neural network model to predict the sentiment of reviews."
   ]
  },
  {
   "cell_type": "code",
   "execution_count": 15,
   "metadata": {
    "colab": {
     "base_uri": "https://localhost:8080/",
     "height": 34
    },
    "colab_type": "code",
    "id": "o7T1gQGE2jGe",
    "outputId": "91fcd396-334b-48a9-b1f4-f62346048d9a"
   },
   "outputs": [
    {
     "data": {
      "text/plain": [
       "array([0, 0, 0, ..., 1, 1, 1])"
      ]
     },
     "execution_count": 15,
     "metadata": {
      "tags": []
     },
     "output_type": "execute_result"
    }
   ],
   "source": [
    "# define training labels\n",
    "y_train = array([0 for _ in range(900)] + [1 for _ in range(900)])\n",
    "\n",
    "# check out training labels\n",
    "y_train"
   ]
  },
  {
   "cell_type": "markdown",
   "metadata": {
    "colab_type": "text",
    "id": "aKtLuSQEmIrG"
   },
   "source": [
    "- We can then encode and pad the test dataset, needed later to evaluate the model after we train it."
   ]
  },
  {
   "cell_type": "code",
   "execution_count": 0,
   "metadata": {
    "colab": {},
    "colab_type": "code",
    "id": "VCCEBinUuuoI"
   },
   "outputs": [],
   "source": [
    "# load all testing reviews\n",
    "test_positive_files = process_docs('/content/txt_sentoken/pos', vocab, False)\n",
    "test_negative_files = process_docs('/content/txt_sentoken/neg', vocab, False)\n",
    "test_docs = test_positive_files + test_negative_files"
   ]
  },
  {
   "cell_type": "markdown",
   "metadata": {
    "colab_type": "text",
    "id": "JgivZMDxmJ7v"
   },
   "source": [
    "- __We did not do 'fit_on_texts' on 'test_docs' as it uses the vocab learned from the training data to index words in test. If there are new words, they are marked as zero.__"
   ]
  },
  {
   "cell_type": "code",
   "execution_count": 0,
   "metadata": {
    "colab": {},
    "colab_type": "code",
    "id": "MOn1LD3MnX9L"
   },
   "outputs": [],
   "source": [
    "# sequence encode test docs\n",
    "test_encoded_docs = tokenizer.texts_to_sequences(test_docs)\n",
    "\n",
    "# pad sequences on encoded test docs\n",
    "X_test = tf.keras.preprocessing.sequence.pad_sequences(test_encoded_docs, maxlen=max_length, padding='post')\n",
    "\n",
    "# define test labels\n",
    "y_test = array([0 for _ in range(100)] + [1 for _ in range(100)])"
   ]
  },
  {
   "cell_type": "code",
   "execution_count": 18,
   "metadata": {
    "colab": {
     "base_uri": "https://localhost:8080/",
     "height": 34
    },
    "colab_type": "code",
    "id": "XIV4zpbduuoL",
    "outputId": "0142d306-5638-4954-cb8a-1f57401ed4cc"
   },
   "outputs": [
    {
     "name": "stdout",
     "output_type": "stream",
     "text": [
      "Vocabulary size: 44277\n"
     ]
    }
   ],
   "source": [
    "# define vocabulary size (largest integer value)\n",
    "vocab_size = len(tokenizer.word_index) + 1\n",
    "print(f'Vocabulary size: {vocab_size}')"
   ]
  },
  {
   "cell_type": "markdown",
   "metadata": {
    "colab_type": "text",
    "id": "gAK7xdU-09XV"
   },
   "source": [
    "## 4. Use Pre-trained Embedding\n",
    "\n",
    "- In this section, we will use a pre-trained word embedding prepared on a very large text corpus. A downside of learning a word embedding as part of the network is that it can be very slow, especially for very large text datasets.\n",
    "\n",
    "- The word2vec algorithm is an approach to learning a word embedding from a text corpus in a standalone way. The benefit of the method is that it can produce high-quality word embeddings very efficiently, in terms of space and time complexity.\n",
    "\n",
    "- You can download [pre-trained GloVe vectors](https://nlp.stanford.edu/projects/glove/) from the Stanford webpage. Specifically, vectors trained on Wikipedia data :- [glove.6B.zip](http://nlp.stanford.edu/data/glove.6B.zip) (822 Megabyte download)\n",
    "\n"
   ]
  },
  {
   "cell_type": "code",
   "execution_count": 27,
   "metadata": {
    "colab": {
     "base_uri": "https://localhost:8080/",
     "height": 210
    },
    "colab_type": "code",
    "id": "6byGhnGicAQ6",
    "outputId": "8135d17a-6eb1-4f36-e67a-b68cf369faec"
   },
   "outputs": [
    {
     "name": "stdout",
     "output_type": "stream",
     "text": [
      "--2020-06-15 00:56:20--  http://downloads.cs.stanford.edu/nlp/data/glove.6B.zip\n",
      "Resolving downloads.cs.stanford.edu (downloads.cs.stanford.edu)... 171.64.64.22\n",
      "Connecting to downloads.cs.stanford.edu (downloads.cs.stanford.edu)|171.64.64.22|:80... connected.\n",
      "HTTP request sent, awaiting response... 200 OK\n",
      "Length: 862182613 (822M) [application/zip]\n",
      "Saving to: ‘glove.6B.zip’\n",
      "\n",
      "glove.6B.zip        100%[===================>] 822.24M  1.98MB/s    in 6m 29s  \n",
      "\n",
      "2020-06-15 01:02:49 (2.11 MB/s) - ‘glove.6B.zip’ saved [862182613/862182613]\n",
      "\n"
     ]
    }
   ],
   "source": [
    "#!wget http://nlp.stanford.edu/data/glove.42B.300d.zip\n",
    "!wget http://downloads.cs.stanford.edu/nlp/data/glove.6B.zip"
   ]
  },
  {
   "cell_type": "markdown",
   "metadata": {
    "colab_type": "text",
    "id": "dw7fSk-4PnBp"
   },
   "source": [
    "- Unzipping the file, you will find pre-trained embeddings for various different dimensions. We will load the 300 dimension version in the file 'glove.6B.300d.txt'"
   ]
  },
  {
   "cell_type": "code",
   "execution_count": 28,
   "metadata": {
    "colab": {
     "base_uri": "https://localhost:8080/",
     "height": 105
    },
    "colab_type": "code",
    "id": "f0cGBW7BgIBG",
    "outputId": "22f9933e-e317-4de6-ac19-8827f76c7714"
   },
   "outputs": [
    {
     "name": "stdout",
     "output_type": "stream",
     "text": [
      "Archive:  glove.6B.zip\n",
      "  inflating: glove.6B.50d.txt        \n",
      "  inflating: glove.6B.100d.txt       \n",
      "  inflating: glove.6B.200d.txt       \n",
      "  inflating: glove.6B.300d.txt       \n"
     ]
    }
   ],
   "source": [
    "# extract the embedding files\n",
    "!unzip glove.6B.zip"
   ]
  },
  {
   "cell_type": "markdown",
   "metadata": {
    "colab_type": "text",
    "id": "g6XoUFZmKIbK"
   },
   "source": [
    "- The first step is to load the word embedding as a directory of words to vectors. The Glove file does not contain a header file, so we do not need to skip the first line when loading the embedding into memory. The function below named load_embedding( ) loads the embedding and returns a dictionary of words mapped to the vectors in NumPy format."
   ]
  },
  {
   "cell_type": "code",
   "execution_count": 0,
   "metadata": {
    "colab": {},
    "colab_type": "code",
    "id": "HMZ0l5TobuPx"
   },
   "outputs": [],
   "source": [
    "# load embedding as a dictionary\n",
    "def load_embedding(filename):\n",
    "    # load embedding into memory, skip first line\n",
    "    file = open(filename, mode='r', encoding='utf-8')    \n",
    "    # create a map of words to vectors\n",
    "    embedding = dict()\n",
    "    for line in file:\n",
    "        values = line.split()\n",
    "        # key is string word, value is numpy array for vector\n",
    "        embedding[values[0]] = asarray(values[1:], dtype='float32')\n",
    "    # close the file\n",
    "    file.close()\n",
    "    return embedding\n",
    "\n",
    "# load embedding from file\n",
    "raw_embeddings = load_embedding('/content/glove.6B.300d.txt')"
   ]
  },
  {
   "cell_type": "code",
   "execution_count": 30,
   "metadata": {
    "colab": {
     "base_uri": "https://localhost:8080/",
     "height": 1000
    },
    "colab_type": "code",
    "id": "gMYY_6NNZK9X",
    "outputId": "ac22c50a-eb22-4e8a-b018-d3d32b1d2373",
    "scrolled": false
   },
   "outputs": [
    {
     "data": {
      "text/plain": [
       "[('the',\n",
       "  array([ 4.6560e-02,  2.1318e-01, -7.4364e-03, -4.5854e-01, -3.5639e-02,\n",
       "          2.3643e-01, -2.8836e-01,  2.1521e-01, -1.3486e-01, -1.6413e+00,\n",
       "         -2.6091e-01,  3.2434e-02,  5.6621e-02, -4.3296e-02, -2.1672e-02,\n",
       "          2.2476e-01, -7.5129e-02, -6.7018e-02, -1.4247e-01,  3.8825e-02,\n",
       "         -1.8951e-01,  2.9977e-01,  3.9305e-01,  1.7887e-01, -1.7343e-01,\n",
       "         -2.1178e-01,  2.3617e-01, -6.3681e-02, -4.2318e-01, -1.1661e-01,\n",
       "          9.3754e-02,  1.7296e-01, -3.3073e-01,  4.9112e-01, -6.8995e-01,\n",
       "         -9.2462e-02,  2.4742e-01, -1.7991e-01,  9.7908e-02,  8.3118e-02,\n",
       "          1.5299e-01, -2.7276e-01, -3.8934e-02,  5.4453e-01,  5.3737e-01,\n",
       "          2.9105e-01, -7.3514e-03,  4.7880e-02, -4.0760e-01, -2.6759e-02,\n",
       "          1.7919e-01,  1.0977e-02, -1.0963e-01, -2.6395e-01,  7.3990e-02,\n",
       "          2.6236e-01, -1.5080e-01,  3.4623e-01,  2.5758e-01,  1.1971e-01,\n",
       "         -3.7135e-02, -7.1593e-02,  4.3898e-01, -4.0764e-02,  1.6425e-02,\n",
       "         -4.4640e-01,  1.7197e-01,  4.6246e-02,  5.8639e-02,  4.1499e-02,\n",
       "          5.3948e-01,  5.2495e-01,  1.1361e-01, -4.8315e-02, -3.6385e-01,\n",
       "          1.8704e-01,  9.2761e-02, -1.1129e-01, -4.2085e-01,  1.3992e-01,\n",
       "         -3.9338e-01, -6.7945e-02,  1.2188e-01,  1.6707e-01,  7.5169e-02,\n",
       "         -1.5529e-02, -1.9499e-01,  1.9638e-01,  5.3194e-02,  2.5170e-01,\n",
       "         -3.4845e-01, -1.0638e-01, -3.4692e-01, -1.9024e-01, -2.0040e-01,\n",
       "          1.2154e-01, -2.9208e-01,  2.3353e-02, -1.1618e-01, -3.5768e-01,\n",
       "          6.2304e-02,  3.5884e-01,  2.9060e-02,  7.3005e-03,  4.9482e-03,\n",
       "         -1.5048e-01, -1.2313e-01,  1.9337e-01,  1.2173e-01,  4.4503e-01,\n",
       "          2.5147e-01,  1.0781e-01, -1.7716e-01,  3.8691e-02,  8.1530e-02,\n",
       "          1.4667e-01,  6.3666e-02,  6.1332e-02, -7.5569e-02, -3.7724e-01,\n",
       "          1.5850e-02, -3.0342e-01,  2.8374e-01, -4.2013e-02, -4.0715e-02,\n",
       "         -1.5269e-01,  7.4980e-02,  1.5577e-01,  1.0433e-01,  3.1393e-01,\n",
       "          1.9309e-01,  1.9429e-01,  1.5185e-01, -1.0192e-01, -1.8785e-02,\n",
       "          2.0791e-01,  1.3366e-01,  1.9038e-01, -2.5558e-01,  3.0400e-01,\n",
       "         -1.8960e-02,  2.0147e-01, -4.2110e-01, -7.5156e-03, -2.7977e-01,\n",
       "         -1.9314e-01,  4.6204e-02,  1.9971e-01, -3.0207e-01,  2.5735e-01,\n",
       "          6.8107e-01, -1.9409e-01,  2.3984e-01,  2.2493e-01,  6.5224e-01,\n",
       "         -1.3561e-01, -1.7383e-01, -4.8209e-02, -1.1860e-01,  2.1588e-03,\n",
       "         -1.9525e-02,  1.1948e-01,  1.9346e-01, -4.0820e-01, -8.2966e-02,\n",
       "          1.6626e-01, -1.0601e-01,  3.5861e-01,  1.6922e-01,  7.2590e-02,\n",
       "         -2.4803e-01, -1.0024e-01, -5.2491e-01, -1.7745e-01, -3.6647e-01,\n",
       "          2.6180e-01, -1.2077e-02,  8.3190e-02, -2.1528e-01,  4.1045e-01,\n",
       "          2.9136e-01,  3.0869e-01,  7.8864e-02,  3.2207e-01, -4.1023e-02,\n",
       "         -1.0970e-01, -9.2041e-02, -1.2339e-01, -1.6416e-01,  3.5382e-01,\n",
       "         -8.2774e-02,  3.3171e-01, -2.4738e-01, -4.8928e-02,  1.5746e-01,\n",
       "          1.8988e-01, -2.6642e-02,  6.3315e-02, -1.0673e-02,  3.4089e-01,\n",
       "          1.4106e+00,  1.3417e-01,  2.8191e-01, -2.5940e-01,  5.5267e-02,\n",
       "         -5.2425e-02, -2.5789e-01,  1.9127e-02, -2.2084e-02,  3.2113e-01,\n",
       "          6.8818e-02,  5.1207e-01,  1.6478e-01, -2.0194e-01,  2.9232e-01,\n",
       "          9.8575e-02,  1.3145e-02, -1.0652e-01,  1.3510e-01, -4.5332e-02,\n",
       "          2.0697e-01, -4.8425e-01, -4.4706e-01,  3.3305e-03,  2.9264e-03,\n",
       "         -1.0975e-01, -2.3325e-01,  2.2442e-01, -1.0503e-01,  1.2339e-01,\n",
       "          1.0978e-01,  4.8994e-02, -2.5157e-01,  4.0319e-01,  3.5318e-01,\n",
       "          1.8651e-01, -2.3622e-02, -1.2734e-01,  1.1475e-01,  2.7359e-01,\n",
       "         -2.1866e-01,  1.5794e-02,  8.1754e-01, -2.3792e-02, -8.5469e-01,\n",
       "         -1.6203e-01,  1.8076e-01,  2.8014e-02, -1.4340e-01,  1.3139e-03,\n",
       "         -9.1735e-02, -8.9704e-02,  1.1105e-01, -1.6703e-01,  6.8377e-02,\n",
       "         -8.7388e-02, -3.9789e-02,  1.4184e-02,  2.1187e-01,  2.8579e-01,\n",
       "         -2.8797e-01, -5.8996e-02, -3.2436e-02, -4.7009e-03, -1.7052e-01,\n",
       "         -3.4741e-02, -1.1489e-01,  7.5093e-02,  9.9526e-02,  4.8183e-02,\n",
       "         -7.3775e-02, -4.1817e-01,  4.1268e-03,  4.4414e-01, -1.6062e-01,\n",
       "          1.4294e-01, -2.2628e+00, -2.7347e-02,  8.1311e-01,  7.7417e-01,\n",
       "         -2.5639e-01, -1.1576e-01, -1.1982e-01, -2.1363e-01,  2.8429e-02,\n",
       "          2.7261e-01,  3.1026e-02,  9.6782e-02,  6.7769e-03,  1.4082e-01,\n",
       "         -1.3064e-02, -2.9686e-01, -7.9913e-02,  1.9500e-01,  3.1549e-02,\n",
       "          2.8506e-01, -8.7461e-02,  9.0611e-03, -2.0989e-01,  5.3913e-02],\n",
       "        dtype=float32)),\n",
       " (',', array([-2.5539e-01, -2.5723e-01,  1.3169e-01, -4.2688e-02,  2.1817e-01,\n",
       "         -2.2702e-02, -1.7854e-01,  1.0756e-01,  5.8936e-02, -1.3854e+00,\n",
       "          5.8509e-01,  3.6501e-02, -1.9846e-01,  1.9613e-01,  4.0929e-01,\n",
       "          1.5702e-01, -1.5305e-01,  5.0447e-02,  3.0045e-01, -1.1295e-01,\n",
       "         -1.7043e-02,  1.8593e-01,  1.9982e-01,  2.0053e-01, -6.3141e-01,\n",
       "         -1.2622e-01,  2.9510e-01, -2.6282e-01, -1.5831e-01,  1.2383e-03,\n",
       "          1.1784e-02,  5.8758e-01, -1.5914e-01,  2.7731e-01, -8.2343e-01,\n",
       "         -2.1134e-01,  1.3414e-02,  1.9637e-01, -4.1470e-01,  1.0276e-03,\n",
       "          1.3422e-01, -1.4205e-01,  5.1545e-02,  3.4993e-01, -2.9868e-01,\n",
       "         -3.2090e-01,  1.9566e-01,  4.7886e-01,  1.0744e-01,  1.0004e-02,\n",
       "          1.8503e-01,  8.0694e-02,  2.0739e-01, -9.7365e-02, -3.9448e-02,\n",
       "          2.0151e-02, -1.7378e-01,  2.5679e-01,  2.4198e-01, -3.5100e-01,\n",
       "          1.8759e-01,  6.3857e-03,  1.8395e-01, -1.3929e-01,  8.1855e-03,\n",
       "         -6.3109e-01,  2.9832e-01,  3.1731e-01,  1.3022e-01, -3.2284e-01,\n",
       "         -5.0343e-02, -1.1400e-01,  1.2097e-01,  1.4687e-01, -3.3244e-01,\n",
       "         -5.5789e-02, -5.8490e-02,  2.7551e-01, -4.3855e-02,  3.9664e-02,\n",
       "          1.5162e-01, -8.6627e-02,  6.7729e-02,  2.3146e-01,  1.5351e-02,\n",
       "         -1.5142e-01, -3.1975e-02,  4.5181e-01, -6.8806e-02, -7.7058e-02,\n",
       "          5.5193e-02,  5.4596e-02, -2.4708e-01,  3.1113e-02, -1.2826e-01,\n",
       "          1.2782e-01, -4.6708e-01, -2.6264e-02,  1.0387e-02, -3.3174e-01,\n",
       "          1.7277e-01, -2.6894e-01,  2.0467e-01, -1.6181e-01, -4.1519e-02,\n",
       "         -1.4878e-02,  1.0279e-01,  1.8868e-01, -2.3396e-01, -1.8436e-02,\n",
       "         -1.4747e-01, -3.2685e-01, -2.2055e-02, -5.4000e-02,  1.6264e-01,\n",
       "          2.7095e-01, -2.2792e-01, -7.7006e-03,  1.1206e-01, -3.9787e-02,\n",
       "         -1.1906e-01,  2.1773e-02,  5.5280e-02, -1.3318e-01, -5.6867e-02,\n",
       "          8.3040e-03, -2.7021e-02,  2.3447e-01,  8.6864e-02,  1.2009e-01,\n",
       "         -3.0726e-01,  2.4735e-03,  2.9041e-01, -4.4887e-02,  1.2297e-01,\n",
       "          1.3077e-01,  9.0807e-02, -3.9141e-01,  8.0546e-02,  1.8724e-01,\n",
       "         -9.7481e-02,  1.0397e-01,  1.1492e-01,  1.7775e-01, -1.8167e-01,\n",
       "          2.4652e-01,  2.0136e-01, -2.3395e-01, -3.5018e-01, -1.4061e-01,\n",
       "          1.7091e-01, -9.5465e-02, -1.0962e-01, -9.8360e-02,  1.5344e-01,\n",
       "          8.8680e-02, -2.2048e-01, -1.3803e-01, -1.1288e-01, -8.5340e-02,\n",
       "          7.2735e-02, -1.2732e-01, -1.9640e-01, -1.0586e-01,  2.0616e-03,\n",
       "          1.3496e-01,  5.8912e-02, -4.3979e-02, -9.1375e-02,  2.4408e-01,\n",
       "          1.6872e-01,  2.4297e-01, -4.3983e-01,  4.7089e-01, -1.8595e-02,\n",
       "          1.6146e-01,  1.9828e-01, -1.7237e-01, -2.6998e-03,  5.2097e-01,\n",
       "         -8.0197e-02,  4.3324e-01, -6.6261e-02,  4.3240e-02,  8.4954e-02,\n",
       "         -1.4836e-01, -4.1936e-01,  1.5988e-01, -1.8411e-01,  1.3210e-01,\n",
       "          2.7476e-01,  2.7279e-01, -1.3465e-01, -9.1238e-02, -3.2523e-01,\n",
       "          2.7936e-01,  2.3296e-02, -3.3472e-01,  1.6878e-02, -5.5544e-02,\n",
       "          9.2915e-01, -3.3914e-01, -1.4791e-01,  1.7301e-02,  1.8272e-01,\n",
       "          3.5108e-01, -1.1438e-01,  1.3228e-01, -2.1064e-02, -2.7453e-01,\n",
       "         -1.0081e-01, -4.6296e-02,  2.1689e-01, -5.6319e-02,  1.4651e-01,\n",
       "         -2.3536e-02,  6.8026e-02, -4.5453e-02, -2.3851e-01, -3.3868e-01,\n",
       "          3.1396e-01, -3.1914e-02, -1.9217e-02,  1.8715e-03, -1.3328e-01,\n",
       "          7.0148e-02, -3.9761e-02,  7.0801e-02,  1.8422e-03, -1.2646e-01,\n",
       "          2.8675e-02, -9.5728e-02,  2.6673e-01, -3.5536e-01,  1.5286e-01,\n",
       "          6.4565e-02,  1.2647e-01,  2.3397e-01, -4.6058e-02,  1.3519e-01,\n",
       "         -1.4549e-01,  2.3031e-01,  4.2066e-01,  1.6267e-01, -1.6541e-01,\n",
       "         -2.0155e-03,  8.0653e-02, -3.0025e-01, -7.6014e-02,  7.0612e-02,\n",
       "          3.1570e-01,  5.3520e-02, -1.0721e-01, -1.3660e-01,  3.2214e-01,\n",
       "          2.0040e-01,  1.1609e-01, -2.2501e-01,  1.2155e-01, -1.0851e-01,\n",
       "         -6.3187e-02, -2.4553e-01, -5.9751e-02,  6.8787e-02, -1.1627e-01,\n",
       "         -8.3402e-03,  5.2044e-03, -2.0159e-01, -2.3663e-02,  1.7562e-01,\n",
       "         -3.1475e-01, -1.1162e-01, -1.2492e-01,  1.0949e-01, -2.6913e-01,\n",
       "          3.4893e-01, -1.6997e+00, -2.4470e-01,  3.0292e-01,  5.6720e-02,\n",
       "         -3.1737e-01,  8.3612e-02,  9.5949e-02, -1.7590e-01,  1.0235e-01,\n",
       "          3.6808e-01, -3.4380e-01,  2.0607e-01,  1.9135e-01,  1.0992e-01,\n",
       "          7.5968e-02, -1.4359e-02, -7.3794e-02,  2.2176e-01,  1.4652e-01,\n",
       "          5.6686e-01,  5.3307e-02, -2.3290e-01, -1.2226e-01,  3.5499e-01],\n",
       "        dtype=float32)),\n",
       " ('.', array([-1.2559e-01,  1.3630e-02,  1.0306e-01, -1.0123e-01,  9.8128e-02,\n",
       "          1.3627e-01, -1.0721e-01,  2.3697e-01,  3.2870e-01, -1.6785e+00,\n",
       "          2.2393e-01,  1.2409e-01, -8.6708e-02,  3.3010e-01,  3.4375e-01,\n",
       "         -8.7582e-04, -2.9658e-01,  2.4417e-01, -1.1592e-01, -3.5742e-02,\n",
       "         -1.0830e-02,  2.0776e-01,  2.9285e-01, -7.3491e-02, -1.8598e-01,\n",
       "         -2.0090e-01, -9.5366e-02,  6.3732e-03, -1.3620e-01,  9.2028e-02,\n",
       "         -3.9957e-02,  1.9027e-01, -1.0456e-01,  2.7670e-03, -7.1742e-01,\n",
       "         -1.2915e-01, -1.3451e-03,  2.7002e-01, -5.3023e-02,  2.2148e-01,\n",
       "          1.3881e-01, -1.5051e-01, -1.9150e-01,  1.6402e-01,  9.7484e-02,\n",
       "          5.6841e-02,  3.9789e-01,  4.0725e-01,  1.4802e-01,  2.1569e-01,\n",
       "         -1.0671e-01, -1.0232e-01,  2.4810e-02, -2.2100e-01, -1.0720e-02,\n",
       "          1.4234e-01, -2.8242e-01,  1.9254e-01,  8.6720e-02, -3.8970e-01,\n",
       "          1.1321e-01,  1.3779e-03,  6.4009e-03, -1.6206e-01, -8.2153e-02,\n",
       "         -5.5397e-01,  3.6789e-01, -4.0159e-03,  2.0710e-01, -3.7157e-01,\n",
       "          2.5135e-01, -1.9544e-01, -4.7059e-02,  1.7155e-01, -2.4036e-01,\n",
       "         -4.6086e-02,  1.9429e-01, -1.8939e-01, -7.1974e-03,  6.9481e-02,\n",
       "          5.9175e-02, -1.7585e-01,  1.0653e-01,  1.6933e-01, -3.6122e-02,\n",
       "          2.9911e-02, -1.1830e-01,  1.3916e-01, -3.7951e-02,  1.0690e-01,\n",
       "         -2.6069e-01, -1.0307e-01, -1.2272e-01, -1.5032e-01, -4.2409e-02,\n",
       "          1.3354e-02, -2.8510e-01,  1.1248e-02,  1.6073e-01, -1.6384e-01,\n",
       "          2.1233e-01, -1.8476e-01, -9.0874e-04,  6.6687e-02,  1.6918e-01,\n",
       "         -3.5004e-01,  9.9016e-02,  4.6393e-01, -1.9462e-01,  1.0346e-01,\n",
       "         -2.5668e-01, -3.6516e-01, -1.8963e-01, -2.1933e-01,  2.4634e-02,\n",
       "          6.5627e-02, -1.1120e-01, -1.6400e-01,  1.0874e-02, -8.4688e-02,\n",
       "         -1.4923e-01, -7.0223e-02,  2.8887e-02,  8.3497e-02, -1.6193e-02,\n",
       "         -2.4926e-03,  1.7186e-01,  9.8749e-03,  8.0237e-02,  1.4774e-01,\n",
       "          4.3206e-02,  2.7716e-01,  5.7697e-01, -4.1297e-02,  1.2765e-01,\n",
       "         -9.1517e-02,  1.4132e-01,  8.7579e-02,  9.3224e-02,  1.5346e-02,\n",
       "         -1.9856e-01,  1.7277e-02, -1.0708e-01, -1.3059e-02, -3.7227e-01,\n",
       "          7.8568e-02,  1.6677e-01, -1.5359e-01, -3.3294e-01,  3.6986e-02,\n",
       "          1.1697e-01,  3.9781e-02,  3.8464e-02, -1.6247e-01,  4.1280e-01,\n",
       "         -7.7491e-02,  4.5490e-02,  1.1330e-01,  8.2177e-03, -2.5052e-01,\n",
       "          7.0966e-02, -1.1388e-01, -1.1503e-01, -1.1014e-01,  1.0499e-01,\n",
       "          1.5878e-01, -2.7023e-01, -1.1006e-02,  7.6057e-04,  3.3902e-01,\n",
       "          2.5564e-01,  1.6342e-01, -5.6019e-01,  1.3055e-01,  7.6311e-02,\n",
       "         -2.8334e-02,  2.8721e-01, -2.7844e-02, -1.1561e-01,  3.4925e-01,\n",
       "         -1.2420e-01,  2.1405e-01,  2.4116e-01, -3.1343e-02,  1.0913e-01,\n",
       "         -2.4755e-01, -4.5429e-02, -8.2178e-02, -1.8831e-01,  1.8446e-01,\n",
       "         -9.7074e-02,  3.2395e-01,  1.0658e-01, -2.6676e-01, -2.7311e-01,\n",
       "          1.7181e-02,  2.5796e-01, -2.8048e-01,  3.0790e-01, -2.1800e-01,\n",
       "          8.7415e-01, -1.2297e-01,  1.0991e-01, -2.9797e-01,  1.3394e-01,\n",
       "          1.0615e-01, -1.0789e-01, -3.5976e-01, -1.8311e-01, -4.5133e-01,\n",
       "          3.4967e-02, -1.9847e-01,  2.1965e-01,  8.1520e-02,  2.5810e-01,\n",
       "          4.0173e-02,  3.1394e-02,  1.9069e-01,  7.5800e-02, -6.0638e-02,\n",
       "          2.0739e-01,  9.8390e-03, -2.6930e-01,  6.6515e-02, -1.0711e-01,\n",
       "          5.9916e-03,  2.3284e-01, -5.8663e-02,  9.8993e-02, -8.1464e-02,\n",
       "          6.7004e-02, -1.4305e-01,  2.5506e-01, -3.1971e-01, -3.1070e-02,\n",
       "         -9.2451e-02,  2.9440e-01,  2.8947e-01, -5.9804e-02,  2.4286e-01,\n",
       "         -1.6755e-01,  4.2031e-02,  5.1261e-01,  2.4525e-01, -6.5983e-01,\n",
       "          6.2456e-02,  5.2204e-02, -2.5717e-02, -8.0613e-02,  8.0869e-02,\n",
       "          2.2821e-01, -1.0217e-01, -2.0719e-01, -1.2123e-02,  3.4916e-01,\n",
       "          8.6527e-02,  6.6288e-02, -9.9828e-02,  2.5843e-01,  1.1943e-01,\n",
       "         -1.3667e-01, -4.3962e-01,  2.3704e-01,  3.1296e-02,  7.4701e-02,\n",
       "         -2.2387e-01,  7.8162e-03, -1.9016e-01,  4.4444e-02,  2.0191e-01,\n",
       "         -2.0814e-01, -2.8382e-01,  1.0427e-01, -2.1098e-01,  1.8865e-01,\n",
       "          3.1659e-01, -2.0753e+00, -7.1045e-02,  5.2419e-01,  5.6023e-02,\n",
       "         -2.5295e-01, -6.2168e-02, -1.0989e-01, -3.5755e-01, -7.9244e-02,\n",
       "          3.7472e-01, -2.8353e-01,  1.6337e-01,  1.1165e-01, -9.8002e-02,\n",
       "          6.0148e-02, -1.5619e-01, -1.1949e-01,  2.3445e-01,  8.1367e-02,\n",
       "          2.4618e-01, -1.5242e-01, -3.4224e-01, -2.2394e-02,  1.3684e-01],\n",
       "        dtype=float32))]"
      ]
     },
     "execution_count": 30,
     "metadata": {
      "tags": []
     },
     "output_type": "execute_result"
    }
   ],
   "source": [
    "# check first 3 raw embeddings\n",
    "list(islice(raw_embeddings.items(), 3))"
   ]
  },
  {
   "cell_type": "markdown",
   "metadata": {
    "colab_type": "text",
    "id": "236INLN5Lz7C"
   },
   "source": [
    "- Now that we have all of the vectors in memory, we can order them in such a way as to match the integer encoding prepared by the Keras Tokenizer.\n",
    "\n",
    "- It is possible that the loaded embedding does not contain all of the words in our chosen vocabulary. As such, when creating the Embedding weight matrix, we need to skip words that do not have a corresponding vector in the loaded GloVe data.\n",
    "\n",
    "- Recall that we integer encode the review documents prior to passing them to the Embedding layer. The integer maps to the index of a specific vector in the embedding layer. Therefore, it is important that we lay the vectors out in the Embedding layer such that the encoded words map to the correct vector.\n",
    "\n",
    "- Below function get_weight_matrix( ) takes the loaded embedding and the tokenizer.word_index vocabulary as arguments and returns a matrix with the word vectors in the correct locations."
   ]
  },
  {
   "cell_type": "code",
   "execution_count": 0,
   "metadata": {
    "colab": {},
    "colab_type": "code",
    "id": "17KOpseec2gF"
   },
   "outputs": [],
   "source": [
    "# create a weight matrix for the Embedding layer from the loaded embedding\n",
    "def get_weight_matrix(embedding, vocab, dim):\n",
    "    # total vocabulary size plus 1 for unknown words\n",
    "    vocab_size = len(vocab) + 1\n",
    "    # define weight matrix dimensions with all 0s\n",
    "    weight_matrix = zeros((vocab_size, dim))\n",
    "    # step vocab, store vectors using the Tokenizer's integer mapping\n",
    "    for word, i in vocab.items():\n",
    "        vector = embedding.get(word)\n",
    "        if vector is not None:\n",
    "            weight_matrix[i] = vector\n",
    "    return weight_matrix\n",
    "\n",
    "# get vectors in the right order\n",
    "embedding_vectors = get_weight_matrix(raw_embeddings, tokenizer.word_index, dim=300)"
   ]
  },
  {
   "cell_type": "markdown",
   "metadata": {
    "colab_type": "text",
    "id": "zplRCvNd3JQg"
   },
   "source": [
    "## 5. Define and Test the Model\n",
    "\n",
    "- We are now ready to define our neural network model. The model will use an Embedding layer as the first hidden layer. The Embedding requires the specification of the vocabulary size, the size of the real-valued vector space and the maximum length of input documents.\n",
    "\n",
    "- Note that the prepared weight matrix embedding_vectors is passed to the new Embedding layer as an argument and that __we set the 'trainable' argument to 'False' to ensure that the network does not try to adapt the pre-learned vectors as part of training the network__. We will use a 300-dimensional vector space. Finally, the maximum document length was calculated above in the max_length variable used during padding.\n",
    "\n",
    "- The complete model definition is listed below including the Embedding layer. We use a Convolutional Neural Network (CNN) as they have proven to be successful at document classification problems. A CNN configuration is used with 128 filters (parallel fields for processing words) and a kernel size of 4 with a rectified linear (‘relu’) activation function. This is followed by a Dropout layer which turns off 40% of the neurons and helps prevent overfitting.\n",
    "\n",
    "- Next, the Max pooling layer help reduce the output of the convolutional layer by half. The 2D output from the CNN part of the model is flattened to one long 2D vector to represent the 'features' extracted by the CNN. The back-end of the model is a standard Multilayer Perceptron layers to interpret the CNN features. The output layer uses a sigmoid activation function to output a value between 0 and 1 for the negative and positive sentiment in the review."
   ]
  },
  {
   "cell_type": "code",
   "execution_count": 21,
   "metadata": {
    "colab": {
     "base_uri": "https://localhost:8080/",
     "height": 545
    },
    "colab_type": "code",
    "id": "918is9LhkY92",
    "outputId": "f2c201cf-1df5-4ec4-dd3c-8edc45a0a308"
   },
   "outputs": [
    {
     "name": "stdout",
     "output_type": "stream",
     "text": [
      "Model: \"sequential\"\n",
      "_________________________________________________________________\n",
      "Layer (type)                 Output Shape              Param #   \n",
      "=================================================================\n",
      "embedding (Embedding)        (None, 1380, 300)         13283100  \n",
      "_________________________________________________________________\n",
      "conv1d (Conv1D)              (None, 1377, 128)         153728    \n",
      "_________________________________________________________________\n",
      "dropout (Dropout)            (None, 1377, 128)         0         \n",
      "_________________________________________________________________\n",
      "max_pooling1d (MaxPooling1D) (None, 688, 128)          0         \n",
      "_________________________________________________________________\n",
      "conv1d_1 (Conv1D)            (None, 685, 128)          65664     \n",
      "_________________________________________________________________\n",
      "dropout_1 (Dropout)          (None, 685, 128)          0         \n",
      "_________________________________________________________________\n",
      "max_pooling1d_1 (MaxPooling1 (None, 342, 128)          0         \n",
      "_________________________________________________________________\n",
      "flatten (Flatten)            (None, 43776)             0         \n",
      "_________________________________________________________________\n",
      "dense (Dense)                (None, 128)               5603456   \n",
      "_________________________________________________________________\n",
      "dropout_2 (Dropout)          (None, 128)               0         \n",
      "_________________________________________________________________\n",
      "dense_1 (Dense)              (None, 1)                 129       \n",
      "=================================================================\n",
      "Total params: 19,106,077\n",
      "Trainable params: 5,822,977\n",
      "Non-trainable params: 13,283,100\n",
      "_________________________________________________________________\n"
     ]
    }
   ],
   "source": [
    "# define model\n",
    "model = tf.keras.models.Sequential()\n",
    "model.add(tf.keras.layers.Embedding(input_dim=vocab_size, output_dim=300, weights=[embedding_vectors], input_length=max_length, trainable=False))\n",
    "model.add(tf.keras.layers.Conv1D(filters=128, kernel_size=4, activation='relu'))\n",
    "model.add(tf.keras.layers.Dropout(0.4))\n",
    "model.add(tf.keras.layers.MaxPooling1D(pool_size=2))\n",
    "model.add(tf.keras.layers.Conv1D(filters=128, kernel_size=4, activation='relu'))\n",
    "model.add(tf.keras.layers.Dropout(0.4))\n",
    "model.add(tf.keras.layers.MaxPooling1D(pool_size=2))\n",
    "model.add(tf.keras.layers.Flatten())\n",
    "model.add(tf.keras.layers.Dense(units=128, activation='relu'))\n",
    "model.add(tf.keras.layers.Dropout(0.4))\n",
    "model.add(tf.keras.layers.Dense(units=1, activation='sigmoid'))\n",
    "model.summary()"
   ]
  },
  {
   "cell_type": "markdown",
   "metadata": {
    "colab_type": "text",
    "id": "Bw5R18ZckD6x"
   },
   "source": [
    "- Running the model provides a summary of the defined network. We can see that the Embedding layer expects documents with a length of 1380 words as input and encodes each word in the document as a 300 element vector."
   ]
  },
  {
   "cell_type": "code",
   "execution_count": 22,
   "metadata": {
    "colab": {
     "base_uri": "https://localhost:8080/",
     "height": 1000
    },
    "colab_type": "code",
    "id": "syPr7loNbjt6",
    "outputId": "c3717e66-f9b2-4f6c-ab1a-5dff8778bf0b"
   },
   "outputs": [
    {
     "data": {
      "image/png": "[encoded data removed]",
      "text/plain": [
       "<IPython.core.display.Image object>"
      ]
     },
     "execution_count": 22,
     "metadata": {
      "tags": []
     },
     "output_type": "execute_result"
    }
   ],
   "source": [
    "# plot the model\n",
    "tf.keras.utils.plot_model(model, to_file='txt_embed_cnn.png', show_shapes=True)"
   ]
  },
  {
   "cell_type": "markdown",
   "metadata": {
    "colab_type": "text",
    "id": "FNp2rjo1ewi6"
   },
   "source": [
    "- Next, we fit the network on the training data. We use a binary cross entropy loss function because the problem we are learning is a binary classification problem. The efficient Adam implementation of stochastic gradient descent is used and we keep track of accuracy in addition to loss during training. \n",
    "\n",
    "- We use early stopping which stops training when a monitored metric in our case validation loss i.e. 'val_loss' has stopped improving. We use a patience of 3 for stopping the training. \n",
    "\n",
    "- We also use model checkpoint which monitors validation loss i.e. 'val_loss' and only saves the model if the 'val_loss' for current epoch has been reduced than previous epoch.\n",
    "\n",
    "- The model is trained for 20 epochs or 20 passes through the training data with a batch size of 16.\n",
    "\n",
    "- The network configuration and training schedule were found with a little trial and error but are by no means optimal for this problem."
   ]
  },
  {
   "cell_type": "code",
   "execution_count": 0,
   "metadata": {
    "colab": {},
    "colab_type": "code",
    "id": "I4Gf54xlu43w"
   },
   "outputs": [],
   "source": [
    "# compile the model\n",
    "model.compile(optimizer='adam', loss='binary_crossentropy', metrics=['accuracy'])\n",
    "\n",
    "# define early stopping\n",
    "es = tf.keras.callbacks.EarlyStopping(monitor='val_loss', patience=3, verbose=1, mode='min')\n",
    "\n",
    "# define model checkpoint\n",
    "mckpt = tf.keras.callbacks.ModelCheckpoint('txt_embed_cnn.h5', monitor='val_loss', verbose=1, save_best_only=True, mode='min')"
   ]
  },
  {
   "cell_type": "code",
   "execution_count": 24,
   "metadata": {
    "colab": {
     "base_uri": "https://localhost:8080/",
     "height": 598
    },
    "colab_type": "code",
    "id": "13fbJkS8mmXI",
    "outputId": "06a094f8-4618-4da7-ea4d-e0c7c9af1ca1"
   },
   "outputs": [
    {
     "name": "stdout",
     "output_type": "stream",
     "text": [
      "Epoch 1/20\n",
      "113/113 [==============================] - ETA: 0s - loss: 0.7319 - accuracy: 0.5356\n",
      "Epoch 00001: val_loss improved from inf to 0.69127, saving model to txt_embed_cnn.h5\n",
      "113/113 [==============================] - 3s 23ms/step - loss: 0.7319 - accuracy: 0.5356 - val_loss: 0.6913 - val_accuracy: 0.5550\n",
      "Epoch 2/20\n",
      "110/113 [============================>.] - ETA: 0s - loss: 0.6579 - accuracy: 0.6165\n",
      "Epoch 00002: val_loss improved from 0.69127 to 0.57372, saving model to txt_embed_cnn.h5\n",
      "113/113 [==============================] - 2s 19ms/step - loss: 0.6552 - accuracy: 0.6200 - val_loss: 0.5737 - val_accuracy: 0.7450\n",
      "Epoch 3/20\n",
      "113/113 [==============================] - ETA: 0s - loss: 0.4504 - accuracy: 0.7861\n",
      "Epoch 00003: val_loss improved from 0.57372 to 0.36877, saving model to txt_embed_cnn.h5\n",
      "113/113 [==============================] - 2s 20ms/step - loss: 0.4504 - accuracy: 0.7861 - val_loss: 0.3688 - val_accuracy: 0.8400\n",
      "Epoch 4/20\n",
      "113/113 [==============================] - ETA: 0s - loss: 0.3595 - accuracy: 0.8489\n",
      "Epoch 00004: val_loss improved from 0.36877 to 0.35798, saving model to txt_embed_cnn.h5\n",
      "113/113 [==============================] - 2s 19ms/step - loss: 0.3595 - accuracy: 0.8489 - val_loss: 0.3580 - val_accuracy: 0.8350\n",
      "Epoch 5/20\n",
      "112/113 [============================>.] - ETA: 0s - loss: 0.2506 - accuracy: 0.8940\n",
      "Epoch 00005: val_loss improved from 0.35798 to 0.34522, saving model to txt_embed_cnn.h5\n",
      "113/113 [==============================] - 2s 19ms/step - loss: 0.2501 - accuracy: 0.8939 - val_loss: 0.3452 - val_accuracy: 0.8550\n",
      "Epoch 6/20\n",
      "112/113 [============================>.] - ETA: 0s - loss: 0.2091 - accuracy: 0.9163\n",
      "Epoch 00006: val_loss did not improve from 0.34522\n",
      "113/113 [==============================] - 2s 16ms/step - loss: 0.2112 - accuracy: 0.9150 - val_loss: 0.4540 - val_accuracy: 0.8400\n",
      "Epoch 7/20\n",
      "111/113 [============================>.] - ETA: 0s - loss: 0.1630 - accuracy: 0.9307\n",
      "Epoch 00007: val_loss did not improve from 0.34522\n",
      "113/113 [==============================] - 2s 16ms/step - loss: 0.1626 - accuracy: 0.9306 - val_loss: 0.4004 - val_accuracy: 0.8450\n",
      "Epoch 8/20\n",
      "111/113 [============================>.] - ETA: 0s - loss: 0.1104 - accuracy: 0.9606\n",
      "Epoch 00008: val_loss did not improve from 0.34522\n",
      "113/113 [==============================] - 2s 16ms/step - loss: 0.1095 - accuracy: 0.9611 - val_loss: 0.3486 - val_accuracy: 0.8600\n",
      "Epoch 00008: early stopping\n"
     ]
    }
   ],
   "source": [
    "# fit the model\n",
    "history = model.fit(X_train, y_train, validation_data=(X_test, y_test), epochs=20, batch_size=16, callbacks=[es, mckpt])"
   ]
  },
  {
   "cell_type": "markdown",
   "metadata": {
    "colab_type": "text",
    "id": "sYtghFgpQKO9"
   },
   "source": [
    "- Running the example prints the loss and accuracy on training and validation data at the end of each training epoch. We can see that the model quickly achieves 96% accuracy on the training dataset. At the end of the run, the model achieves an accuracy of 8% on the test dataset which is a good score. This is equal to the [learned Embedding layer](https://github.com/tdikonda/natural_language_processing/blob/master/text_classification/Text_Classification_with_CNN.ipynb) approach.\n",
    "\n",
    "- After the model is fit, it is evaluated on the test dataset. This dataset contains words that we have not seen before and reviews not seen during training."
   ]
  },
  {
   "cell_type": "code",
   "execution_count": 25,
   "metadata": {
    "colab": {
     "base_uri": "https://localhost:8080/",
     "height": 34
    },
    "colab_type": "code",
    "id": "Hpq-aIZbu433",
    "outputId": "76413a7a-6a61-4248-daf7-c42ff575e852"
   },
   "outputs": [
    {
     "name": "stdout",
     "output_type": "stream",
     "text": [
      "7/7 [==============================] - 0s 17ms/step - loss: 0.3486 - accuracy: 0.8600\n"
     ]
    }
   ],
   "source": [
    "# evaluate model on test data\n",
    "loss, accuracy = model.evaluate(X_test, y_test)"
   ]
  },
  {
   "cell_type": "code",
   "execution_count": 26,
   "metadata": {
    "colab": {
     "base_uri": "https://localhost:8080/",
     "height": 34
    },
    "colab_type": "code",
    "id": "jRyxy_uNu436",
    "outputId": "4d9a4acc-6225-4f37-ce06-cf9930e222ca"
   },
   "outputs": [
    {
     "name": "stdout",
     "output_type": "stream",
     "text": [
      "Test Accuracy : 86.00\n"
     ]
    }
   ],
   "source": [
    "# Get accuracy on test dataset\n",
    "print(f'Test Accuracy : {accuracy*100:.2f}')"
   ]
  },
  {
   "cell_type": "code",
   "execution_count": 27,
   "metadata": {
    "colab": {
     "base_uri": "https://localhost:8080/",
     "height": 369
    },
    "colab_type": "code",
    "id": "jMtqsPKUa-WG",
    "outputId": "007d91a2-f711-472e-8762-bf1674cb468b"
   },
   "outputs": [
    {
     "data": {
      "image/png": "[encoded data removed]",
      "text/plain": [
       "<Figure size 720x360 with 1 Axes>"
      ]
     },
     "metadata": {
      "needs_background": "light",
      "tags": []
     },
     "output_type": "display_data"
    }
   ],
   "source": [
    "# Plot Model Accuracy\n",
    "plt.figure(figsize=(10, 5))\n",
    "plt.plot(history.history['accuracy'])\n",
    "plt.plot(history.history['val_accuracy'])\n",
    "plt.title('Model Accuracy')\n",
    "plt.ylabel('Accuracy')\n",
    "plt.xlabel('Epoch')\n",
    "plt.legend(labels=['Train', 'Test'], fontsize='large')\n",
    "plt.tight_layout()"
   ]
  },
  {
   "cell_type": "code",
   "execution_count": 28,
   "metadata": {
    "colab": {
     "base_uri": "https://localhost:8080/",
     "height": 369
    },
    "colab_type": "code",
    "id": "OQYwl_9GkaM1",
    "outputId": "148ce1a9-cb3b-4dc0-de5c-da219b3bdcd1"
   },
   "outputs": [
    {
     "data": {
      "image/png": "[encoded data removed]",
      "text/plain": [
       "<Figure size 720x360 with 1 Axes>"
      ]
     },
     "metadata": {
      "needs_background": "light",
      "tags": []
     },
     "output_type": "display_data"
    }
   ],
   "source": [
    "# Plot Model Loss\n",
    "plt.figure(figsize=(10, 5))\n",
    "plt.plot(history.history['loss'])\n",
    "plt.plot(history.history['val_loss'])\n",
    "plt.title('Model Loss')\n",
    "plt.ylabel('Loss')\n",
    "plt.xlabel('Epoch')\n",
    "plt.legend(labels=['Train', 'Test'], fontsize='large')\n",
    "plt.tight_layout()"
   ]
  },
  {
   "cell_type": "markdown",
   "metadata": {
    "colab_type": "text",
    "id": "WRph032rYeB0"
   },
   "source": [
    "[How to Develop a Deep Convolutional Neural Network for Sentiment Analysis (Text Classification)](https://machinelearningmastery.com/develop-word-embedding-model-predicting-movie-review-sentiment/)\n",
    "\n",
    "[Text classification using pre-trained word embeddings](https://keras.io/examples/nlp/pretrained_word_embeddings/)\n",
    "\n",
    "[Best Practices for Text Classification with Deep Learning](https://machinelearningmastery.com/best-practices-document-classification-deep-learning/)"
   ]
  }
 ],
 "metadata": {
  "accelerator": "GPU",
  "colab": {
   "collapsed_sections": [],
   "name": "Text_Classification_with_Pre-trained_Embeddings_&_CNN.ipynb",
   "provenance": []
  },
  "kernelspec": {
   "display_name": "Python 3",
   "language": "python",
   "name": "python3"
  },
  "language_info": {
   "codemirror_mode": {
    "name": "ipython",
    "version": 3
   },
   "file_extension": ".py",
   "mimetype": "text/x-python",
   "name": "python",
   "nbconvert_exporter": "python",
   "pygments_lexer": "ipython3",
   "version": "3.7.6"
  },
  "latex_envs": {
   "LaTeX_envs_menu_present": true,
   "autoclose": false,
   "autocomplete": true,
   "bibliofile": "biblio.bib",
   "cite_by": "apalike",
   "current_citInitial": 1,
   "eqLabelWithNumbers": true,
   "eqNumInitial": 1,
   "hotkeys": {
    "equation": "Ctrl-E",
    "itemize": "Ctrl-I"
   },
   "labels_anchors": false,
   "latex_user_defs": false,
   "report_style_numbering": false,
   "user_envs_cfg": false
  },
  "toc": {
   "base_numbering": 1,
   "nav_menu": {},
   "number_sections": true,
   "sideBar": true,
   "skip_h1_title": false,
   "title_cell": "Table of Contents",
   "title_sidebar": "Contents",
   "toc_cell": false,
   "toc_position": {},
   "toc_section_display": true,
   "toc_window_display": false
  },
  "varInspector": {
   "cols": {
    "lenName": 16,
    "lenType": 16,
    "lenVar": 40
   },
   "kernels_config": {
    "python": {
     "delete_cmd_postfix": "",
     "delete_cmd_prefix": "del ",
     "library": "var_list.py",
     "varRefreshCmd": "print(var_dic_list())"
    },
    "r": {
     "delete_cmd_postfix": ") ",
     "delete_cmd_prefix": "rm(",
     "library": "var_list.r",
     "varRefreshCmd": "cat(var_dic_list()) "
    }
   },
   "types_to_exclude": [
    "module",
    "function",
    "builtin_function_or_method",
    "instance",
    "_Feature"
   ],
   "window_display": false
  }
 },
 "nbformat": 4,
 "nbformat_minor": 1
}
