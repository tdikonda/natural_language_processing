{
 "cells": [
  {
   "cell_type": "markdown",
   "metadata": {
    "colab_type": "text",
    "id": "nfh6nJnv5KqG"
   },
   "source": [
    "# Text Classification with Deep Convolutional Neural Network (CNN)\n",
    "\n",
    "## 1. Movie Review Dataset\n",
    "\n",
    "- The Movie Review Data is a collection of movie reviews retrieved from imdb.com in the early 2000s by Bo Pang and Lillian Lee. The reviews were collected and made available as part of their research on natural language processing. The reviews were originally released in 2002, but an updated and cleaned up version were released in 2004, referred to as “v2.0”.\n",
    "\n",
    "- The dataset is comprised of 1,000 positive and 1,000 negative movie reviews drawn from an archive of rec.arts.movies.reviews newsgroup hosted at imdb.com. The authors refer to this dataset as the “polarity dataset.”\n",
    "\n",
    "- The data has been cleaned up somewhat, for example:\n",
    "    - The dataset is comprised of only English reviews.\n",
    "    - All text has been converted to lowercase.\n",
    "    - There is white space around punctuation like periods, commas and brackets.\n",
    "    - Text has been split into one sentence per line.\n",
    "\n",
    "- The data has been used for a few related natural language processing tasks. For classification, the performance of machine learning models (such as Support Vector Machines) on the data is in the range of high 70% to low 80% (e.g. 78%-82%).\n",
    "\n",
    "- More sophisticated data preparation may see results as high as 86% with 10-fold cross validation. This gives us a ballpark of low-to-mid 80s if we were looking to use this dataset in experiments of modern methods.\n",
    "\n",
    "- You can download the dataset from here :- [Movie Review Polarity Dataset](http://www.cs.cornell.edu/people/pabo/movie-review-data/review_polarity.tar.gz) (review_polarity.tar.gz, 3MB)\n",
    "\n",
    "- After unzipping the file, you will have a directory called “txt_sentoken” with two sub-directories containing the text “neg” and “pos” for negative and positive reviews respectively. Reviews are stored one per file with a naming convention cv000 to cv999 for each neg and pos."
   ]
  },
  {
   "cell_type": "code",
   "execution_count": 37,
   "metadata": {
    "colab": {
     "base_uri": "https://localhost:8080/",
     "height": 70
    },
    "colab_type": "code",
    "id": "Ez3tgG6tB47m",
    "outputId": "d2ebd9ef-bc65-45aa-cfd3-70565dcc31e1"
   },
   "outputs": [
    {
     "name": "stdout",
     "output_type": "stream",
     "text": [
      "[nltk_data] Downloading package stopwords to /root/nltk_data...\n",
      "[nltk_data]   Package stopwords is already up-to-date!\n",
      "TensorFlow Version is 2.2.0\n"
     ]
    }
   ],
   "source": [
    "# import necessary libraries\n",
    "from string import punctuation\n",
    "from itertools import islice\n",
    "import nltk\n",
    "nltk.download('stopwords')\n",
    "from nltk.corpus import stopwords\n",
    "from collections import Counter\n",
    "from os import listdir\n",
    "from numpy import array, asarray, zeros\n",
    "import tensorflow as tf\n",
    "import matplotlib.pyplot as plt\n",
    "\n",
    "# print tensorflow version\n",
    "print(f'TensorFlow Version is {tf.__version__}')"
   ]
  },
  {
   "cell_type": "markdown",
   "metadata": {
    "colab_type": "text",
    "id": "9X32NJEYhra1"
   },
   "source": [
    "[tf.keras.utils.get_file](https://www.tensorflow.org/api_docs/python/tf/keras/utils/get_file)"
   ]
  },
  {
   "cell_type": "code",
   "execution_count": 0,
   "metadata": {
    "colab": {},
    "colab_type": "code",
    "id": "steK-RmoZM5r"
   },
   "outputs": [],
   "source": [
    "# dataset URL\n",
    "#URL = 'http://www.cs.cornell.edu/people/pabo/movie-review-data/review_polarity.tar.gz'\n",
    "# get dataset and extract\n",
    "#path = tf.keras.utils.get_file('review_polarity', origin=URL, extract=True, cache_dir='/content/')\n",
    "#print(f'Path : {path}')"
   ]
  },
  {
   "cell_type": "code",
   "execution_count": 3,
   "metadata": {
    "colab": {
     "base_uri": "https://localhost:8080/",
     "height": 210
    },
    "colab_type": "code",
    "id": "X5nEu_BesUQy",
    "outputId": "4c81daef-d4e4-4c20-f201-e577b4e9d352"
   },
   "outputs": [
    {
     "name": "stdout",
     "output_type": "stream",
     "text": [
      "--2020-06-14 20:58:49--  http://www.cs.cornell.edu/people/pabo/movie-review-data/review_polarity.tar.gz\n",
      "Resolving www.cs.cornell.edu (www.cs.cornell.edu)... 132.236.207.20\n",
      "Connecting to www.cs.cornell.edu (www.cs.cornell.edu)|132.236.207.20|:80... connected.\n",
      "HTTP request sent, awaiting response... 200 OK\n",
      "Length: 3127238 (3.0M) [application/x-gzip]\n",
      "Saving to: ‘review_polarity.tar.gz’\n",
      "\n",
      "review_polarity.tar 100%[===================>]   2.98M  1.29MB/s    in 2.3s    \n",
      "\n",
      "2020-06-14 20:58:51 (1.29 MB/s) - ‘review_polarity.tar.gz’ saved [3127238/3127238]\n",
      "\n"
     ]
    }
   ],
   "source": [
    "# download the dataset\n",
    "!wget http://www.cs.cornell.edu/people/pabo/movie-review-data/review_polarity.tar.gz"
   ]
  },
  {
   "cell_type": "code",
   "execution_count": 0,
   "metadata": {
    "colab": {},
    "colab_type": "code",
    "id": "7qWg_IOWsUke"
   },
   "outputs": [],
   "source": [
    "# extract the data\n",
    "!tar -xf review_polarity.tar.gz"
   ]
  },
  {
   "cell_type": "markdown",
   "metadata": {
    "colab_type": "text",
    "id": "0FHqTpse8o5F"
   },
   "source": [
    "## 2. Data Preparation\n",
    "\n",
    "In this section, we will look at 3 things:\n",
    "\n",
    "* A. Separation of data into training and testing set.\n",
    "\n",
    "* B. Loading and cleaning the data to remove punctuation and numbers.\n",
    "\n",
    "* C. Defining a vocabulary of preferred words.\n",
    "\n",
    "### A. Split into Train and Test Sets\n",
    "- We are pretending that we are developing a system that can predict the sentiment of a textual movie review as either positive or negative.\n",
    "\n",
    "- This means that after the model is developed, we will need to make predictions on new textual reviews. This will require all of the same data preparation to be performed on those new reviews as it is performed on the training data for the model.\n",
    "\n",
    "- We will ensure that this constraint is built into the evaluation of our model by splitting the training and test datasets prior to any data preparation. This means that any knowledge in the data in the test set that could help us better prepare the data (e.g. the words used) are unavailable in the preparation of data used for training the model.\n",
    "\n",
    "- That being said, we will use the last 100 positive reviews and the last 100 negative reviews as a test set (100 reviews) and the remaining 1,800 reviews as the training dataset. This is a 90% train, 10% split of the data. The split can be imposed easily by using the filenames of the reviews where reviews named 000 to 899 are for training data and reviews named 900 onwards are for test.\n",
    "\n",
    "### B. Loading and Cleaning Reviews\n",
    "\n",
    "- The text data is already pretty clean not much preparation is required. If you are new to cleaning text data, see this post :- [How to Clean Text for Machine Learning with Python](https://machinelearningmastery.com/clean-text-machine-learning-python/)\n",
    "\n",
    "- We will prepare the data using the following way:\n",
    "\n",
    "    - Split tokens on white space.\n",
    "    - Remove all punctuation from words.\n",
    "    - Remove all words that are not purely comprised of alphabetical characters.\n",
    "    - Remove all words that are known stop words.\n",
    "    - Remove all words that have a length <= 1 character.\n",
    "\n",
    "- We can put all of these steps into a function called clean_text( ) that takes as an argument the raw text loaded from a file and returns a list of cleaned tokens. We can also define a function load_text( ) that loads a document from file ready for use with the clean_text( ) function."
   ]
  },
  {
   "cell_type": "code",
   "execution_count": 0,
   "metadata": {
    "colab": {},
    "colab_type": "code",
    "id": "sVh23CE4M1NG"
   },
   "outputs": [],
   "source": [
    "# load text into memory\n",
    "def load_text(filename):\n",
    "    # open the file as read only\n",
    "    file = open(filename, mode='r')\n",
    "    # read all the text\n",
    "    text = file.read()\n",
    "    #close the file\n",
    "    file.close()\n",
    "    return text"
   ]
  },
  {
   "cell_type": "code",
   "execution_count": 0,
   "metadata": {
    "colab": {},
    "colab_type": "code",
    "id": "bZdPSS2WNgmT"
   },
   "outputs": [],
   "source": [
    "# clean the text and return it as tokens\n",
    "def clean_text(text):\n",
    "    # split the text on white space\n",
    "    tokens = text.split()\n",
    "    # remove punctuations from each token\n",
    "    table = str.maketrans('', '', punctuation)\n",
    "    tokens = [t.translate(table) for t in tokens]\n",
    "    # remove remaining tokens that are not alphabetic\n",
    "    tokens = [word for word in tokens if word.isalpha()]\n",
    "    # filter out stop words\n",
    "    stop_words = set(stopwords.words('english'))\n",
    "    tokens = [word for word in tokens if not word in stop_words]\n",
    "    # filter out short tokens\n",
    "    tokens = [word for word in tokens if len(word) > 1]\n",
    "    return tokens"
   ]
  },
  {
   "cell_type": "markdown",
   "metadata": {
    "colab_type": "text",
    "id": "4DgfU5Sz9AjS"
   },
   "source": [
    "### C. Define a Vocabulary\n",
    "- It is important to define a vocabulary of known words when using a bag-of-words or embedding model. The more words, the larger the representation of documents, therefore it is important to constrain the words to only those believed to be predictive. This is difficult to know beforehand and often it is important to test different hypothesis about how to construct a useful vocabulary.\n",
    "\n",
    "- We have already seen how we can remove punctuation and numbers from the vocabulary in the previous section. We can repeat this for all documents and build a set of all known words. We can develop a vocabulary as a Counter, which is a dictionary mapping of words and their counts that allow us to easily update and query.\n",
    "\n",
    "- Each document can be added to the counter and we can step over all of the reviews in the negative directory and then the positive directory through a function called process_files( )."
   ]
  },
  {
   "cell_type": "code",
   "execution_count": 0,
   "metadata": {
    "colab": {},
    "colab_type": "code",
    "id": "XgDeqQEMTMaR"
   },
   "outputs": [],
   "source": [
    "# load all the files from the dataset directory\n",
    "def process_files(directory, vocab, is_train):\n",
    "    # walk through all files in the folder\n",
    "    for filename in listdir(directory):\n",
    "        # prepare training dataset\n",
    "        if is_train and filename.startswith('cv9'):\n",
    "            continue\n",
    "        # prepare testing dataset\n",
    "        if not is_train and not filename.startswith('cv9'):\n",
    "            continue\n",
    "        # create full path of the file to open\n",
    "        path = directory + '/' + filename\n",
    "        # load the text files\n",
    "        text = load_text(path)\n",
    "        # tokenize the text\n",
    "        tokens = clean_text(text)\n",
    "        # update vocab counts\n",
    "        vocab.update(tokens)"
   ]
  },
  {
   "cell_type": "code",
   "execution_count": 8,
   "metadata": {
    "colab": {
     "base_uri": "https://localhost:8080/",
     "height": 72
    },
    "colab_type": "code",
    "id": "rLYEb6Kmeinl",
    "outputId": "748f57e8-8b69-49f8-9898-3a9dc316b70a"
   },
   "outputs": [
    {
     "name": "stdout",
     "output_type": "stream",
     "text": [
      "Words in Vocabulary :- 44276\n",
      "Top 10 most common words in the Vocabulary :- [('film', 7983), ('one', 4946), ('movie', 4826), ('like', 3201), ('even', 2262), ('good', 2080), ('time', 2041), ('story', 1907), ('films', 1873), ('would', 1844)]\n"
     ]
    }
   ],
   "source": [
    "# define vocab Counter\n",
    "vocab = Counter()\n",
    "\n",
    "# add all files to vocab\n",
    "process_files('/content/txt_sentoken/pos', vocab, True)\n",
    "process_files('/content/txt_sentoken/neg', vocab, True)\n",
    "\n",
    "# print the size of vocabulary\n",
    "print(f'Words in Vocabulary :- {len(vocab)}')\n",
    "\n",
    "# print top 10 most common words in the vocabulary\n",
    "print(f'Top 10 most common words in the Vocabulary :- {vocab.most_common(10)}')"
   ]
  },
  {
   "cell_type": "markdown",
   "metadata": {
    "colab_type": "text",
    "id": "0p-IwS2JEIzH"
   },
   "source": [
    "-  The vocabulary can be saved to a new file called *vocab.txt* that we can later load and use to filter movie reviews prior to encoding them for modeling. We define a new function called save_list( ) that saves the vocabulary to file, with one word per file."
   ]
  },
  {
   "cell_type": "code",
   "execution_count": 0,
   "metadata": {
    "colab": {},
    "colab_type": "code",
    "id": "-S_fBTlcphfL"
   },
   "outputs": [],
   "source": [
    "tokens = [k for k, c in vocab.items()]\n",
    "\n",
    "# save tokens to a vocabulary file\n",
    "def save_list(tokens, filename):\n",
    "    # convert tokens to a single blob of text\n",
    "    data = '\\n'.join(tokens)\n",
    "    # open file\n",
    "    file = open(filename, mode='w')\n",
    "    # write text\n",
    "    file.write(data)\n",
    "    # close file\n",
    "    file.close()\n",
    "\n",
    "save_list(tokens, 'vocab.txt')"
   ]
  },
  {
   "cell_type": "code",
   "execution_count": 10,
   "metadata": {
    "colab": {
     "base_uri": "https://localhost:8080/",
     "height": 193
    },
    "colab_type": "code",
    "id": "YNL3F3GTJQ6m",
    "outputId": "bb8018e3-90e2-4d86-c4f7-672224c4da84"
   },
   "outputs": [
    {
     "data": {
      "text/plain": [
       "['grandfather',\n",
       " 'italian',\n",
       " 'horror',\n",
       " 'late',\n",
       " 'mario',\n",
       " 'bava',\n",
       " 'credits',\n",
       " 'nearly',\n",
       " 'films',\n",
       " 'tv']"
      ]
     },
     "execution_count": 10,
     "metadata": {
      "tags": []
     },
     "output_type": "execute_result"
    }
   ],
   "source": [
    "# check out first 10 tokens\n",
    "tokens[:10]"
   ]
  },
  {
   "cell_type": "code",
   "execution_count": 11,
   "metadata": {
    "colab": {
     "base_uri": "https://localhost:8080/",
     "height": 34
    },
    "colab_type": "code",
    "id": "4L7-qrEqjNsh",
    "outputId": "027b6811-37ee-4ddd-cad6-2c46c4b6db0f"
   },
   "outputs": [
    {
     "data": {
      "text/plain": [
       "collections.Counter"
      ]
     },
     "execution_count": 11,
     "metadata": {
      "tags": []
     },
     "output_type": "execute_result"
    }
   ],
   "source": [
    "type(vocab)"
   ]
  },
  {
   "cell_type": "code",
   "execution_count": 12,
   "metadata": {
    "colab": {
     "base_uri": "https://localhost:8080/",
     "height": 193
    },
    "colab_type": "code",
    "id": "lD1P6QE4JWYg",
    "outputId": "32407c0c-f402-47f4-851d-fa15808f05fc"
   },
   "outputs": [
    {
     "data": {
      "text/plain": [
       "[('grandfather', 23),\n",
       " ('italian', 50),\n",
       " ('horror', 384),\n",
       " ('late', 204),\n",
       " ('mario', 15),\n",
       " ('bava', 6),\n",
       " ('credits', 171),\n",
       " ('nearly', 278),\n",
       " ('films', 1873),\n",
       " ('tv', 280)]"
      ]
     },
     "execution_count": 12,
     "metadata": {
      "tags": []
     },
     "output_type": "execute_result"
    }
   ],
   "source": [
    "# check out first 10 Vocabulary items\n",
    "list(islice(vocab.items(), 10))"
   ]
  },
  {
   "cell_type": "markdown",
   "metadata": {
    "colab_type": "text",
    "id": "w9pXhae-GgkT"
   },
   "source": [
    "## 3. Train Embedding \n",
    "\n",
    "- In this section, we will learn a word embedding while training a neural network on the classification problem.\n",
    "\n",
    "- A word embedding is a way of representing text where each word in the vocabulary is represented by a real valued vector in a high-dimensional space. The vectors are learned in such a way that words that have similar meanings will have similar representation in the vector space (close in the vector space). This is a more expressive representation for text than classical methods like bag-of-words where relationships between words or tokens are ignored or forced in bigram and trigram approaches.\n",
    "\n",
    "- The real valued vector representation for words can be learned while training the neural network. We can do this in the Keras deep learning library using the [Embedding Layer](https://keras.io/layers/embeddings/).\n",
    "\n",
    "- If you are new to word embeddings, see the post :- [What Are Word Embeddings for Text?](https://machinelearningmastery.com/what-are-word-embeddings/)\n",
    "\n",
    "- If you are new to word embedding layers in Keras, see the post :- [How to Use Word Embedding Layers for Deep Learning with Keras.](https://machinelearningmastery.com/use-word-embedding-layers-deep-learning-keras/)\n",
    "\n",
    "- The first step is to load the vocabulary. We will use it to filter out words from movie reviews that we are not interested in. If you have worked through the previous section, you should have a local file called 'vocab.txt' with one word per line. We can load that file and build a vocabulary as a set for checking the validity of tokens."
   ]
  },
  {
   "cell_type": "code",
   "execution_count": 0,
   "metadata": {
    "colab": {},
    "colab_type": "code",
    "id": "Ul-OU8Jfoft4"
   },
   "outputs": [],
   "source": [
    "# load the vocabulary\n",
    "vocab_filename = 'vocab.txt'\n",
    "vocab = load_text(vocab_filename)\n",
    "vocab = vocab.split()\n",
    "vocab = set(vocab)"
   ]
  },
  {
   "cell_type": "code",
   "execution_count": 14,
   "metadata": {
    "colab": {
     "base_uri": "https://localhost:8080/",
     "height": 193
    },
    "colab_type": "code",
    "id": "JKBzbLY8L2RU",
    "outputId": "442c4033-c80c-4284-cc4c-0981d642287a"
   },
   "outputs": [
    {
     "data": {
      "text/plain": [
       "['concentrating',\n",
       " 'semisubplot',\n",
       " 'horrortrilogy',\n",
       " 'sitcomish',\n",
       " 'uppedity',\n",
       " 'vomity',\n",
       " 'billionth',\n",
       " 'greased',\n",
       " 'burden',\n",
       " 'hangar']"
      ]
     },
     "execution_count": 14,
     "metadata": {
      "tags": []
     },
     "output_type": "execute_result"
    }
   ],
   "source": [
    "# check out first 10 Vocabulary words\n",
    "list(vocab)[:10]"
   ]
  },
  {
   "cell_type": "markdown",
   "metadata": {
    "colab_type": "text",
    "id": "fALv908QHt5O"
   },
   "source": [
    "- Next, we need to load all of the training data movie reviews. For that we can adapt the process_docs( ) from the previous section to load the documents, clean them and return them as a list of strings, with one document per string. We want each document to be a string for easy encoding as a sequence of integers later.\n",
    "\n",
    "- Cleaning the document involves splitting each review based on white space, removing punctuation and then filtering out all tokens not in the vocabulary. The updated clean_doc( ) function is listed below.\n",
    "\n",
    "- The updated process_docs( ) can then call the clean_doc( ) for each document on the 'pos' and 'neg' directories that are in our training dataset."
   ]
  },
  {
   "cell_type": "code",
   "execution_count": 0,
   "metadata": {
    "colab": {},
    "colab_type": "code",
    "id": "4b7UNX4Vz2mo"
   },
   "outputs": [],
   "source": [
    "# tokenize the text\n",
    "def clean_doc(doc, vocab):\n",
    "    # split the text on white space\n",
    "    tokens = doc.split()\n",
    "    # remove punctuations from each token\n",
    "    table = str.maketrans('', '', punctuation)\n",
    "    tokens = [t.translate(table) for t in tokens]\n",
    "    # filter out tokens not in vocab\n",
    "    tokens = [word for word in tokens if word in vocab]\n",
    "    tokens = ' '.join(tokens)\n",
    "    return tokens"
   ]
  },
  {
   "cell_type": "code",
   "execution_count": 0,
   "metadata": {
    "colab": {},
    "colab_type": "code",
    "id": "-qVwXjSY0Ps7"
   },
   "outputs": [],
   "source": [
    "# load all the files in a directory\n",
    "def process_docs(directory, vocab, is_train):\n",
    "    documents = list()\n",
    "    # walk through all files in the folder\n",
    "    for filename in listdir(directory):\n",
    "        # prepare training dataset\n",
    "        if is_train and filename.startswith('cv9'):\n",
    "            continue\n",
    "        # prepare testing dataset\n",
    "        if not is_train and not filename.startswith('cv9'):\n",
    "            continue\n",
    "        # create full path of the file to open\n",
    "        path = directory + '/' + filename\n",
    "        # load the text files\n",
    "        doc = load_text(path)\n",
    "        # tokenize the text\n",
    "        tokens = clean_doc(doc, vocab)\n",
    "        # add to list\n",
    "        documents.append(tokens)\n",
    "    return documents"
   ]
  },
  {
   "cell_type": "code",
   "execution_count": 0,
   "metadata": {
    "colab": {},
    "colab_type": "code",
    "id": "HoAmxIqLpwYH"
   },
   "outputs": [],
   "source": [
    "# load all the training reviews\n",
    "train_positive_files = process_docs('/content/txt_sentoken/pos', vocab, True)\n",
    "train_negative_files = process_docs('/content/txt_sentoken/neg', vocab, True)\n",
    "train_docs = train_positive_files + train_negative_files"
   ]
  },
  {
   "cell_type": "code",
   "execution_count": 18,
   "metadata": {
    "colab": {
     "base_uri": "https://localhost:8080/",
     "height": 125
    },
    "colab_type": "code",
    "id": "r33Y-UgUrVVV",
    "outputId": "8454e886-1fbe-4c86-ee8e-1e74ae623895",
    "scrolled": false
   },
   "outputs": [
    {
     "data": {
      "text/plain": [
       "['grandfather italian horror late mario bava credits nearly films tv movies produced italy death early practiced cinematographer director bava nonetheless sat directors chair beyond door ii project turned last fulllength feature film alongside appalling zombie schlock hacks like lucio fulci beyond door ii simply revelation day bava considered great filmmaker yet fashioned one finest italian horror movies note film connection exorcistrip behind door unexplained reason given related title release usa australia story focuses dora women set upon malevolent spirit channels young son marco film opens dora son second husband bruno returning house sea scene first husbands suicide subsequent trauma years earlier hope put past behind small accidents start befall dora usually bruno away business starts suspect marco played uncanny ability year old david colin jr somehow involved strange goings reveal story would unfair suffice say artfully paced study woman suffering nervous breakdown offers intriguing plot loads atmosphere solid acting though dialogue somewhat weakened dubbing english bava coaches surprisingly good performance usually wooden daria nicolodi wife famed italian horror director dario argento character invested sufficient depth allow audience real empathy doras troubled soul music italian ensemble libra also effective mixing oddsounding rock classic gothic piano sequences least one moment brilliantly engineered bava guaranteed lift ten feet chair yet italian horror bloodletting surprisingly minimal lamberto bava francesco barbieris script concerned deeper psychological terrors themes guilt suffering notion sow shall somewhere somehow eventually reap scholars genre take note beyond door ii stylish chilling essential',\n",
       " 'film starts creepy opening sequence classic creepy score writerdirectorproducer john carpenter mind brilliant director really wrote film directed film produced film made excessively creepy score film think always famous classic years lost popularity ability scare wits people think seen halloween times time find something new brilliant time scared even though know going happen three different versions film vhs regular version came limited edition anniversary tshirt boxed edition vhs hardcover case digitally remastered original theatrical widescreen presentation nifty plastic picture decorated box numbered snowglobe words completely utterly obsessed film changed horror movies forever spawned six sequels truly good also spawned several cheap imitations film offensive ways true halloween fan since heard halloween released dvd limited edition copies knew buy one matter man best dvd ever manufactured brilliance film words describe dvd halloween michael myers evil person killed sister cold blood years ago grown mental hospital michael myers escapes go back hometown haddonfield illinois followed past doctor sam loomis person michael targeting laurie strode played jamie lee curtis film debut stalking check halloween ii explains unholy night october laurie strode two friends going time lives trying stay alive whole film filled terrifying moments coming seeing michael myers walk nick castle played shape first movie incredible job person halloween flick john carpenter made groundbreaking new film scares wit style movie flawless perfect movie sequel lived one opinion never halloween like psycho still extremely popular even almost years later hope someday halloween released new dolby soundtrack extra scenes dvd edition halloween isnt another sliceanddice horror flick intelligent horrifying best film experience ever made see halloween scared watch reviewed brandon herring october',\n",
       " 'intolerance griffith told four different historical stories time cutting one stories builds fastpaced climax magnolia paul thomas anderson tells several stories tangentially connected others yet stories going independent strange stories synchronized story builds tense moment appears intended tense moment lets tension dissolve tension dissipates one character starts singing song plotline major characters sing along even though scene toward end stories build tense moment almost characters somehow psychically linked creates strange effects stories empty desperate people dysfunctional relationships strands varying degrees bizarre content story dying man earl partridge jason robards wanting get touch son make amends phil parma philip seymour hoffman nurse frantic help partridge achieve final goal partridges young wife linda julianne moore getting anxious partridge dies unsuspected reason frank mackey tom cruise runs kinds selfhelp seminar businesses like much aims teaching disaffected men real shitheels dealing women angry backlash womens lib officer jim kurring john reilly patrolman need feel making world better place jimmy gator philip baker hall hosts popular childrens tv quiz show really exploits destroys children see stories current quiz kid stanley spector jeremy blackman former quiz kid donnie smith william macy film juggles stories three hours even time one story resolved satisfactorily story moves toward single bizarre common climax one seems much derail story common climax ambiguous many ways fails really tie stories film seems built around strange events weird history really little content stories though connected part one weird event magnolia probably bring much deserved attention paul thomas anderson though opinion two previous films hard eight boogie nights better told stories interesting one starts look forward actors andersons company john reilly seems standard fixture particularly notable philip baker hall gave mesmerizing performance first scene hard eight several characters mesmerizing characteristic really used studies characters stories worth following wellrounded stories beginning middle end leave something desired film willing unexpected helps make film worth sitting rate scale low scale heavy spoiler heavy spoiler heavy spoiler heavy spoiler strange climactic event film get multiple messages filmmaker event seeing really happen actual fact since biblical times rains frogs interpreted signs displeasure gods however perfectly natural somewhat unnerving phenomenon cause associated whirlwinds know tornadoes land rip land even objects size ground hurl air holding aloft reader may remember unfortunate cow twister smaller objects hurled high atmosphere kept aloft updrafts surprisingly long periods time much hail chunks ice whirlwind water animals near surface frequently fish frogs may suffer fate essentially vacuumed whirlwind held aloft updrafts finally dropped elsewhere rain possible doubts creep rain frogs depicted film may greater scale pictured rain frogs seems unlikely frogs would still alive dropped clear geographic conditions right los angeles sort phenomenon frankly idea points otherwise event quite believable see film much credible phenomena saw volcano film left ambiguous rain sign god since many references exodus frogs shall come thee upon thy people upon thy servants however rain frogs though feels biblical definitely biblical portent note previous verse says river shall bring forth frogs abundantly shall go bible referring rain infestation river reference frogs bible symbol uncleanness revelation',\n",
       " 'eyes wide shut isnt masterpiece many hoping see stanley kubricks final film impressive achievement mesmerizing haunting adult psychodrama marriage fidelity sex stanley kubrick film beginning end consistently exhibiting auteurs trademark penchant long continuous takes unparalleled deftness behind camera uncanny ability extract gorgeous performances exhausted cast indeed eyes wide shut attained infamy even release notoriously laborious shoot kubrick renowned perfectionist reportedly held cast hostage set nearly year uncharacteristic maneuver kubrick cast two bigname stars lead roles namely reallife husband wife tom cruise nicole kidman play bill alice harford volatile couple course couple nights ponder validity idea husband wife must faithful shes unemployed introduced getting ready go fancy party affair propositioned nearly succumb temptation play around someone else return lavish new york apartment kidman smoking dash weed inquires whether husband sex two models approached night truthfully says asks happened hungarian guy dancing proceed argue alice tells spouse lustful story evidently time ago thing young naval officer admits ready give whole future bill young daughter guy wanted even one night bill jolted alices story anticipate reaction moment gets phone call go show face house justdeceased patient turns beginning long eventful night town daughter dead patient hits wisely turns almost dirty deed kindly hooker approaches street series coincidences winds gothic mansion ritualistic frankly creepy orgy takes place costumed people performing various public sex acts erotic dread mounts cruise whos supposed wonders spacious halls watching action discovered outsider much hoopla raised fact warner bros digitally edited orgy scene help computer put cloaked figures block actual sex acts still seen glory order avoid dreaded rating european viewers see film kubrick envisioned roger ebert calls american version austin powers version many others bashed alterations potentially controversial opinion figures supplement scenes mystical atmosphere first thing one notices eyes wide shut looks artful distinctively gorgeous production shot dark moody hues featuring elaborate beautiful scenery giant mansion used films centerpiece decor christmas party harfords apartment film always pleasure look boot great soundtrack makes atmospheric still core behind graphic controversial content unappealing mood goodnatured movie emphasizes importance fidelity looks sex almost perfunctory portraying unnerving rather erotic something superficial yet something necessary achieve deeper relationship end seems bills eyes wide open special kind love wife meaningful anything could ever hope find streets new york kubrick elicits wonderful performances cruise kidman tom completely convincing dr harford man seems guided solely destiny control course life take nicole projects quiet intensity jittery yet aggressive wife performance stunningly effective shes headed oscar nod movie help similarly strong supporting cast head directorcumthespian sidney pollock enigmatic articulate harfords mysterious friend eyes wide shut perfect last hour could used slightly scissorhappy editor cruise kidman good looking believe either would strong temptation philander still important work great director may par stanley kubricks best worthy final film complex exploration jealousy faithfulness eugene',\n",
       " 'people fit two different categories either love woody allen hate guts family part hates movies think hes funny shtick gotten forced contrived years maybe taking body away best decision producer could thought unrestrained physical boundaries allens humor comes shining problems physical appearance able join rest us laughing allens intelligent observations life problems verbal comedy may want skip one film introduced audiences sparked imaginations showed something theyd never seen toy story used stateoftheart computer technology presented world toys would come alive humans present many critics call better film believe say completely original motion picture antz however upped ante considerably disneys bugs life isnt due another two months dreamworks seems received better end deal beating disney satisfied audiences thirst computeranimated films dont let fool disney definitely scared past two years competitions broken studios volcano duel opinion dantes peak came way ahead predecessor time quality volcano original premise destroyed ridiculous situations twice many competing films first comet competition armageddon blew away cheesily dramatic competitor deep impact even interesting one beloved studio disney goes newcomer dreamworks prevail time tell im sure mr mouse nothing fear may sound like didnt like antz contrary id put toy story due pg rating many parents may put dialogue shouldnt appear disneys version dialogue antz pushes envelope familyoriented film sexual innuendoes profanity pop occasionally makes dreamworks animated feature geared adult crowd humor also written especially adults though many kids laughing theater attended type film made families often entertaining kids entertaining parents antz begins hilarious monologue seems meld woody allens shtick franz kafkas metamorphosis short story man wakes discover bug allen troubled ant believing made worker youre middle child family five million comments neglected childhood one night sitting bar friend weaver sylvester stallone discussing pathetic place life walks princess bala sharon stone one recognizes without crown bala asks would like dance engage pulp fictionesque dance everyone else following leader discovering princess falls love theres problem bala getting married general mandible gene hackman ruthless leader merely wants control better stronger colony order must eliminate queen anne bancroft weakest colony namely worker ants get rid queen needs get rid loyal army ants would willing die colonel cutter christopher walkin come plan send loyal ants battle surely killed queen reluctant first decides best colony meanwhile wants meet bala asks weaver army ant switch places gets sent battle manages survive slaughter termites battle sequence absolutely stunning though may flashbacks starship troopers contained similar sequence however antz film production around time similarities merely coincidence second half film revolves around zs kidnapping bala search mythical place called insectopia ant boss food wants adventures bala get surprisingly high tension especially one involving magnifying glass looming targets like spaceships independence day fact im going assume producers referenced intentionally ants look awe beam fire blasts ground visually exciting rush adrenaline dont fooled little kids shouldnt see may try copy seeing antz vowed never intentionally step ant hopefully children learn killing ants rather cruel animated film antz probably best find date visually stunning dreams may come best aspect animation fact characters arent limited gravity take ridiculous situations make seem plausible one great moment involves mass worker ants bunching form wrecking ball animation perfect virtually see every single ant ball however exhilarating scene involves bala getting stuck bottom young boys shoe truly great example film making finest computer technology animators carefully made ants faces look similar actors providing voices best example would barbatus danny glover one point even see pores face although doubt ants pores barbatus also touching rather gruesome scene final words without body young kids may disturbed site dismembered head good deal humor derived appropriate adults course disneys bugs life looks good dont know able best dreamworks newest animated feature terms animation dreamworks done something studio could go head head big mouse knock yes anastasia good nearly good even worst disney vocal talent always essential animated feature antz one best lineups seen since toy story fact far exceeds one woody allen always funny transcends hes done past years without body comic timing noticeable thing fact im pretty sure writers let improvise lot lines sharon stone bala shows comic ability though part stone works best dramatic actress sylvester stallone teamed stone beginning solidify statement wants actor typecast action star snub oscars last year stallone proving serious comedic illustrated actor gene hackman superb grufftalking general almost another take crimson tide persona christopher walkin probably noticed voice many people remember hits batman returns anne bancroft minimal role shes effective nonetheless danny glover small role good job dan aykroyd jane curtin also lend voices two lovesick eurotrash beesboth unrecognizable especially aykroyd jennifer lopez plays worker ant falls love weaver although people wont recognize voice either many people recognize grant shauds voice foreman played miles tv show murphy brown definitely huge cast highprofile names definitely help grosses course probably tell lot million budget went also directors eric darnell lawrence guterman relative newcomers though guterman direct feature headless show incredible talent type picture tense times funny throughout two hold film together like professionals screenplay todd alcott chris weitz quite simple plot contains lot subtlety makes film suitable adults kids delight animation parents laugh heartily humor go young childrens heads mean shouldnt take kids see lot fun watching one great themes given us part social commentary part romance story part moral drama antz gives everyone something talk whether animation discussions individualism community thankfully subtle either aspects antz rated pg mild language intense action sometimes language pushing limits family movie violence keep kids home battle scene ants melting acid bugs speared death magnifying scene shows ant disintegrate beam sunlight sexual innuendos perfect choice wholesome fun theaters doubt many children understand sexual innuendos unless old enough still advisable leave really young children home confused enough take kids recommend seeing film likely youll enjoy']"
      ]
     },
     "execution_count": 18,
     "metadata": {
      "tags": []
     },
     "output_type": "execute_result"
    }
   ],
   "source": [
    "# check out training reviews\n",
    "train_docs[:5]"
   ]
  },
  {
   "cell_type": "markdown",
   "metadata": {
    "colab_type": "text",
    "id": "1yyLw4QZJFMV"
   },
   "source": [
    "- The next step is to encode each document as a sequence of integers. The Keras Embedding layer requires integer inputs where each integer maps to a single token that has a specific real-valued vector representation within the embedding. These vectors are random at the beginning of training but during training become meaningful to the network. We can encode the training documents as sequences of integers using the Tokenizer class in the Keras API.\n",
    "\n",
    "- First, we must construct an instance of the class then train it on all documents in the training dataset. In this case, it develops a vocabulary of all tokens in the training dataset and develops a consistent mapping from words in the vocabulary to unique integers. We could just as easily develop this mapping ourselves using our vocabulary file."
   ]
  },
  {
   "cell_type": "code",
   "execution_count": 0,
   "metadata": {
    "colab": {},
    "colab_type": "code",
    "id": "7_I6cg2Nkyez"
   },
   "outputs": [],
   "source": [
    "# create the tokenizer\n",
    "tokenizer = tf.keras.preprocessing.text.Tokenizer()\n",
    "# fit the tokenizer on the training documents\n",
    "tokenizer.fit_on_texts(train_docs)"
   ]
  },
  {
   "cell_type": "code",
   "execution_count": 20,
   "metadata": {
    "colab": {
     "base_uri": "https://localhost:8080/",
     "height": 193
    },
    "colab_type": "code",
    "id": "RfHicLVMMdpL",
    "outputId": "eb0ff2cd-9047-4d58-fe08-f1d74a50d8ba"
   },
   "outputs": [
    {
     "data": {
      "text/plain": [
       "['film',\n",
       " 'one',\n",
       " 'movie',\n",
       " 'like',\n",
       " 'even',\n",
       " 'good',\n",
       " 'time',\n",
       " 'story',\n",
       " 'films',\n",
       " 'would']"
      ]
     },
     "execution_count": 20,
     "metadata": {
      "tags": []
     },
     "output_type": "execute_result"
    }
   ],
   "source": [
    "# list first 10 words from index 1 to 10\n",
    "list(islice(tokenizer.word_index, 10))"
   ]
  },
  {
   "cell_type": "code",
   "execution_count": 0,
   "metadata": {
    "colab": {},
    "colab_type": "code",
    "id": "yZEnY826MGut"
   },
   "outputs": [],
   "source": [
    "#tokenizer.index_word"
   ]
  },
  {
   "cell_type": "markdown",
   "metadata": {
    "colab_type": "text",
    "id": "XI1yeFT-JioT"
   },
   "source": [
    "- Now that the mapping of words to integers has been prepared, we can use it to encode the reviews in the training dataset. We can do that by calling the texts_to_sequences( ) function on the Tokenizer."
   ]
  },
  {
   "cell_type": "code",
   "execution_count": 0,
   "metadata": {
    "colab": {},
    "colab_type": "code",
    "id": "wb7zbe4UnD1y"
   },
   "outputs": [],
   "source": [
    "# sequence encode the training documents\n",
    "train_encoded_docs = tokenizer.texts_to_sequences(train_docs)"
   ]
  },
  {
   "cell_type": "code",
   "execution_count": 23,
   "metadata": {
    "colab": {
     "base_uri": "https://localhost:8080/",
     "height": 1000
    },
    "colab_type": "code",
    "id": "cNr1fD8TO--N",
    "outputId": "d097a785-49e9-4f63-d716-89694762b9bd",
    "scrolled": false
   },
   "outputs": [
    {
     "data": {
      "text/plain": [
       "[4251,\n",
       " 2136,\n",
       " 205,\n",
       " 482,\n",
       " 5958,\n",
       " 11016,\n",
       " 606,\n",
       " 317,\n",
       " 9,\n",
       " 314,\n",
       " 30,\n",
       " 1018,\n",
       " 7005,\n",
       " 183,\n",
       " 355,\n",
       " 13894,\n",
       " 1820,\n",
       " 47,\n",
       " 11016,\n",
       " 2312,\n",
       " 2484,\n",
       " 708,\n",
       " 3029,\n",
       " 623,\n",
       " 1067,\n",
       " 892,\n",
       " 676,\n",
       " 594,\n",
       " 80,\n",
       " 7910,\n",
       " 527,\n",
       " 1,\n",
       " 5670,\n",
       " 5959,\n",
       " 9981,\n",
       " 7423,\n",
       " 12257,\n",
       " 4,\n",
       " 19605,\n",
       " 12258,\n",
       " 623,\n",
       " 1067,\n",
       " 892,\n",
       " 199,\n",
       " 2957,\n",
       " 134,\n",
       " 11016,\n",
       " 1322,\n",
       " 41,\n",
       " 1666,\n",
       " 135,\n",
       " 5402,\n",
       " 2,\n",
       " 2137,\n",
       " 2136,\n",
       " 205,\n",
       " 30,\n",
       " 462,\n",
       " 1,\n",
       " 1849,\n",
       " 25768,\n",
       " 277,\n",
       " 1067,\n",
       " 11017,\n",
       " 202,\n",
       " 173,\n",
       " 3112,\n",
       " 353,\n",
       " 564,\n",
       " 5671,\n",
       " 5168,\n",
       " 8,\n",
       " 2221,\n",
       " 3563,\n",
       " 393,\n",
       " 161,\n",
       " 325,\n",
       " 7911,\n",
       " 1405,\n",
       " 9143,\n",
       " 103,\n",
       " 323,\n",
       " 9144,\n",
       " 1,\n",
       " 697,\n",
       " 3563,\n",
       " 323,\n",
       " 262,\n",
       " 492,\n",
       " 4948,\n",
       " 3564,\n",
       " 267,\n",
       " 1850,\n",
       " 29,\n",
       " 17,\n",
       " 3113,\n",
       " 2068,\n",
       " 4564,\n",
       " 11018,\n",
       " 58,\n",
       " 806,\n",
       " 435,\n",
       " 217,\n",
       " 289,\n",
       " 277,\n",
       " 224,\n",
       " 7424,\n",
       " 329,\n",
       " 13895,\n",
       " 3563,\n",
       " 509,\n",
       " 4948,\n",
       " 114,\n",
       " 619,\n",
       " 311,\n",
       " 1536,\n",
       " 9144,\n",
       " 85,\n",
       " 6268,\n",
       " 838,\n",
       " 137,\n",
       " 100,\n",
       " 266,\n",
       " 6269,\n",
       " 1265,\n",
       " 528,\n",
       " 441,\n",
       " 604,\n",
       " 16192,\n",
       " 1587,\n",
       " 8,\n",
       " 10,\n",
       " 4949,\n",
       " 3935,\n",
       " 88,\n",
       " 13896,\n",
       " 2958,\n",
       " 1895,\n",
       " 166,\n",
       " 2313,\n",
       " 2883,\n",
       " 3030,\n",
       " 799,\n",
       " 1297,\n",
       " 25,\n",
       " 9982,\n",
       " 825,\n",
       " 717,\n",
       " 111,\n",
       " 62,\n",
       " 175,\n",
       " 595,\n",
       " 25769,\n",
       " 7006,\n",
       " 785,\n",
       " 11016,\n",
       " 16193,\n",
       " 612,\n",
       " 6,\n",
       " 68,\n",
       " 509,\n",
       " 2608,\n",
       " 25770,\n",
       " 25771,\n",
       " 155,\n",
       " 4766,\n",
       " 2136,\n",
       " 205,\n",
       " 47,\n",
       " 9983,\n",
       " 4565,\n",
       " 15,\n",
       " 5960,\n",
       " 13897,\n",
       " 870,\n",
       " 1492,\n",
       " 72,\n",
       " 69,\n",
       " 5672,\n",
       " 25772,\n",
       " 2485,\n",
       " 1439,\n",
       " 184,\n",
       " 2136,\n",
       " 2183,\n",
       " 25773,\n",
       " 12,\n",
       " 601,\n",
       " 5169,\n",
       " 25774,\n",
       " 689,\n",
       " 363,\n",
       " 3936,\n",
       " 4105,\n",
       " 354,\n",
       " 108,\n",
       " 2,\n",
       " 318,\n",
       " 2486,\n",
       " 7912,\n",
       " 11016,\n",
       " 5170,\n",
       " 6618,\n",
       " 811,\n",
       " 1611,\n",
       " 3029,\n",
       " 135,\n",
       " 2136,\n",
       " 205,\n",
       " 25775,\n",
       " 612,\n",
       " 4950,\n",
       " 25776,\n",
       " 11016,\n",
       " 19606,\n",
       " 25777,\n",
       " 95,\n",
       " 1965,\n",
       " 2069,\n",
       " 1966,\n",
       " 19607,\n",
       " 1298,\n",
       " 3475,\n",
       " 2313,\n",
       " 2609,\n",
       " 25778,\n",
       " 2756,\n",
       " 948,\n",
       " 528,\n",
       " 463,\n",
       " 11019,\n",
       " 9984,\n",
       " 415,\n",
       " 65,\n",
       " 462,\n",
       " 623,\n",
       " 1067,\n",
       " 892,\n",
       " 2389,\n",
       " 4566,\n",
       " 3381]"
      ]
     },
     "execution_count": 23,
     "metadata": {
      "tags": []
     },
     "output_type": "execute_result"
    }
   ],
   "source": [
    "# check out the encoding for first sentence of text\n",
    "train_encoded_docs[0]"
   ]
  },
  {
   "cell_type": "markdown",
   "metadata": {
    "colab_type": "text",
    "id": "NwKL98jNJt7z"
   },
   "source": [
    "- We also need to ensure that all documents have the same length. This is a requirement of Keras for efficient computation. We could truncate reviews to the smallest size or zero-pad (pad with the value ‘0’) reviews to the maximum length. In this case, we will pad all reviews to the length of the longest review in the training dataset.\n",
    "\n",
    "- First, we can find the longest review using the max( ) function on the training dataset and take its length. We can then call the Keras function pad_sequences( ) to pad the sequences to the maximum length by adding 0 values on the end."
   ]
  },
  {
   "cell_type": "code",
   "execution_count": 24,
   "metadata": {
    "colab": {
     "base_uri": "https://localhost:8080/",
     "height": 140
    },
    "colab_type": "code",
    "id": "y03-GeIYUbHY",
    "outputId": "92029ff1-655e-4e11-be38-1390a0682c14"
   },
   "outputs": [
    {
     "data": {
      "text/plain": [
       "array([[ 4251,  2136,   205, ...,     0,     0,     0],\n",
       "       [    1,   311,  1218, ...,     0,     0,     0],\n",
       "       [12261,  4401,   530, ...,     0,     0,     0],\n",
       "       ...,\n",
       "       [  642,  3777,  1887, ...,     0,     0,     0],\n",
       "       [ 1600,  9435,  2223, ...,     0,     0,     0],\n",
       "       [ 4221,  4060,    16, ...,     0,     0,     0]], dtype=int32)"
      ]
     },
     "execution_count": 24,
     "metadata": {
      "tags": []
     },
     "output_type": "execute_result"
    }
   ],
   "source": [
    "# pad sequences on training encoded documents\n",
    "max_length = max([len(s.split()) for s in train_docs])\n",
    "X_train = tf.keras.preprocessing.sequence.pad_sequences(train_encoded_docs, maxlen=max_length, padding='post')\n",
    "\n",
    "# check out training data\n",
    "X_train"
   ]
  },
  {
   "cell_type": "markdown",
   "metadata": {
    "colab_type": "text",
    "id": "cvHh994OJ_-d"
   },
   "source": [
    "- Finally, we can define the class labels for the training dataset, needed to fit the supervised neural network model to predict the sentiment of reviews."
   ]
  },
  {
   "cell_type": "code",
   "execution_count": 25,
   "metadata": {
    "colab": {
     "base_uri": "https://localhost:8080/",
     "height": 34
    },
    "colab_type": "code",
    "id": "rU9MGexAUcNa",
    "outputId": "ebd7236d-5599-4736-9dc4-f2e3ac7cadf6"
   },
   "outputs": [
    {
     "data": {
      "text/plain": [
       "array([0, 0, 0, ..., 1, 1, 1])"
      ]
     },
     "execution_count": 25,
     "metadata": {
      "tags": []
     },
     "output_type": "execute_result"
    }
   ],
   "source": [
    "# define training labels\n",
    "y_train = array([0 for _ in range(900)] + [1 for _ in range(900)])\n",
    "\n",
    "# check out training labels\n",
    "y_train"
   ]
  },
  {
   "cell_type": "markdown",
   "metadata": {
    "colab_type": "text",
    "id": "zGB-no1oKOiU"
   },
   "source": [
    "- We can then encode and pad the test dataset, needed later to evaluate the model after we train it."
   ]
  },
  {
   "cell_type": "code",
   "execution_count": 0,
   "metadata": {
    "colab": {},
    "colab_type": "code",
    "id": "Rfsp6XxJUeQW"
   },
   "outputs": [],
   "source": [
    "# load all testing reviews\n",
    "test_positive_files = process_docs('/content/txt_sentoken/pos', vocab, False)\n",
    "test_negative_files = process_docs('/content/txt_sentoken/neg', vocab, False)\n",
    "test_docs = test_positive_files + test_negative_files"
   ]
  },
  {
   "cell_type": "markdown",
   "metadata": {
    "colab_type": "text",
    "id": "_xHoqmmtaKp2"
   },
   "source": [
    "- __We did not do 'fit_on_texts' on 'test_docs' as it uses the vocab learned from the training data to index words in test. If there are new words, they are marked as zero.__"
   ]
  },
  {
   "cell_type": "code",
   "execution_count": 0,
   "metadata": {
    "colab": {},
    "colab_type": "code",
    "id": "itCv50D3VwTY"
   },
   "outputs": [],
   "source": [
    "# sequence encode the testing documents\n",
    "test_encoded_docs = tokenizer.texts_to_sequences(test_docs)\n",
    "\n",
    "# pad sequences on testing encoded documents\n",
    "X_test = tf.keras.preprocessing.sequence.pad_sequences(test_encoded_docs, maxlen=max_length, padding='post')\n",
    "\n",
    "# define testing labels\n",
    "y_test = array([0 for _ in range(100)] + [1 for _ in range(100)])"
   ]
  },
  {
   "cell_type": "markdown",
   "metadata": {
    "colab_type": "text",
    "id": "vg0x6Gy5KWkt"
   },
   "source": [
    "- The vocabulary size is the total number of words in our vocabulary, plus one for unknown words. This could be the vocab set length or the size of the vocab within the tokenizer used to integer encode the documents"
   ]
  },
  {
   "cell_type": "code",
   "execution_count": 28,
   "metadata": {
    "colab": {
     "base_uri": "https://localhost:8080/",
     "height": 34
    },
    "colab_type": "code",
    "id": "ThwQwnTRW0zi",
    "outputId": "2bf6695b-5a34-4459-8a90-59d78d216c1b"
   },
   "outputs": [
    {
     "name": "stdout",
     "output_type": "stream",
     "text": [
      "Vocabulary size: 44277\n"
     ]
    }
   ],
   "source": [
    "# define vocabulary size (largest integer value)\n",
    "vocab_size = len(tokenizer.word_index) + 1\n",
    "print(f'Vocabulary size: {vocab_size}')"
   ]
  },
  {
   "cell_type": "markdown",
   "metadata": {
    "colab_type": "text",
    "id": "MKcW6RjQLMba"
   },
   "source": [
    "## Define and Test the Model\n",
    "\n",
    "- We are now ready to define our neural network model. The model will use an Embedding layer as the first hidden layer. The Embedding requires the specification of the vocabulary size, the size of the real-valued vector space and the maximum length of input documents.\n",
    "\n",
    "- We will use a 100-dimensional vector space, but you could try other values, such as 50 or 150. Finally, the maximum document length was calculated above in the max_length variable used during padding.\n",
    "\n",
    "- The complete model definition is listed below including the Embedding layer. We use a Convolutional Neural Network (CNN) as they have proven to be successful at document classification problems. A CNN configuration is used with 128 filters (parallel fields for processing words) and a kernel size of 4 with a rectified linear (‘relu’) activation function. This is followed by a Dropout layer which turns off 50% of the neurons and helps prevent overfitting.\n",
    "\n",
    "- Next, the Max pooling layer help reduce the output of the convolutional layer by half. The 2D output from the CNN part of the model is flattened to one long 2D vector to represent the 'features' extracted by the CNN. The back-end of the model is a standard Multilayer Perceptron layers to interpret the CNN features. The output layer uses a sigmoid activation function to output a value between 0 and 1 for the negative and positive sentiment in the review."
   ]
  },
  {
   "cell_type": "code",
   "execution_count": 29,
   "metadata": {
    "colab": {
     "base_uri": "https://localhost:8080/",
     "height": 474
    },
    "colab_type": "code",
    "id": "Nxl9gWvfTfCi",
    "outputId": "deb8e520-39b1-41ff-e1e2-c466b8a272bc"
   },
   "outputs": [
    {
     "name": "stdout",
     "output_type": "stream",
     "text": [
      "Model: \"sequential\"\n",
      "_________________________________________________________________\n",
      "Layer (type)                 Output Shape              Param #   \n",
      "=================================================================\n",
      "embedding (Embedding)        (None, 1380, 100)         4427700   \n",
      "_________________________________________________________________\n",
      "conv1d (Conv1D)              (None, 1377, 128)         51328     \n",
      "_________________________________________________________________\n",
      "conv1d_1 (Conv1D)            (None, 1374, 128)         65664     \n",
      "_________________________________________________________________\n",
      "dropout (Dropout)            (None, 1374, 128)         0         \n",
      "_________________________________________________________________\n",
      "max_pooling1d (MaxPooling1D) (None, 687, 128)          0         \n",
      "_________________________________________________________________\n",
      "flatten (Flatten)            (None, 87936)             0         \n",
      "_________________________________________________________________\n",
      "dense (Dense)                (None, 128)               11255936  \n",
      "_________________________________________________________________\n",
      "dropout_1 (Dropout)          (None, 128)               0         \n",
      "_________________________________________________________________\n",
      "dense_1 (Dense)              (None, 1)                 129       \n",
      "=================================================================\n",
      "Total params: 15,800,757\n",
      "Trainable params: 15,800,757\n",
      "Non-trainable params: 0\n",
      "_________________________________________________________________\n"
     ]
    }
   ],
   "source": [
    "# define the model\n",
    "model = tf.keras.models.Sequential()\n",
    "model.add(tf.keras.layers.Embedding(input_dim=vocab_size, output_dim=100, input_length=max_length))\n",
    "model.add(tf.keras.layers.Conv1D(filters=128, kernel_size=4, activation='relu'))\n",
    "model.add(tf.keras.layers.Conv1D(filters=128, kernel_size=4, activation='relu'))\n",
    "model.add(tf.keras.layers.Dropout(0.5))\n",
    "model.add(tf.keras.layers.MaxPooling1D(pool_size=2))\n",
    "#model.add(tf.keras.layers.Dropout(0.4))\n",
    "model.add(tf.keras.layers.Flatten())\n",
    "model.add(tf.keras.layers.Dense(units=128, activation='relu'))\n",
    "model.add(tf.keras.layers.Dropout(0.5))\n",
    "model.add(tf.keras.layers.Dense(units=1, activation='sigmoid'))\n",
    "model.summary()"
   ]
  },
  {
   "cell_type": "markdown",
   "metadata": {
    "colab_type": "text",
    "id": "bC07tRRgMZDv"
   },
   "source": [
    "- Running the model provides a summary of the defined network. We can see that the Embedding layer expects documents with a length of 1380 words as input and encodes each word in the document as a 100 element vector."
   ]
  },
  {
   "cell_type": "code",
   "execution_count": 30,
   "metadata": {
    "colab": {
     "base_uri": "https://localhost:8080/",
     "height": 1000
    },
    "colab_type": "code",
    "id": "I0y9vFP7RIHf",
    "outputId": "9498bf25-0a89-40e8-9b58-2185c32a3672"
   },
   "outputs": [
    {
     "data": {
      "image/png": "[encoded data removed]",
      "text/plain": [
       "<IPython.core.display.Image object>"
      ]
     },
     "execution_count": 30,
     "metadata": {
      "tags": []
     },
     "output_type": "execute_result"
    }
   ],
   "source": [
    "# plot the model\n",
    "tf.keras.utils.plot_model(model, to_file='txt_cnn.png', show_shapes=True)"
   ]
  },
  {
   "cell_type": "markdown",
   "metadata": {
    "colab_type": "text",
    "id": "cIOhvpXQMlt2"
   },
   "source": [
    "- Next, we fit the network on the training data. We use a binary cross entropy loss function because the problem we are learning is a binary classification problem. The efficient Adam implementation of stochastic gradient descent is used and we keep track of accuracy in addition to loss during training. \n",
    "\n",
    "- We use early stopping which stops training when a monitored metric in our case validation loss i.e. 'val_loss' has stopped improving. We use a patience of 3 for stopping the training. \n",
    "\n",
    "- We also use model checkpoint which monitors validation loss i.e. 'val_loss' and only saves the model if the 'val_loss' for current epoch has been reduced than previous epoch.\n",
    "\n",
    "- The model is trained for 10 epochs or 10 passes through the training data with a batch size of 16.\n",
    "\n",
    "- The network configuration and training schedule were found with a little trial and error but are by no means optimal for this problem."
   ]
  },
  {
   "cell_type": "code",
   "execution_count": 0,
   "metadata": {
    "colab": {},
    "colab_type": "code",
    "id": "ckXVmU6eYCA4"
   },
   "outputs": [],
   "source": [
    "# compile the network\n",
    "model.compile(optimizer='adam', loss='binary_crossentropy', metrics=['accuracy'])\n",
    "\n",
    "# define early stopping\n",
    "es = tf.keras.callbacks.EarlyStopping(monitor='val_loss', patience=3, verbose=1, mode='min')\n",
    "\n",
    "# define model checkpoint\n",
    "mckpt = tf.keras.callbacks.ModelCheckpoint('txt_cnn_model.h5', monitor='val_loss', verbose=1, save_best_only=True, mode='min')"
   ]
  },
  {
   "cell_type": "code",
   "execution_count": 32,
   "metadata": {
    "colab": {
     "base_uri": "https://localhost:8080/",
     "height": 457
    },
    "colab_type": "code",
    "id": "cR2hME6IlA5j",
    "outputId": "0a6139e3-ec34-40c5-aa69-3626d06d3fb2"
   },
   "outputs": [
    {
     "name": "stdout",
     "output_type": "stream",
     "text": [
      "Epoch 1/10\n",
      "113/113 [==============================] - ETA: 0s - loss: 0.7047 - accuracy: 0.5022\n",
      "Epoch 00001: val_loss improved from inf to 0.68757, saving model to txt_cnn_model.h5\n",
      "113/113 [==============================] - 7s 66ms/step - loss: 0.7047 - accuracy: 0.5022 - val_loss: 0.6876 - val_accuracy: 0.5000\n",
      "Epoch 2/10\n",
      "113/113 [==============================] - ETA: 0s - loss: 0.5750 - accuracy: 0.6867\n",
      "Epoch 00002: val_loss improved from 0.68757 to 0.46791, saving model to txt_cnn_model.h5\n",
      "113/113 [==============================] - 7s 64ms/step - loss: 0.5750 - accuracy: 0.6867 - val_loss: 0.4679 - val_accuracy: 0.8450\n",
      "Epoch 3/10\n",
      "113/113 [==============================] - ETA: 0s - loss: 0.1165 - accuracy: 0.9617\n",
      "Epoch 00003: val_loss improved from 0.46791 to 0.39514, saving model to txt_cnn_model.h5\n",
      "113/113 [==============================] - 7s 63ms/step - loss: 0.1165 - accuracy: 0.9617 - val_loss: 0.3951 - val_accuracy: 0.8700\n",
      "Epoch 4/10\n",
      "112/113 [============================>.] - ETA: 0s - loss: 0.0208 - accuracy: 0.9944\n",
      "Epoch 00004: val_loss did not improve from 0.39514\n",
      "113/113 [==============================] - 7s 59ms/step - loss: 0.0207 - accuracy: 0.9944 - val_loss: 0.4258 - val_accuracy: 0.8850\n",
      "Epoch 5/10\n",
      "113/113 [==============================] - ETA: 0s - loss: 0.0079 - accuracy: 0.9956\n",
      "Epoch 00005: val_loss did not improve from 0.39514\n",
      "113/113 [==============================] - 7s 59ms/step - loss: 0.0079 - accuracy: 0.9956 - val_loss: 0.5690 - val_accuracy: 0.8550\n",
      "Epoch 6/10\n",
      "112/113 [============================>.] - ETA: 0s - loss: 0.0026 - accuracy: 0.9994\n",
      "Epoch 00006: val_loss did not improve from 0.39514\n",
      "113/113 [==============================] - 7s 60ms/step - loss: 0.0026 - accuracy: 0.9994 - val_loss: 0.6553 - val_accuracy: 0.8600\n",
      "Epoch 00006: early stopping\n"
     ]
    }
   ],
   "source": [
    "# fit the network\n",
    "history = model.fit(X_train, y_train, validation_data=(X_test, y_test), epochs=10, batch_size=16, callbacks=[es, mckpt])"
   ]
  },
  {
   "cell_type": "markdown",
   "metadata": {
    "colab_type": "text",
    "id": "inOazu3yOyl2"
   },
   "source": [
    "- Running the example prints the loss and accuracy on training and validation data at the end of each training epoch. We can see that the model very quickly achieves 99% accuracy on the training dataset. At the end of the run, the model achieves an accuracy of 86% on the test dataset which is a good score.\n",
    "\n",
    "- After the model is fit, it is evaluated on the test dataset. This dataset contains words that we have not seen before and reviews not seen during training."
   ]
  },
  {
   "cell_type": "code",
   "execution_count": 33,
   "metadata": {
    "colab": {
     "base_uri": "https://localhost:8080/",
     "height": 34
    },
    "colab_type": "code",
    "id": "x393rBXBY7Mz",
    "outputId": "62bc22bb-c5cd-4865-fc0e-84ad9c71e636"
   },
   "outputs": [
    {
     "name": "stdout",
     "output_type": "stream",
     "text": [
      "7/7 [==============================] - 0s 10ms/step - loss: 0.6553 - accuracy: 0.8600\n"
     ]
    }
   ],
   "source": [
    "# evaluate\n",
    "loss, accuracy = model.evaluate(X_test, y_test)"
   ]
  },
  {
   "cell_type": "code",
   "execution_count": 34,
   "metadata": {
    "colab": {
     "base_uri": "https://localhost:8080/",
     "height": 34
    },
    "colab_type": "code",
    "id": "WJ8MlptHZVKp",
    "outputId": "731137b4-f249-4cf6-f3a6-a6c4965e0ad4"
   },
   "outputs": [
    {
     "name": "stdout",
     "output_type": "stream",
     "text": [
      "Test Accuracy : 86.00\n"
     ]
    }
   ],
   "source": [
    "# Get accuracy on test dataset\n",
    "print(f'Test Accuracy : {accuracy*100:.2f}')"
   ]
  },
  {
   "cell_type": "code",
   "execution_count": 35,
   "metadata": {
    "colab": {
     "base_uri": "https://localhost:8080/",
     "height": 369
    },
    "colab_type": "code",
    "id": "0o1_juB3TD-J",
    "outputId": "5071d0b4-045f-421f-c35f-e7c1055f61dc"
   },
   "outputs": [
    {
     "data": {
      "image/png": "[encoded data removed]",
      "text/plain": [
       "<Figure size 720x360 with 1 Axes>"
      ]
     },
     "metadata": {
      "needs_background": "light",
      "tags": []
     },
     "output_type": "display_data"
    }
   ],
   "source": [
    "# Plot Model Accuracy\n",
    "plt.figure(figsize=(10, 5))\n",
    "plt.plot(history.history['accuracy'])\n",
    "plt.plot(history.history['val_accuracy'])\n",
    "plt.title('Model Accuracy')\n",
    "plt.ylabel('Accuracy')\n",
    "plt.xlabel('Epoch')\n",
    "plt.legend(labels=['Train', 'Test'], fontsize='large')\n",
    "plt.tight_layout()"
   ]
  },
  {
   "cell_type": "code",
   "execution_count": 36,
   "metadata": {
    "colab": {
     "base_uri": "https://localhost:8080/",
     "height": 369
    },
    "colab_type": "code",
    "id": "eUNYauEAv6q3",
    "outputId": "e1806e91-cdc7-4a99-9109-0cff84c001dc"
   },
   "outputs": [
    {
     "data": {
      "image/png": "[encoded data removed]",
      "text/plain": [
       "<Figure size 720x360 with 1 Axes>"
      ]
     },
     "metadata": {
      "needs_background": "light",
      "tags": []
     },
     "output_type": "display_data"
    }
   ],
   "source": [
    "# Plot Model Loss\n",
    "plt.figure(figsize=(10, 5))\n",
    "plt.plot(history.history['loss'])\n",
    "plt.plot(history.history['val_loss'])\n",
    "plt.title('Model Loss')\n",
    "plt.ylabel('Loss')\n",
    "plt.xlabel('Epoch')\n",
    "plt.legend(labels=['Train', 'Test'], fontsize='large')\n",
    "plt.tight_layout()"
   ]
  },
  {
   "cell_type": "markdown",
   "metadata": {
    "colab_type": "text",
    "id": "WRph032rYeB0"
   },
   "source": [
    "[How to Develop a Deep Convolutional Neural Network for Sentiment Analysis (Text Classification)](https://machinelearningmastery.com/develop-word-embedding-model-predicting-movie-review-sentiment/)\n",
    "\n",
    "[Best Practices for Text Classification with Deep Learning](https://machinelearningmastery.com/best-practices-document-classification-deep-learning/)\n",
    "\n",
    "[Text classification from scratch](https://keras.io/examples/nlp/text_classification_from_scratch/)"
   ]
  }
 ],
 "metadata": {
  "accelerator": "GPU",
  "colab": {
   "name": "Text_Classification_with_CNN.ipynb",
   "provenance": []
  },
  "kernelspec": {
   "display_name": "Python 3",
   "language": "python",
   "name": "python3"
  },
  "language_info": {
   "codemirror_mode": {
    "name": "ipython",
    "version": 3
   },
   "file_extension": ".py",
   "mimetype": "text/x-python",
   "name": "python",
   "nbconvert_exporter": "python",
   "pygments_lexer": "ipython3",
   "version": "3.7.6"
  },
  "latex_envs": {
   "LaTeX_envs_menu_present": true,
   "autoclose": false,
   "autocomplete": true,
   "bibliofile": "biblio.bib",
   "cite_by": "apalike",
   "current_citInitial": 1,
   "eqLabelWithNumbers": true,
   "eqNumInitial": 1,
   "hotkeys": {
    "equation": "Ctrl-E",
    "itemize": "Ctrl-I"
   },
   "labels_anchors": false,
   "latex_user_defs": false,
   "report_style_numbering": false,
   "user_envs_cfg": false
  },
  "toc": {
   "base_numbering": 1,
   "nav_menu": {},
   "number_sections": true,
   "sideBar": true,
   "skip_h1_title": false,
   "title_cell": "Table of Contents",
   "title_sidebar": "Contents",
   "toc_cell": false,
   "toc_position": {},
   "toc_section_display": true,
   "toc_window_display": false
  },
  "varInspector": {
   "cols": {
    "lenName": 16,
    "lenType": 16,
    "lenVar": 40
   },
   "kernels_config": {
    "python": {
     "delete_cmd_postfix": "",
     "delete_cmd_prefix": "del ",
     "library": "var_list.py",
     "varRefreshCmd": "print(var_dic_list())"
    },
    "r": {
     "delete_cmd_postfix": ") ",
     "delete_cmd_prefix": "rm(",
     "library": "var_list.r",
     "varRefreshCmd": "cat(var_dic_list()) "
    }
   },
   "types_to_exclude": [
    "module",
    "function",
    "builtin_function_or_method",
    "instance",
    "_Feature"
   ],
   "window_display": false
  }
 },
 "nbformat": 4,
 "nbformat_minor": 1
}
