{
 "cells": [
  {
   "cell_type": "markdown",
   "metadata": {},
   "source": [
    "# Sentiment Analysis on 1.6 million tweets using nltk's [VADER Sentiment Analysis](https://github.com/cjhutto/vaderSentiment)"
   ]
  },
  {
   "cell_type": "markdown",
   "metadata": {},
   "source": [
    "### VADER (Valence Aware Dictionary and sEntiment Reasoner) is a lexicon and rule-based sentiment analysis tool that is specifically attuned to sentiments expressed in social media, and works well on texts from other domains."
   ]
  },
  {
   "cell_type": "markdown",
   "metadata": {},
   "source": [
    "### Data of 1.6 Million Tweets can be downloaded from [here](http://cs.stanford.edu/people/alecmgo/trainingandtestdata.zip)"
   ]
  },
  {
   "cell_type": "code",
   "execution_count": 1,
   "metadata": {
    "ExecuteTime": {
     "end_time": "2019-05-18T20:18:53.353021Z",
     "start_time": "2019-05-18T20:18:52.413712Z"
    }
   },
   "outputs": [],
   "source": [
    "# import pandas library\n",
    "import pandas as pd"
   ]
  },
  {
   "cell_type": "code",
   "execution_count": 2,
   "metadata": {
    "ExecuteTime": {
     "end_time": "2019-05-18T20:18:54.348804Z",
     "start_time": "2019-05-18T20:18:54.344814Z"
    }
   },
   "outputs": [],
   "source": [
    "# define column width\n",
    "pd.set_option('display.max_colwidth',100)"
   ]
  },
  {
   "cell_type": "code",
   "execution_count": 3,
   "metadata": {
    "ExecuteTime": {
     "end_time": "2019-05-18T20:18:59.204413Z",
     "start_time": "2019-05-18T20:18:55.496656Z"
    }
   },
   "outputs": [],
   "source": [
    "# name the columns and define encoding to be used for reading the data\n",
    "df_columns = [\"label\", \"ids\", \"date\", \"query\", \"user\", \"text\"]\n",
    "\n",
    "tw = pd.read_csv('Sentiment140/training.1600000.processed.noemoticon.csv', encoding=\"ISO-8859-1\", names=df_columns)"
   ]
  },
  {
   "cell_type": "code",
   "execution_count": 4,
   "metadata": {
    "ExecuteTime": {
     "end_time": "2019-05-18T20:19:00.899589Z",
     "start_time": "2019-05-18T20:19:00.871694Z"
    }
   },
   "outputs": [
    {
     "data": {
      "text/html": [
       "<div>\n",
       "<style scoped>\n",
       "    .dataframe tbody tr th:only-of-type {\n",
       "        vertical-align: middle;\n",
       "    }\n",
       "\n",
       "    .dataframe tbody tr th {\n",
       "        vertical-align: top;\n",
       "    }\n",
       "\n",
       "    .dataframe thead th {\n",
       "        text-align: right;\n",
       "    }\n",
       "</style>\n",
       "<table border=\"1\" class=\"dataframe\">\n",
       "  <thead>\n",
       "    <tr style=\"text-align: right;\">\n",
       "      <th></th>\n",
       "      <th>label</th>\n",
       "      <th>ids</th>\n",
       "      <th>date</th>\n",
       "      <th>query</th>\n",
       "      <th>user</th>\n",
       "      <th>text</th>\n",
       "    </tr>\n",
       "  </thead>\n",
       "  <tbody>\n",
       "    <tr>\n",
       "      <th>0</th>\n",
       "      <td>0</td>\n",
       "      <td>1467810369</td>\n",
       "      <td>Mon Apr 06 22:19:45 PDT 2009</td>\n",
       "      <td>NO_QUERY</td>\n",
       "      <td>_TheSpecialOne_</td>\n",
       "      <td>@switchfoot http://twitpic.com/2y1zl - Awww, that's a bummer.  You shoulda got David Carr of Thi...</td>\n",
       "    </tr>\n",
       "    <tr>\n",
       "      <th>1</th>\n",
       "      <td>0</td>\n",
       "      <td>1467810672</td>\n",
       "      <td>Mon Apr 06 22:19:49 PDT 2009</td>\n",
       "      <td>NO_QUERY</td>\n",
       "      <td>scotthamilton</td>\n",
       "      <td>is upset that he can't update his Facebook by texting it... and might cry as a result  School to...</td>\n",
       "    </tr>\n",
       "    <tr>\n",
       "      <th>2</th>\n",
       "      <td>0</td>\n",
       "      <td>1467810917</td>\n",
       "      <td>Mon Apr 06 22:19:53 PDT 2009</td>\n",
       "      <td>NO_QUERY</td>\n",
       "      <td>mattycus</td>\n",
       "      <td>@Kenichan I dived many times for the ball. Managed to save 50%  The rest go out of bounds</td>\n",
       "    </tr>\n",
       "    <tr>\n",
       "      <th>3</th>\n",
       "      <td>0</td>\n",
       "      <td>1467811184</td>\n",
       "      <td>Mon Apr 06 22:19:57 PDT 2009</td>\n",
       "      <td>NO_QUERY</td>\n",
       "      <td>ElleCTF</td>\n",
       "      <td>my whole body feels itchy and like its on fire</td>\n",
       "    </tr>\n",
       "    <tr>\n",
       "      <th>4</th>\n",
       "      <td>0</td>\n",
       "      <td>1467811193</td>\n",
       "      <td>Mon Apr 06 22:19:57 PDT 2009</td>\n",
       "      <td>NO_QUERY</td>\n",
       "      <td>Karoli</td>\n",
       "      <td>@nationwideclass no, it's not behaving at all. i'm mad. why am i here? because I can't see you a...</td>\n",
       "    </tr>\n",
       "  </tbody>\n",
       "</table>\n",
       "</div>"
      ],
      "text/plain": [
       "   label         ids                          date     query             user  \\\n",
       "0      0  1467810369  Mon Apr 06 22:19:45 PDT 2009  NO_QUERY  _TheSpecialOne_   \n",
       "1      0  1467810672  Mon Apr 06 22:19:49 PDT 2009  NO_QUERY    scotthamilton   \n",
       "2      0  1467810917  Mon Apr 06 22:19:53 PDT 2009  NO_QUERY         mattycus   \n",
       "3      0  1467811184  Mon Apr 06 22:19:57 PDT 2009  NO_QUERY          ElleCTF   \n",
       "4      0  1467811193  Mon Apr 06 22:19:57 PDT 2009  NO_QUERY           Karoli   \n",
       "\n",
       "                                                                                                  text  \n",
       "0  @switchfoot http://twitpic.com/2y1zl - Awww, that's a bummer.  You shoulda got David Carr of Thi...  \n",
       "1  is upset that he can't update his Facebook by texting it... and might cry as a result  School to...  \n",
       "2            @Kenichan I dived many times for the ball. Managed to save 50%  The rest go out of bounds  \n",
       "3                                                      my whole body feels itchy and like its on fire   \n",
       "4  @nationwideclass no, it's not behaving at all. i'm mad. why am i here? because I can't see you a...  "
      ]
     },
     "execution_count": 4,
     "metadata": {},
     "output_type": "execute_result"
    }
   ],
   "source": [
    "# check the data\n",
    "tw.head()"
   ]
  },
  {
   "cell_type": "code",
   "execution_count": 5,
   "metadata": {
    "ExecuteTime": {
     "end_time": "2019-05-18T20:19:11.350093Z",
     "start_time": "2019-05-18T20:19:11.339147Z"
    }
   },
   "outputs": [
    {
     "data": {
      "text/html": [
       "<div>\n",
       "<style scoped>\n",
       "    .dataframe tbody tr th:only-of-type {\n",
       "        vertical-align: middle;\n",
       "    }\n",
       "\n",
       "    .dataframe tbody tr th {\n",
       "        vertical-align: top;\n",
       "    }\n",
       "\n",
       "    .dataframe thead th {\n",
       "        text-align: right;\n",
       "    }\n",
       "</style>\n",
       "<table border=\"1\" class=\"dataframe\">\n",
       "  <thead>\n",
       "    <tr style=\"text-align: right;\">\n",
       "      <th></th>\n",
       "      <th>label</th>\n",
       "      <th>ids</th>\n",
       "      <th>date</th>\n",
       "      <th>query</th>\n",
       "      <th>user</th>\n",
       "      <th>text</th>\n",
       "    </tr>\n",
       "  </thead>\n",
       "  <tbody>\n",
       "    <tr>\n",
       "      <th>1599995</th>\n",
       "      <td>4</td>\n",
       "      <td>2193601966</td>\n",
       "      <td>Tue Jun 16 08:40:49 PDT 2009</td>\n",
       "      <td>NO_QUERY</td>\n",
       "      <td>AmandaMarie1028</td>\n",
       "      <td>Just woke up. Having no school is the best feeling ever</td>\n",
       "    </tr>\n",
       "    <tr>\n",
       "      <th>1599996</th>\n",
       "      <td>4</td>\n",
       "      <td>2193601969</td>\n",
       "      <td>Tue Jun 16 08:40:49 PDT 2009</td>\n",
       "      <td>NO_QUERY</td>\n",
       "      <td>TheWDBoards</td>\n",
       "      <td>TheWDB.com - Very cool to hear old Walt interviews!  â« http://blip.fm/~8bmta</td>\n",
       "    </tr>\n",
       "    <tr>\n",
       "      <th>1599997</th>\n",
       "      <td>4</td>\n",
       "      <td>2193601991</td>\n",
       "      <td>Tue Jun 16 08:40:49 PDT 2009</td>\n",
       "      <td>NO_QUERY</td>\n",
       "      <td>bpbabe</td>\n",
       "      <td>Are you ready for your MoJo Makeover? Ask me for details</td>\n",
       "    </tr>\n",
       "    <tr>\n",
       "      <th>1599998</th>\n",
       "      <td>4</td>\n",
       "      <td>2193602064</td>\n",
       "      <td>Tue Jun 16 08:40:49 PDT 2009</td>\n",
       "      <td>NO_QUERY</td>\n",
       "      <td>tinydiamondz</td>\n",
       "      <td>Happy 38th Birthday to my boo of alll time!!! Tupac Amaru Shakur</td>\n",
       "    </tr>\n",
       "    <tr>\n",
       "      <th>1599999</th>\n",
       "      <td>4</td>\n",
       "      <td>2193602129</td>\n",
       "      <td>Tue Jun 16 08:40:50 PDT 2009</td>\n",
       "      <td>NO_QUERY</td>\n",
       "      <td>RyanTrevMorris</td>\n",
       "      <td>happy #charitytuesday @theNSPCC @SparksCharity @SpeakingUpH4H</td>\n",
       "    </tr>\n",
       "  </tbody>\n",
       "</table>\n",
       "</div>"
      ],
      "text/plain": [
       "         label         ids                          date     query  \\\n",
       "1599995      4  2193601966  Tue Jun 16 08:40:49 PDT 2009  NO_QUERY   \n",
       "1599996      4  2193601969  Tue Jun 16 08:40:49 PDT 2009  NO_QUERY   \n",
       "1599997      4  2193601991  Tue Jun 16 08:40:49 PDT 2009  NO_QUERY   \n",
       "1599998      4  2193602064  Tue Jun 16 08:40:49 PDT 2009  NO_QUERY   \n",
       "1599999      4  2193602129  Tue Jun 16 08:40:50 PDT 2009  NO_QUERY   \n",
       "\n",
       "                    user  \\\n",
       "1599995  AmandaMarie1028   \n",
       "1599996      TheWDBoards   \n",
       "1599997           bpbabe   \n",
       "1599998     tinydiamondz   \n",
       "1599999   RyanTrevMorris   \n",
       "\n",
       "                                                                                   text  \n",
       "1599995                        Just woke up. Having no school is the best feeling ever   \n",
       "1599996  TheWDB.com - Very cool to hear old Walt interviews!  â« http://blip.fm/~8bmta  \n",
       "1599997                       Are you ready for your MoJo Makeover? Ask me for details   \n",
       "1599998               Happy 38th Birthday to my boo of alll time!!! Tupac Amaru Shakur   \n",
       "1599999                  happy #charitytuesday @theNSPCC @SparksCharity @SpeakingUpH4H   "
      ]
     },
     "execution_count": 5,
     "metadata": {},
     "output_type": "execute_result"
    }
   ],
   "source": [
    "tw.tail()"
   ]
  },
  {
   "cell_type": "code",
   "execution_count": 6,
   "metadata": {
    "ExecuteTime": {
     "end_time": "2019-05-18T20:19:17.746247Z",
     "start_time": "2019-05-18T20:19:17.706001Z"
    }
   },
   "outputs": [],
   "source": [
    "# Drop \"ids\", \"date\", \"query\", \"user\" columns are they are not required\n",
    "tw = tw.drop(columns=[\"ids\", \"date\", \"query\", \"user\"])"
   ]
  },
  {
   "cell_type": "code",
   "execution_count": 7,
   "metadata": {
    "ExecuteTime": {
     "end_time": "2019-05-18T20:19:18.496767Z",
     "start_time": "2019-05-18T20:19:18.487784Z"
    }
   },
   "outputs": [
    {
     "data": {
      "text/html": [
       "<div>\n",
       "<style scoped>\n",
       "    .dataframe tbody tr th:only-of-type {\n",
       "        vertical-align: middle;\n",
       "    }\n",
       "\n",
       "    .dataframe tbody tr th {\n",
       "        vertical-align: top;\n",
       "    }\n",
       "\n",
       "    .dataframe thead th {\n",
       "        text-align: right;\n",
       "    }\n",
       "</style>\n",
       "<table border=\"1\" class=\"dataframe\">\n",
       "  <thead>\n",
       "    <tr style=\"text-align: right;\">\n",
       "      <th></th>\n",
       "      <th>label</th>\n",
       "      <th>text</th>\n",
       "    </tr>\n",
       "  </thead>\n",
       "  <tbody>\n",
       "    <tr>\n",
       "      <th>0</th>\n",
       "      <td>0</td>\n",
       "      <td>@switchfoot http://twitpic.com/2y1zl - Awww, that's a bummer.  You shoulda got David Carr of Thi...</td>\n",
       "    </tr>\n",
       "    <tr>\n",
       "      <th>1</th>\n",
       "      <td>0</td>\n",
       "      <td>is upset that he can't update his Facebook by texting it... and might cry as a result  School to...</td>\n",
       "    </tr>\n",
       "    <tr>\n",
       "      <th>2</th>\n",
       "      <td>0</td>\n",
       "      <td>@Kenichan I dived many times for the ball. Managed to save 50%  The rest go out of bounds</td>\n",
       "    </tr>\n",
       "    <tr>\n",
       "      <th>3</th>\n",
       "      <td>0</td>\n",
       "      <td>my whole body feels itchy and like its on fire</td>\n",
       "    </tr>\n",
       "    <tr>\n",
       "      <th>4</th>\n",
       "      <td>0</td>\n",
       "      <td>@nationwideclass no, it's not behaving at all. i'm mad. why am i here? because I can't see you a...</td>\n",
       "    </tr>\n",
       "  </tbody>\n",
       "</table>\n",
       "</div>"
      ],
      "text/plain": [
       "   label  \\\n",
       "0      0   \n",
       "1      0   \n",
       "2      0   \n",
       "3      0   \n",
       "4      0   \n",
       "\n",
       "                                                                                                  text  \n",
       "0  @switchfoot http://twitpic.com/2y1zl - Awww, that's a bummer.  You shoulda got David Carr of Thi...  \n",
       "1  is upset that he can't update his Facebook by texting it... and might cry as a result  School to...  \n",
       "2            @Kenichan I dived many times for the ball. Managed to save 50%  The rest go out of bounds  \n",
       "3                                                      my whole body feels itchy and like its on fire   \n",
       "4  @nationwideclass no, it's not behaving at all. i'm mad. why am i here? because I can't see you a...  "
      ]
     },
     "execution_count": 7,
     "metadata": {},
     "output_type": "execute_result"
    }
   ],
   "source": [
    "tw.head()"
   ]
  },
  {
   "cell_type": "code",
   "execution_count": 8,
   "metadata": {
    "ExecuteTime": {
     "end_time": "2019-05-18T20:19:22.949070Z",
     "start_time": "2019-05-18T20:19:22.812374Z"
    }
   },
   "outputs": [
    {
     "name": "stdout",
     "output_type": "stream",
     "text": [
      "<class 'pandas.core.frame.DataFrame'>\n",
      "RangeIndex: 1600000 entries, 0 to 1599999\n",
      "Data columns (total 2 columns):\n",
      "label    1600000 non-null int64\n",
      "text     1600000 non-null object\n",
      "dtypes: int64(1), object(1)\n",
      "memory usage: 24.4+ MB\n"
     ]
    }
   ],
   "source": [
    "tw.info()"
   ]
  },
  {
   "cell_type": "code",
   "execution_count": 13,
   "metadata": {
    "ExecuteTime": {
     "end_time": "2019-05-18T20:23:30.355384Z",
     "start_time": "2019-05-18T20:23:30.319482Z"
    }
   },
   "outputs": [
    {
     "data": {
      "text/plain": [
       "4    800000\n",
       "0    800000\n",
       "Name: label, dtype: int64"
      ]
     },
     "execution_count": 13,
     "metadata": {},
     "output_type": "execute_result"
    }
   ],
   "source": [
    "# check total number of unique values\n",
    "tw['label'].value_counts()"
   ]
  },
  {
   "cell_type": "code",
   "execution_count": 14,
   "metadata": {
    "ExecuteTime": {
     "end_time": "2019-05-18T20:25:16.006208Z",
     "start_time": "2019-05-18T20:25:15.864620Z"
    }
   },
   "outputs": [
    {
     "data": {
      "text/plain": [
       "label    0\n",
       "text     0\n",
       "dtype: int64"
      ]
     },
     "execution_count": 14,
     "metadata": {},
     "output_type": "execute_result"
    }
   ],
   "source": [
    "# check if we have null values in our data\n",
    "tw.isnull().sum()"
   ]
  },
  {
   "cell_type": "markdown",
   "metadata": {},
   "source": [
    "#### map labels for numeric values in \"label\" column. 0 implies 'negative', 2 implies 'neutral' and 4 implies 'positive'"
   ]
  },
  {
   "cell_type": "code",
   "execution_count": 16,
   "metadata": {
    "ExecuteTime": {
     "end_time": "2019-05-18T20:29:02.570587Z",
     "start_time": "2019-05-18T20:29:02.009090Z"
    }
   },
   "outputs": [],
   "source": [
    "label_map = {0:'neg', 2:'neu', 4:'pos'}\n",
    "\n",
    "def decode(label):\n",
    "    return label_map[int(label)]\n",
    "\n",
    "tw['label'] = tw['label'].apply(lambda x: decode(x))"
   ]
  },
  {
   "cell_type": "code",
   "execution_count": 17,
   "metadata": {
    "ExecuteTime": {
     "end_time": "2019-05-18T20:32:10.901130Z",
     "start_time": "2019-05-18T20:32:10.891189Z"
    }
   },
   "outputs": [
    {
     "data": {
      "text/html": [
       "<div>\n",
       "<style scoped>\n",
       "    .dataframe tbody tr th:only-of-type {\n",
       "        vertical-align: middle;\n",
       "    }\n",
       "\n",
       "    .dataframe tbody tr th {\n",
       "        vertical-align: top;\n",
       "    }\n",
       "\n",
       "    .dataframe thead th {\n",
       "        text-align: right;\n",
       "    }\n",
       "</style>\n",
       "<table border=\"1\" class=\"dataframe\">\n",
       "  <thead>\n",
       "    <tr style=\"text-align: right;\">\n",
       "      <th></th>\n",
       "      <th>label</th>\n",
       "      <th>text</th>\n",
       "    </tr>\n",
       "  </thead>\n",
       "  <tbody>\n",
       "    <tr>\n",
       "      <th>0</th>\n",
       "      <td>neg</td>\n",
       "      <td>@switchfoot http://twitpic.com/2y1zl - Awww, that's a bummer.  You shoulda got David Carr of Thi...</td>\n",
       "    </tr>\n",
       "    <tr>\n",
       "      <th>1</th>\n",
       "      <td>neg</td>\n",
       "      <td>is upset that he can't update his Facebook by texting it... and might cry as a result  School to...</td>\n",
       "    </tr>\n",
       "    <tr>\n",
       "      <th>2</th>\n",
       "      <td>neg</td>\n",
       "      <td>@Kenichan I dived many times for the ball. Managed to save 50%  The rest go out of bounds</td>\n",
       "    </tr>\n",
       "    <tr>\n",
       "      <th>3</th>\n",
       "      <td>neg</td>\n",
       "      <td>my whole body feels itchy and like its on fire</td>\n",
       "    </tr>\n",
       "    <tr>\n",
       "      <th>4</th>\n",
       "      <td>neg</td>\n",
       "      <td>@nationwideclass no, it's not behaving at all. i'm mad. why am i here? because I can't see you a...</td>\n",
       "    </tr>\n",
       "  </tbody>\n",
       "</table>\n",
       "</div>"
      ],
      "text/plain": [
       "  label  \\\n",
       "0   neg   \n",
       "1   neg   \n",
       "2   neg   \n",
       "3   neg   \n",
       "4   neg   \n",
       "\n",
       "                                                                                                  text  \n",
       "0  @switchfoot http://twitpic.com/2y1zl - Awww, that's a bummer.  You shoulda got David Carr of Thi...  \n",
       "1  is upset that he can't update his Facebook by texting it... and might cry as a result  School to...  \n",
       "2            @Kenichan I dived many times for the ball. Managed to save 50%  The rest go out of bounds  \n",
       "3                                                      my whole body feels itchy and like its on fire   \n",
       "4  @nationwideclass no, it's not behaving at all. i'm mad. why am i here? because I can't see you a...  "
      ]
     },
     "execution_count": 17,
     "metadata": {},
     "output_type": "execute_result"
    }
   ],
   "source": [
    "tw.head()"
   ]
  },
  {
   "cell_type": "markdown",
   "metadata": {},
   "source": [
    "### check for whitespace in 'text' column"
   ]
  },
  {
   "cell_type": "code",
   "execution_count": 19,
   "metadata": {
    "ExecuteTime": {
     "end_time": "2019-05-18T20:38:04.634326Z",
     "start_time": "2019-05-18T20:38:03.307798Z"
    }
   },
   "outputs": [
    {
     "name": "stdout",
     "output_type": "stream",
     "text": [
      "[]\n"
     ]
    }
   ],
   "source": [
    "blanks = []\n",
    "\n",
    "for i, lb, tweet in tw.itertuples():  # iterate over the Dataframe\n",
    "    if type(tweet) == str:            # check if 'text' column is of string data type\n",
    "        if tweet.isspace():           # check for whitespace in 'text' column\n",
    "            blanks.append(i)          # append index location to the list\n",
    "            \n",
    "print(blanks)"
   ]
  },
  {
   "cell_type": "code",
   "execution_count": 20,
   "metadata": {
    "ExecuteTime": {
     "end_time": "2019-05-18T20:46:56.911232Z",
     "start_time": "2019-05-18T20:46:54.964420Z"
    }
   },
   "outputs": [],
   "source": [
    "# import nltk's VADER sentiment analysis library\n",
    "from nltk.sentiment.vader import SentimentIntensityAnalyzer\n",
    "\n",
    "sia = SentimentIntensityAnalyzer()"
   ]
  },
  {
   "cell_type": "markdown",
   "metadata": {},
   "source": [
    "### The 'SentimentIntensityAnalyzer' provides score in terms of 'negative', 'neutral' or 'positive' sentiment. The 'compound' score ranges from -1 ('negative') to +1 ('positive') which implies overall sentiment of the text."
   ]
  },
  {
   "cell_type": "code",
   "execution_count": 21,
   "metadata": {
    "ExecuteTime": {
     "end_time": "2019-05-18T21:05:28.737514Z",
     "start_time": "2019-05-18T21:05:28.732527Z"
    }
   },
   "outputs": [
    {
     "data": {
      "text/plain": [
       "{'neg': 0.0, 'neu': 0.334, 'pos': 0.666, 'compound': 0.6114}"
      ]
     },
     "execution_count": 21,
     "metadata": {},
     "output_type": "execute_result"
    }
   ],
   "source": [
    "# Example\n",
    "sia.polarity_scores(\"I'm happy today!\")"
   ]
  },
  {
   "cell_type": "code",
   "execution_count": 22,
   "metadata": {
    "ExecuteTime": {
     "end_time": "2019-05-18T21:35:34.131773Z",
     "start_time": "2019-05-18T21:31:06.470368Z"
    }
   },
   "outputs": [],
   "source": [
    "# get polarity scores from 'text' column\n",
    "tw['scores'] = tw['text'].apply(lambda x:sia.polarity_scores(x))"
   ]
  },
  {
   "cell_type": "code",
   "execution_count": 23,
   "metadata": {
    "ExecuteTime": {
     "end_time": "2019-05-18T21:35:52.458177Z",
     "start_time": "2019-05-18T21:35:52.071016Z"
    }
   },
   "outputs": [],
   "source": [
    "# fetch 'compound' score from 'scores' column\n",
    "tw['compound'] = tw['scores'].apply(lambda x:x['compound'])"
   ]
  },
  {
   "cell_type": "code",
   "execution_count": 24,
   "metadata": {
    "ExecuteTime": {
     "end_time": "2019-05-18T21:36:05.643523Z",
     "start_time": "2019-05-18T21:36:05.306314Z"
    }
   },
   "outputs": [],
   "source": [
    "# label sentiment from 'compound' score\n",
    "tw['pred_label'] = tw['compound'].apply(lambda x:'pos' if x >= 0 else 'neg')"
   ]
  },
  {
   "cell_type": "code",
   "execution_count": 25,
   "metadata": {
    "ExecuteTime": {
     "end_time": "2019-05-18T21:36:11.708567Z",
     "start_time": "2019-05-18T21:36:11.690610Z"
    }
   },
   "outputs": [
    {
     "data": {
      "text/html": [
       "<div>\n",
       "<style scoped>\n",
       "    .dataframe tbody tr th:only-of-type {\n",
       "        vertical-align: middle;\n",
       "    }\n",
       "\n",
       "    .dataframe tbody tr th {\n",
       "        vertical-align: top;\n",
       "    }\n",
       "\n",
       "    .dataframe thead th {\n",
       "        text-align: right;\n",
       "    }\n",
       "</style>\n",
       "<table border=\"1\" class=\"dataframe\">\n",
       "  <thead>\n",
       "    <tr style=\"text-align: right;\">\n",
       "      <th></th>\n",
       "      <th>label</th>\n",
       "      <th>text</th>\n",
       "      <th>scores</th>\n",
       "      <th>compound</th>\n",
       "      <th>pred_label</th>\n",
       "    </tr>\n",
       "  </thead>\n",
       "  <tbody>\n",
       "    <tr>\n",
       "      <th>1599980</th>\n",
       "      <td>pos</td>\n",
       "      <td>@myheartandmind jo jen by nemuselo zrovna tÃ© holce ael co nic</td>\n",
       "      <td>{'neg': 0.0, 'neu': 1.0, 'pos': 0.0, 'compound': 0.0}</td>\n",
       "      <td>0.0000</td>\n",
       "      <td>pos</td>\n",
       "    </tr>\n",
       "    <tr>\n",
       "      <th>1599981</th>\n",
       "      <td>pos</td>\n",
       "      <td>Another Commenting Contest! [;: Yay!!!  http://tinyurl.com/m6j2an</td>\n",
       "      <td>{'neg': 0.0, 'neu': 0.523, 'pos': 0.477, 'compound': 0.6776}</td>\n",
       "      <td>0.6776</td>\n",
       "      <td>pos</td>\n",
       "    </tr>\n",
       "    <tr>\n",
       "      <th>1599982</th>\n",
       "      <td>pos</td>\n",
       "      <td>@thrillmesoon i figured out how to see my tweets and facebook status updates, and i was set  the...</td>\n",
       "      <td>{'neg': 0.123, 'neu': 0.784, 'pos': 0.093, 'compound': -0.2023}</td>\n",
       "      <td>-0.2023</td>\n",
       "      <td>neg</td>\n",
       "    </tr>\n",
       "    <tr>\n",
       "      <th>1599983</th>\n",
       "      <td>pos</td>\n",
       "      <td>@oxhot theri tomorrow, drinking coffee, talking about our most important and favourite issue! YO...</td>\n",
       "      <td>{'neg': 0.0, 'neu': 0.87, 'pos': 0.13, 'compound': 0.3367}</td>\n",
       "      <td>0.3367</td>\n",
       "      <td>pos</td>\n",
       "    </tr>\n",
       "    <tr>\n",
       "      <th>1599984</th>\n",
       "      <td>pos</td>\n",
       "      <td>You heard it here first -- We're having a girl. Hope it has my looks and Wendy's brains. (Kiddin...</td>\n",
       "      <td>{'neg': 0.0, 'neu': 0.861, 'pos': 0.139, 'compound': 0.4404}</td>\n",
       "      <td>0.4404</td>\n",
       "      <td>pos</td>\n",
       "    </tr>\n",
       "    <tr>\n",
       "      <th>1599985</th>\n",
       "      <td>pos</td>\n",
       "      <td>if ur the lead singer in a band, beware falling prey to LSD &amp;quot;Lead Singer Disease&amp;quot; http...</td>\n",
       "      <td>{'neg': 0.086, 'neu': 0.914, 'pos': 0.0, 'compound': -0.1531}</td>\n",
       "      <td>-0.1531</td>\n",
       "      <td>neg</td>\n",
       "    </tr>\n",
       "    <tr>\n",
       "      <th>1599986</th>\n",
       "      <td>pos</td>\n",
       "      <td>@tarayqueen too much ads on my blog.</td>\n",
       "      <td>{'neg': 0.0, 'neu': 1.0, 'pos': 0.0, 'compound': 0.0}</td>\n",
       "      <td>0.0000</td>\n",
       "      <td>pos</td>\n",
       "    </tr>\n",
       "    <tr>\n",
       "      <th>1599987</th>\n",
       "      <td>pos</td>\n",
       "      <td>@La_r_a NEVEER  I think that you both will get on well with each other...</td>\n",
       "      <td>{'neg': 0.0, 'neu': 0.851, 'pos': 0.149, 'compound': 0.2732}</td>\n",
       "      <td>0.2732</td>\n",
       "      <td>pos</td>\n",
       "    </tr>\n",
       "    <tr>\n",
       "      <th>1599988</th>\n",
       "      <td>pos</td>\n",
       "      <td>@Roy_Everitt ha- good job. that's right - we gotta throw that #bigrun tag EVERYWHERE! I wanna ge...</td>\n",
       "      <td>{'neg': 0.0, 'neu': 0.752, 'pos': 0.248, 'compound': 0.68}</td>\n",
       "      <td>0.6800</td>\n",
       "      <td>pos</td>\n",
       "    </tr>\n",
       "    <tr>\n",
       "      <th>1599989</th>\n",
       "      <td>pos</td>\n",
       "      <td>@Ms_Hip_Hop im glad ur doing well</td>\n",
       "      <td>{'neg': 0.0, 'neu': 0.44, 'pos': 0.56, 'compound': 0.6249}</td>\n",
       "      <td>0.6249</td>\n",
       "      <td>pos</td>\n",
       "    </tr>\n",
       "    <tr>\n",
       "      <th>1599990</th>\n",
       "      <td>pos</td>\n",
       "      <td>WOOOOO! Xbox is back</td>\n",
       "      <td>{'neg': 0.0, 'neu': 1.0, 'pos': 0.0, 'compound': 0.0}</td>\n",
       "      <td>0.0000</td>\n",
       "      <td>pos</td>\n",
       "    </tr>\n",
       "    <tr>\n",
       "      <th>1599991</th>\n",
       "      <td>pos</td>\n",
       "      <td>@rmedina @LaTati Mmmm  That sounds absolutely perfect... but my schedule is full. I won't have t...</td>\n",
       "      <td>{'neg': 0.169, 'neu': 0.831, 'pos': 0.0, 'compound': -0.6467}</td>\n",
       "      <td>-0.6467</td>\n",
       "      <td>neg</td>\n",
       "    </tr>\n",
       "    <tr>\n",
       "      <th>1599992</th>\n",
       "      <td>pos</td>\n",
       "      <td>ReCoVeRiNg FrOm ThE lOnG wEeKeNd</td>\n",
       "      <td>{'neg': 0.0, 'neu': 1.0, 'pos': 0.0, 'compound': 0.0}</td>\n",
       "      <td>0.0000</td>\n",
       "      <td>pos</td>\n",
       "    </tr>\n",
       "    <tr>\n",
       "      <th>1599993</th>\n",
       "      <td>pos</td>\n",
       "      <td>@SCOOBY_GRITBOYS</td>\n",
       "      <td>{'neg': 0.0, 'neu': 1.0, 'pos': 0.0, 'compound': 0.0}</td>\n",
       "      <td>0.0000</td>\n",
       "      <td>pos</td>\n",
       "    </tr>\n",
       "    <tr>\n",
       "      <th>1599994</th>\n",
       "      <td>pos</td>\n",
       "      <td>@Cliff_Forster Yeah, that does work better than just waiting for it  In the end I just wonder if...</td>\n",
       "      <td>{'neg': 0.0, 'neu': 0.724, 'pos': 0.276, 'compound': 0.7906}</td>\n",
       "      <td>0.7906</td>\n",
       "      <td>pos</td>\n",
       "    </tr>\n",
       "    <tr>\n",
       "      <th>1599995</th>\n",
       "      <td>pos</td>\n",
       "      <td>Just woke up. Having no school is the best feeling ever</td>\n",
       "      <td>{'neg': 0.138, 'neu': 0.503, 'pos': 0.358, 'compound': 0.5423}</td>\n",
       "      <td>0.5423</td>\n",
       "      <td>pos</td>\n",
       "    </tr>\n",
       "    <tr>\n",
       "      <th>1599996</th>\n",
       "      <td>pos</td>\n",
       "      <td>TheWDB.com - Very cool to hear old Walt interviews!  â« http://blip.fm/~8bmta</td>\n",
       "      <td>{'neg': 0.0, 'neu': 0.757, 'pos': 0.243, 'compound': 0.4376}</td>\n",
       "      <td>0.4376</td>\n",
       "      <td>pos</td>\n",
       "    </tr>\n",
       "    <tr>\n",
       "      <th>1599997</th>\n",
       "      <td>pos</td>\n",
       "      <td>Are you ready for your MoJo Makeover? Ask me for details</td>\n",
       "      <td>{'neg': 0.0, 'neu': 0.8, 'pos': 0.2, 'compound': 0.3612}</td>\n",
       "      <td>0.3612</td>\n",
       "      <td>pos</td>\n",
       "    </tr>\n",
       "    <tr>\n",
       "      <th>1599998</th>\n",
       "      <td>pos</td>\n",
       "      <td>Happy 38th Birthday to my boo of alll time!!! Tupac Amaru Shakur</td>\n",
       "      <td>{'neg': 0.0, 'neu': 0.706, 'pos': 0.294, 'compound': 0.6784}</td>\n",
       "      <td>0.6784</td>\n",
       "      <td>pos</td>\n",
       "    </tr>\n",
       "    <tr>\n",
       "      <th>1599999</th>\n",
       "      <td>pos</td>\n",
       "      <td>happy #charitytuesday @theNSPCC @SparksCharity @SpeakingUpH4H</td>\n",
       "      <td>{'neg': 0.0, 'neu': 0.519, 'pos': 0.481, 'compound': 0.5719}</td>\n",
       "      <td>0.5719</td>\n",
       "      <td>pos</td>\n",
       "    </tr>\n",
       "  </tbody>\n",
       "</table>\n",
       "</div>"
      ],
      "text/plain": [
       "        label  \\\n",
       "1599980   pos   \n",
       "1599981   pos   \n",
       "1599982   pos   \n",
       "1599983   pos   \n",
       "1599984   pos   \n",
       "1599985   pos   \n",
       "1599986   pos   \n",
       "1599987   pos   \n",
       "1599988   pos   \n",
       "1599989   pos   \n",
       "1599990   pos   \n",
       "1599991   pos   \n",
       "1599992   pos   \n",
       "1599993   pos   \n",
       "1599994   pos   \n",
       "1599995   pos   \n",
       "1599996   pos   \n",
       "1599997   pos   \n",
       "1599998   pos   \n",
       "1599999   pos   \n",
       "\n",
       "                                                                                                        text  \\\n",
       "1599980                                      @myheartandmind jo jen by nemuselo zrovna tÃ© holce ael co nic    \n",
       "1599981                                    Another Commenting Contest! [;: Yay!!!  http://tinyurl.com/m6j2an   \n",
       "1599982  @thrillmesoon i figured out how to see my tweets and facebook status updates, and i was set  the...   \n",
       "1599983  @oxhot theri tomorrow, drinking coffee, talking about our most important and favourite issue! YO...   \n",
       "1599984  You heard it here first -- We're having a girl. Hope it has my looks and Wendy's brains. (Kiddin...   \n",
       "1599985  if ur the lead singer in a band, beware falling prey to LSD &quot;Lead Singer Disease&quot; http...   \n",
       "1599986                                                                @tarayqueen too much ads on my blog.    \n",
       "1599987                            @La_r_a NEVEER  I think that you both will get on well with each other...   \n",
       "1599988  @Roy_Everitt ha- good job. that's right - we gotta throw that #bigrun tag EVERYWHERE! I wanna ge...   \n",
       "1599989                                                                   @Ms_Hip_Hop im glad ur doing well    \n",
       "1599990                                                                                WOOOOO! Xbox is back    \n",
       "1599991  @rmedina @LaTati Mmmm  That sounds absolutely perfect... but my schedule is full. I won't have t...   \n",
       "1599992                                                                    ReCoVeRiNg FrOm ThE lOnG wEeKeNd    \n",
       "1599993                                                                                    @SCOOBY_GRITBOYS    \n",
       "1599994  @Cliff_Forster Yeah, that does work better than just waiting for it  In the end I just wonder if...   \n",
       "1599995                                             Just woke up. Having no school is the best feeling ever    \n",
       "1599996                       TheWDB.com - Very cool to hear old Walt interviews!  â« http://blip.fm/~8bmta   \n",
       "1599997                                            Are you ready for your MoJo Makeover? Ask me for details    \n",
       "1599998                                    Happy 38th Birthday to my boo of alll time!!! Tupac Amaru Shakur    \n",
       "1599999                                       happy #charitytuesday @theNSPCC @SparksCharity @SpeakingUpH4H    \n",
       "\n",
       "                                                                  scores  \\\n",
       "1599980            {'neg': 0.0, 'neu': 1.0, 'pos': 0.0, 'compound': 0.0}   \n",
       "1599981     {'neg': 0.0, 'neu': 0.523, 'pos': 0.477, 'compound': 0.6776}   \n",
       "1599982  {'neg': 0.123, 'neu': 0.784, 'pos': 0.093, 'compound': -0.2023}   \n",
       "1599983       {'neg': 0.0, 'neu': 0.87, 'pos': 0.13, 'compound': 0.3367}   \n",
       "1599984     {'neg': 0.0, 'neu': 0.861, 'pos': 0.139, 'compound': 0.4404}   \n",
       "1599985    {'neg': 0.086, 'neu': 0.914, 'pos': 0.0, 'compound': -0.1531}   \n",
       "1599986            {'neg': 0.0, 'neu': 1.0, 'pos': 0.0, 'compound': 0.0}   \n",
       "1599987     {'neg': 0.0, 'neu': 0.851, 'pos': 0.149, 'compound': 0.2732}   \n",
       "1599988       {'neg': 0.0, 'neu': 0.752, 'pos': 0.248, 'compound': 0.68}   \n",
       "1599989       {'neg': 0.0, 'neu': 0.44, 'pos': 0.56, 'compound': 0.6249}   \n",
       "1599990            {'neg': 0.0, 'neu': 1.0, 'pos': 0.0, 'compound': 0.0}   \n",
       "1599991    {'neg': 0.169, 'neu': 0.831, 'pos': 0.0, 'compound': -0.6467}   \n",
       "1599992            {'neg': 0.0, 'neu': 1.0, 'pos': 0.0, 'compound': 0.0}   \n",
       "1599993            {'neg': 0.0, 'neu': 1.0, 'pos': 0.0, 'compound': 0.0}   \n",
       "1599994     {'neg': 0.0, 'neu': 0.724, 'pos': 0.276, 'compound': 0.7906}   \n",
       "1599995   {'neg': 0.138, 'neu': 0.503, 'pos': 0.358, 'compound': 0.5423}   \n",
       "1599996     {'neg': 0.0, 'neu': 0.757, 'pos': 0.243, 'compound': 0.4376}   \n",
       "1599997         {'neg': 0.0, 'neu': 0.8, 'pos': 0.2, 'compound': 0.3612}   \n",
       "1599998     {'neg': 0.0, 'neu': 0.706, 'pos': 0.294, 'compound': 0.6784}   \n",
       "1599999     {'neg': 0.0, 'neu': 0.519, 'pos': 0.481, 'compound': 0.5719}   \n",
       "\n",
       "         compound pred_label  \n",
       "1599980    0.0000        pos  \n",
       "1599981    0.6776        pos  \n",
       "1599982   -0.2023        neg  \n",
       "1599983    0.3367        pos  \n",
       "1599984    0.4404        pos  \n",
       "1599985   -0.1531        neg  \n",
       "1599986    0.0000        pos  \n",
       "1599987    0.2732        pos  \n",
       "1599988    0.6800        pos  \n",
       "1599989    0.6249        pos  \n",
       "1599990    0.0000        pos  \n",
       "1599991   -0.6467        neg  \n",
       "1599992    0.0000        pos  \n",
       "1599993    0.0000        pos  \n",
       "1599994    0.7906        pos  \n",
       "1599995    0.5423        pos  \n",
       "1599996    0.4376        pos  \n",
       "1599997    0.3612        pos  \n",
       "1599998    0.6784        pos  \n",
       "1599999    0.5719        pos  "
      ]
     },
     "execution_count": 25,
     "metadata": {},
     "output_type": "execute_result"
    }
   ],
   "source": [
    "tw.tail(n=20)"
   ]
  },
  {
   "cell_type": "code",
   "execution_count": 26,
   "metadata": {
    "ExecuteTime": {
     "end_time": "2019-05-18T21:36:33.147596Z",
     "start_time": "2019-05-18T21:36:33.145603Z"
    }
   },
   "outputs": [],
   "source": [
    "from sklearn.metrics import classification_report, confusion_matrix, accuracy_score"
   ]
  },
  {
   "cell_type": "code",
   "execution_count": 27,
   "metadata": {
    "ExecuteTime": {
     "end_time": "2019-05-18T21:36:39.297404Z",
     "start_time": "2019-05-18T21:36:35.706198Z"
    }
   },
   "outputs": [
    {
     "data": {
      "text/plain": [
       "0.66120125"
      ]
     },
     "execution_count": 27,
     "metadata": {},
     "output_type": "execute_result"
    }
   ],
   "source": [
    "# check for accuracy of predicted sentiment ('pred_label') against actual sentiment ('label') \n",
    "accuracy_score(tw['label'],tw['pred_label'])"
   ]
  },
  {
   "cell_type": "code",
   "execution_count": 28,
   "metadata": {
    "ExecuteTime": {
     "end_time": "2019-05-18T21:37:09.084342Z",
     "start_time": "2019-05-18T21:37:01.511845Z"
    }
   },
   "outputs": [
    {
     "name": "stdout",
     "output_type": "stream",
     "text": [
      "[[339519 460481]\n",
      " [ 81597 718403]]\n"
     ]
    }
   ],
   "source": [
    "print(confusion_matrix(tw['label'],tw['pred_label']))"
   ]
  },
  {
   "cell_type": "code",
   "execution_count": 29,
   "metadata": {
    "ExecuteTime": {
     "end_time": "2019-05-18T21:37:47.504826Z",
     "start_time": "2019-05-18T21:37:10.859615Z"
    }
   },
   "outputs": [
    {
     "name": "stdout",
     "output_type": "stream",
     "text": [
      "              precision    recall  f1-score   support\n",
      "\n",
      "         neg       0.81      0.42      0.56    800000\n",
      "         pos       0.61      0.90      0.73    800000\n",
      "\n",
      "   micro avg       0.66      0.66      0.66   1600000\n",
      "   macro avg       0.71      0.66      0.64   1600000\n",
      "weighted avg       0.71      0.66      0.64   1600000\n",
      "\n"
     ]
    }
   ],
   "source": [
    "print(classification_report(tw['label'],tw['pred_label']))"
   ]
  },
  {
   "cell_type": "markdown",
   "metadata": {},
   "source": [
    "## We get 66% accuracy while predicting sentiment of 1.6 million tweets"
   ]
  },
  {
   "cell_type": "markdown",
   "metadata": {},
   "source": [
    "### We have some test data too which is not required in this analysis, but we can follow same procdure and check the accuracy of prediction"
   ]
  },
  {
   "cell_type": "code",
   "execution_count": 30,
   "metadata": {
    "ExecuteTime": {
     "end_time": "2019-05-18T21:43:34.824217Z",
     "start_time": "2019-05-18T21:43:34.812220Z"
    }
   },
   "outputs": [],
   "source": [
    "tw_test = pd.read_csv('Sentiment140/testdata.manual.2009.06.14.csv', encoding=\"ISO-8859-1\", names=df_columns)"
   ]
  },
  {
   "cell_type": "code",
   "execution_count": 31,
   "metadata": {
    "ExecuteTime": {
     "end_time": "2019-05-18T21:43:36.238579Z",
     "start_time": "2019-05-18T21:43:36.226610Z"
    }
   },
   "outputs": [
    {
     "data": {
      "text/html": [
       "<div>\n",
       "<style scoped>\n",
       "    .dataframe tbody tr th:only-of-type {\n",
       "        vertical-align: middle;\n",
       "    }\n",
       "\n",
       "    .dataframe tbody tr th {\n",
       "        vertical-align: top;\n",
       "    }\n",
       "\n",
       "    .dataframe thead th {\n",
       "        text-align: right;\n",
       "    }\n",
       "</style>\n",
       "<table border=\"1\" class=\"dataframe\">\n",
       "  <thead>\n",
       "    <tr style=\"text-align: right;\">\n",
       "      <th></th>\n",
       "      <th>label</th>\n",
       "      <th>ids</th>\n",
       "      <th>date</th>\n",
       "      <th>query</th>\n",
       "      <th>user</th>\n",
       "      <th>text</th>\n",
       "    </tr>\n",
       "  </thead>\n",
       "  <tbody>\n",
       "    <tr>\n",
       "      <th>0</th>\n",
       "      <td>4</td>\n",
       "      <td>3</td>\n",
       "      <td>Mon May 11 03:17:40 UTC 2009</td>\n",
       "      <td>kindle2</td>\n",
       "      <td>tpryan</td>\n",
       "      <td>@stellargirl I loooooooovvvvvveee my Kindle2. Not that the DX is cool, but the 2 is fantastic in...</td>\n",
       "    </tr>\n",
       "    <tr>\n",
       "      <th>1</th>\n",
       "      <td>4</td>\n",
       "      <td>4</td>\n",
       "      <td>Mon May 11 03:18:03 UTC 2009</td>\n",
       "      <td>kindle2</td>\n",
       "      <td>vcu451</td>\n",
       "      <td>Reading my kindle2...  Love it... Lee childs is good read.</td>\n",
       "    </tr>\n",
       "    <tr>\n",
       "      <th>2</th>\n",
       "      <td>4</td>\n",
       "      <td>5</td>\n",
       "      <td>Mon May 11 03:18:54 UTC 2009</td>\n",
       "      <td>kindle2</td>\n",
       "      <td>chadfu</td>\n",
       "      <td>Ok, first assesment of the #kindle2 ...it fucking rocks!!!</td>\n",
       "    </tr>\n",
       "    <tr>\n",
       "      <th>3</th>\n",
       "      <td>4</td>\n",
       "      <td>6</td>\n",
       "      <td>Mon May 11 03:19:04 UTC 2009</td>\n",
       "      <td>kindle2</td>\n",
       "      <td>SIX15</td>\n",
       "      <td>@kenburbary You'll love your Kindle2. I've had mine for a few months and never looked back. The ...</td>\n",
       "    </tr>\n",
       "    <tr>\n",
       "      <th>4</th>\n",
       "      <td>4</td>\n",
       "      <td>7</td>\n",
       "      <td>Mon May 11 03:21:41 UTC 2009</td>\n",
       "      <td>kindle2</td>\n",
       "      <td>yamarama</td>\n",
       "      <td>@mikefish  Fair enough. But i have the Kindle2 and I think it's perfect  :)</td>\n",
       "    </tr>\n",
       "  </tbody>\n",
       "</table>\n",
       "</div>"
      ],
      "text/plain": [
       "   label  ids                          date    query      user  \\\n",
       "0      4    3  Mon May 11 03:17:40 UTC 2009  kindle2    tpryan   \n",
       "1      4    4  Mon May 11 03:18:03 UTC 2009  kindle2    vcu451   \n",
       "2      4    5  Mon May 11 03:18:54 UTC 2009  kindle2    chadfu   \n",
       "3      4    6  Mon May 11 03:19:04 UTC 2009  kindle2     SIX15   \n",
       "4      4    7  Mon May 11 03:21:41 UTC 2009  kindle2  yamarama   \n",
       "\n",
       "                                                                                                  text  \n",
       "0  @stellargirl I loooooooovvvvvveee my Kindle2. Not that the DX is cool, but the 2 is fantastic in...  \n",
       "1                                           Reading my kindle2...  Love it... Lee childs is good read.  \n",
       "2                                           Ok, first assesment of the #kindle2 ...it fucking rocks!!!  \n",
       "3  @kenburbary You'll love your Kindle2. I've had mine for a few months and never looked back. The ...  \n",
       "4                          @mikefish  Fair enough. But i have the Kindle2 and I think it's perfect  :)  "
      ]
     },
     "execution_count": 31,
     "metadata": {},
     "output_type": "execute_result"
    }
   ],
   "source": [
    "tw_test.head()"
   ]
  },
  {
   "cell_type": "code",
   "execution_count": 32,
   "metadata": {
    "ExecuteTime": {
     "end_time": "2019-05-18T21:43:40.463384Z",
     "start_time": "2019-05-18T21:43:40.458427Z"
    }
   },
   "outputs": [],
   "source": [
    "tw_test = tw_test.drop(columns=[\"ids\", \"date\", \"query\", \"user\"])"
   ]
  },
  {
   "cell_type": "code",
   "execution_count": 33,
   "metadata": {
    "ExecuteTime": {
     "end_time": "2019-05-18T21:43:43.546096Z",
     "start_time": "2019-05-18T21:43:43.537087Z"
    }
   },
   "outputs": [
    {
     "data": {
      "text/html": [
       "<div>\n",
       "<style scoped>\n",
       "    .dataframe tbody tr th:only-of-type {\n",
       "        vertical-align: middle;\n",
       "    }\n",
       "\n",
       "    .dataframe tbody tr th {\n",
       "        vertical-align: top;\n",
       "    }\n",
       "\n",
       "    .dataframe thead th {\n",
       "        text-align: right;\n",
       "    }\n",
       "</style>\n",
       "<table border=\"1\" class=\"dataframe\">\n",
       "  <thead>\n",
       "    <tr style=\"text-align: right;\">\n",
       "      <th></th>\n",
       "      <th>label</th>\n",
       "      <th>text</th>\n",
       "    </tr>\n",
       "  </thead>\n",
       "  <tbody>\n",
       "    <tr>\n",
       "      <th>0</th>\n",
       "      <td>4</td>\n",
       "      <td>@stellargirl I loooooooovvvvvveee my Kindle2. Not that the DX is cool, but the 2 is fantastic in...</td>\n",
       "    </tr>\n",
       "    <tr>\n",
       "      <th>1</th>\n",
       "      <td>4</td>\n",
       "      <td>Reading my kindle2...  Love it... Lee childs is good read.</td>\n",
       "    </tr>\n",
       "    <tr>\n",
       "      <th>2</th>\n",
       "      <td>4</td>\n",
       "      <td>Ok, first assesment of the #kindle2 ...it fucking rocks!!!</td>\n",
       "    </tr>\n",
       "    <tr>\n",
       "      <th>3</th>\n",
       "      <td>4</td>\n",
       "      <td>@kenburbary You'll love your Kindle2. I've had mine for a few months and never looked back. The ...</td>\n",
       "    </tr>\n",
       "    <tr>\n",
       "      <th>4</th>\n",
       "      <td>4</td>\n",
       "      <td>@mikefish  Fair enough. But i have the Kindle2 and I think it's perfect  :)</td>\n",
       "    </tr>\n",
       "  </tbody>\n",
       "</table>\n",
       "</div>"
      ],
      "text/plain": [
       "   label  \\\n",
       "0      4   \n",
       "1      4   \n",
       "2      4   \n",
       "3      4   \n",
       "4      4   \n",
       "\n",
       "                                                                                                  text  \n",
       "0  @stellargirl I loooooooovvvvvveee my Kindle2. Not that the DX is cool, but the 2 is fantastic in...  \n",
       "1                                           Reading my kindle2...  Love it... Lee childs is good read.  \n",
       "2                                           Ok, first assesment of the #kindle2 ...it fucking rocks!!!  \n",
       "3  @kenburbary You'll love your Kindle2. I've had mine for a few months and never looked back. The ...  \n",
       "4                          @mikefish  Fair enough. But i have the Kindle2 and I think it's perfect  :)  "
      ]
     },
     "execution_count": 33,
     "metadata": {},
     "output_type": "execute_result"
    }
   ],
   "source": [
    "tw_test.head()"
   ]
  },
  {
   "cell_type": "code",
   "execution_count": 34,
   "metadata": {
    "ExecuteTime": {
     "end_time": "2019-05-18T21:43:47.820325Z",
     "start_time": "2019-05-18T21:43:47.813346Z"
    }
   },
   "outputs": [
    {
     "name": "stdout",
     "output_type": "stream",
     "text": [
      "<class 'pandas.core.frame.DataFrame'>\n",
      "RangeIndex: 498 entries, 0 to 497\n",
      "Data columns (total 2 columns):\n",
      "label    498 non-null int64\n",
      "text     498 non-null object\n",
      "dtypes: int64(1), object(1)\n",
      "memory usage: 7.9+ KB\n"
     ]
    }
   ],
   "source": [
    "tw_test.info()"
   ]
  },
  {
   "cell_type": "code",
   "execution_count": 35,
   "metadata": {
    "ExecuteTime": {
     "end_time": "2019-05-18T21:46:06.984230Z",
     "start_time": "2019-05-18T21:46:06.976294Z"
    }
   },
   "outputs": [
    {
     "data": {
      "text/plain": [
       "4    182\n",
       "0    177\n",
       "2    139\n",
       "Name: label, dtype: int64"
      ]
     },
     "execution_count": 35,
     "metadata": {},
     "output_type": "execute_result"
    }
   ],
   "source": [
    "tw_test.label.value_counts()"
   ]
  },
  {
   "cell_type": "code",
   "execution_count": 36,
   "metadata": {
    "ExecuteTime": {
     "end_time": "2019-05-18T21:46:12.278469Z",
     "start_time": "2019-05-18T21:46:12.272479Z"
    }
   },
   "outputs": [],
   "source": [
    "label_map = {0:'neg', 2:'neu', 4:'pos'}\n",
    "\n",
    "def decode(label):\n",
    "    return label_map[int(label)]\n",
    "\n",
    "tw_test['label'] = tw_test['label'].apply(lambda x: decode(x))"
   ]
  },
  {
   "cell_type": "code",
   "execution_count": 37,
   "metadata": {
    "ExecuteTime": {
     "end_time": "2019-05-18T21:46:13.116233Z",
     "start_time": "2019-05-18T21:46:13.107259Z"
    }
   },
   "outputs": [
    {
     "data": {
      "text/plain": [
       "label    0\n",
       "text     0\n",
       "dtype: int64"
      ]
     },
     "execution_count": 37,
     "metadata": {},
     "output_type": "execute_result"
    }
   ],
   "source": [
    "tw_test.isnull().sum()"
   ]
  },
  {
   "cell_type": "code",
   "execution_count": 38,
   "metadata": {
    "ExecuteTime": {
     "end_time": "2019-05-18T21:46:16.309916Z",
     "start_time": "2019-05-18T21:46:16.302934Z"
    }
   },
   "outputs": [
    {
     "name": "stdout",
     "output_type": "stream",
     "text": [
      "[]\n"
     ]
    }
   ],
   "source": [
    "blanks = []\n",
    "\n",
    "for i, lb, tweet in tw_test.itertuples():\n",
    "    if type(tweet) == str:\n",
    "        if tweet.isspace():\n",
    "            blanks.append(i)\n",
    "            \n",
    "print(blanks)"
   ]
  },
  {
   "cell_type": "code",
   "execution_count": 39,
   "metadata": {
    "ExecuteTime": {
     "end_time": "2019-05-18T21:47:09.701966Z",
     "start_time": "2019-05-18T21:47:09.599941Z"
    }
   },
   "outputs": [],
   "source": [
    "tw_test['scores'] = tw_test['text'].apply(lambda x:sia.polarity_scores(x))"
   ]
  },
  {
   "cell_type": "code",
   "execution_count": 40,
   "metadata": {
    "ExecuteTime": {
     "end_time": "2019-05-18T21:47:12.250881Z",
     "start_time": "2019-05-18T21:47:12.246882Z"
    }
   },
   "outputs": [],
   "source": [
    "tw_test['compound'] = tw_test['scores'].apply(lambda x:x['compound'])"
   ]
  },
  {
   "cell_type": "code",
   "execution_count": 41,
   "metadata": {
    "ExecuteTime": {
     "end_time": "2019-05-18T21:47:13.551676Z",
     "start_time": "2019-05-18T21:47:13.547672Z"
    }
   },
   "outputs": [],
   "source": [
    "tw_test['pred_label'] = tw_test['compound'].apply(lambda x:'neu' if x == 0 else 'pos' if x > 0 else 'neg')"
   ]
  },
  {
   "cell_type": "code",
   "execution_count": 42,
   "metadata": {
    "ExecuteTime": {
     "end_time": "2019-05-18T21:47:54.763026Z",
     "start_time": "2019-05-18T21:47:54.746032Z"
    }
   },
   "outputs": [
    {
     "data": {
      "text/html": [
       "<div>\n",
       "<style scoped>\n",
       "    .dataframe tbody tr th:only-of-type {\n",
       "        vertical-align: middle;\n",
       "    }\n",
       "\n",
       "    .dataframe tbody tr th {\n",
       "        vertical-align: top;\n",
       "    }\n",
       "\n",
       "    .dataframe thead th {\n",
       "        text-align: right;\n",
       "    }\n",
       "</style>\n",
       "<table border=\"1\" class=\"dataframe\">\n",
       "  <thead>\n",
       "    <tr style=\"text-align: right;\">\n",
       "      <th></th>\n",
       "      <th>label</th>\n",
       "      <th>text</th>\n",
       "      <th>scores</th>\n",
       "      <th>compound</th>\n",
       "      <th>pred_label</th>\n",
       "    </tr>\n",
       "  </thead>\n",
       "  <tbody>\n",
       "    <tr>\n",
       "      <th>0</th>\n",
       "      <td>pos</td>\n",
       "      <td>@stellargirl I loooooooovvvvvveee my Kindle2. Not that the DX is cool, but the 2 is fantastic in...</td>\n",
       "      <td>{'neg': 0.0, 'neu': 0.627, 'pos': 0.373, 'compound': 0.8373}</td>\n",
       "      <td>0.8373</td>\n",
       "      <td>pos</td>\n",
       "    </tr>\n",
       "    <tr>\n",
       "      <th>1</th>\n",
       "      <td>pos</td>\n",
       "      <td>Reading my kindle2...  Love it... Lee childs is good read.</td>\n",
       "      <td>{'neg': 0.0, 'neu': 0.53, 'pos': 0.47, 'compound': 0.7964}</td>\n",
       "      <td>0.7964</td>\n",
       "      <td>pos</td>\n",
       "    </tr>\n",
       "    <tr>\n",
       "      <th>2</th>\n",
       "      <td>pos</td>\n",
       "      <td>Ok, first assesment of the #kindle2 ...it fucking rocks!!!</td>\n",
       "      <td>{'neg': 0.0, 'neu': 0.722, 'pos': 0.278, 'compound': 0.4724}</td>\n",
       "      <td>0.4724</td>\n",
       "      <td>pos</td>\n",
       "    </tr>\n",
       "    <tr>\n",
       "      <th>3</th>\n",
       "      <td>pos</td>\n",
       "      <td>@kenburbary You'll love your Kindle2. I've had mine for a few months and never looked back. The ...</td>\n",
       "      <td>{'neg': 0.122, 'neu': 0.593, 'pos': 0.285, 'compound': 0.7772}</td>\n",
       "      <td>0.7772</td>\n",
       "      <td>pos</td>\n",
       "    </tr>\n",
       "    <tr>\n",
       "      <th>4</th>\n",
       "      <td>pos</td>\n",
       "      <td>@mikefish  Fair enough. But i have the Kindle2 and I think it's perfect  :)</td>\n",
       "      <td>{'neg': 0.0, 'neu': 0.5, 'pos': 0.5, 'compound': 0.8402}</td>\n",
       "      <td>0.8402</td>\n",
       "      <td>pos</td>\n",
       "    </tr>\n",
       "    <tr>\n",
       "      <th>5</th>\n",
       "      <td>pos</td>\n",
       "      <td>@richardebaker no. it is too big. I'm quite happy with the Kindle2.</td>\n",
       "      <td>{'neg': 0.136, 'neu': 0.618, 'pos': 0.247, 'compound': 0.4201}</td>\n",
       "      <td>0.4201</td>\n",
       "      <td>pos</td>\n",
       "    </tr>\n",
       "    <tr>\n",
       "      <th>6</th>\n",
       "      <td>neg</td>\n",
       "      <td>Fuck this economy. I hate aig and their non loan given asses.</td>\n",
       "      <td>{'neg': 0.444, 'neu': 0.556, 'pos': 0.0, 'compound': -0.802}</td>\n",
       "      <td>-0.8020</td>\n",
       "      <td>neg</td>\n",
       "    </tr>\n",
       "    <tr>\n",
       "      <th>7</th>\n",
       "      <td>pos</td>\n",
       "      <td>Jquery is my new best friend.</td>\n",
       "      <td>{'neg': 0.0, 'neu': 0.351, 'pos': 0.649, 'compound': 0.8126}</td>\n",
       "      <td>0.8126</td>\n",
       "      <td>pos</td>\n",
       "    </tr>\n",
       "    <tr>\n",
       "      <th>8</th>\n",
       "      <td>pos</td>\n",
       "      <td>Loves twitter</td>\n",
       "      <td>{'neg': 0.0, 'neu': 0.213, 'pos': 0.787, 'compound': 0.5719}</td>\n",
       "      <td>0.5719</td>\n",
       "      <td>pos</td>\n",
       "    </tr>\n",
       "    <tr>\n",
       "      <th>9</th>\n",
       "      <td>pos</td>\n",
       "      <td>how can you not love Obama? he makes jokes about himself.</td>\n",
       "      <td>{'neg': 0.234, 'neu': 0.626, 'pos': 0.139, 'compound': -0.3331}</td>\n",
       "      <td>-0.3331</td>\n",
       "      <td>neg</td>\n",
       "    </tr>\n",
       "    <tr>\n",
       "      <th>10</th>\n",
       "      <td>neu</td>\n",
       "      <td>Check this video out -- President Obama at the White House Correspondents' Dinner http://bit.ly/...</td>\n",
       "      <td>{'neg': 0.0, 'neu': 1.0, 'pos': 0.0, 'compound': 0.0}</td>\n",
       "      <td>0.0000</td>\n",
       "      <td>neu</td>\n",
       "    </tr>\n",
       "    <tr>\n",
       "      <th>11</th>\n",
       "      <td>neg</td>\n",
       "      <td>@Karoli I firmly believe that Obama/Pelosi have ZERO desire to be civil.  It's a charade and a s...</td>\n",
       "      <td>{'neg': 0.182, 'neu': 0.691, 'pos': 0.127, 'compound': -0.5346}</td>\n",
       "      <td>-0.5346</td>\n",
       "      <td>neg</td>\n",
       "    </tr>\n",
       "    <tr>\n",
       "      <th>12</th>\n",
       "      <td>pos</td>\n",
       "      <td>House Correspondents dinner was last night whoopi, barbara &amp;amp; sherri went, Obama got a standi...</td>\n",
       "      <td>{'neg': 0.0, 'neu': 1.0, 'pos': 0.0, 'compound': 0.0}</td>\n",
       "      <td>0.0000</td>\n",
       "      <td>neu</td>\n",
       "    </tr>\n",
       "    <tr>\n",
       "      <th>13</th>\n",
       "      <td>pos</td>\n",
       "      <td>Watchin Espn..Jus seen this new Nike Commerical with a Puppet Lebron..sh*t was hilarious...LMAO!!!</td>\n",
       "      <td>{'neg': 0.0, 'neu': 1.0, 'pos': 0.0, 'compound': 0.0}</td>\n",
       "      <td>0.0000</td>\n",
       "      <td>neu</td>\n",
       "    </tr>\n",
       "    <tr>\n",
       "      <th>14</th>\n",
       "      <td>neg</td>\n",
       "      <td>dear nike, stop with the flywire. that shit is a waste of science. and ugly. love, @vincentx24x</td>\n",
       "      <td>{'neg': 0.415, 'neu': 0.348, 'pos': 0.237, 'compound': -0.6249}</td>\n",
       "      <td>-0.6249</td>\n",
       "      <td>neg</td>\n",
       "    </tr>\n",
       "    <tr>\n",
       "      <th>15</th>\n",
       "      <td>pos</td>\n",
       "      <td>#lebron best athlete of our generation, if not all time (basketball related) I don't want to get...</td>\n",
       "      <td>{'neg': 0.05, 'neu': 0.778, 'pos': 0.172, 'compound': 0.6096}</td>\n",
       "      <td>0.6096</td>\n",
       "      <td>pos</td>\n",
       "    </tr>\n",
       "    <tr>\n",
       "      <th>16</th>\n",
       "      <td>neg</td>\n",
       "      <td>I was talking to this guy last night and he was telling me that he is a die hard Spurs fan.  He ...</td>\n",
       "      <td>{'neg': 0.238, 'neu': 0.696, 'pos': 0.067, 'compound': -0.7096}</td>\n",
       "      <td>-0.7096</td>\n",
       "      <td>neg</td>\n",
       "    </tr>\n",
       "    <tr>\n",
       "      <th>17</th>\n",
       "      <td>pos</td>\n",
       "      <td>i love lebron. http://bit.ly/PdHur</td>\n",
       "      <td>{'neg': 0.0, 'neu': 0.323, 'pos': 0.677, 'compound': 0.6369}</td>\n",
       "      <td>0.6369</td>\n",
       "      <td>pos</td>\n",
       "    </tr>\n",
       "    <tr>\n",
       "      <th>18</th>\n",
       "      <td>neg</td>\n",
       "      <td>@ludajuice Lebron is a Beast, but I'm still cheering 4 the A..til the end.</td>\n",
       "      <td>{'neg': 0.0, 'neu': 0.712, 'pos': 0.288, 'compound': 0.6652}</td>\n",
       "      <td>0.6652</td>\n",
       "      <td>pos</td>\n",
       "    </tr>\n",
       "    <tr>\n",
       "      <th>19</th>\n",
       "      <td>pos</td>\n",
       "      <td>@Pmillzz lebron IS THE BOSS</td>\n",
       "      <td>{'neg': 0.0, 'neu': 1.0, 'pos': 0.0, 'compound': 0.0}</td>\n",
       "      <td>0.0000</td>\n",
       "      <td>neu</td>\n",
       "    </tr>\n",
       "  </tbody>\n",
       "</table>\n",
       "</div>"
      ],
      "text/plain": [
       "   label  \\\n",
       "0    pos   \n",
       "1    pos   \n",
       "2    pos   \n",
       "3    pos   \n",
       "4    pos   \n",
       "5    pos   \n",
       "6    neg   \n",
       "7    pos   \n",
       "8    pos   \n",
       "9    pos   \n",
       "10   neu   \n",
       "11   neg   \n",
       "12   pos   \n",
       "13   pos   \n",
       "14   neg   \n",
       "15   pos   \n",
       "16   neg   \n",
       "17   pos   \n",
       "18   neg   \n",
       "19   pos   \n",
       "\n",
       "                                                                                                   text  \\\n",
       "0   @stellargirl I loooooooovvvvvveee my Kindle2. Not that the DX is cool, but the 2 is fantastic in...   \n",
       "1                                            Reading my kindle2...  Love it... Lee childs is good read.   \n",
       "2                                            Ok, first assesment of the #kindle2 ...it fucking rocks!!!   \n",
       "3   @kenburbary You'll love your Kindle2. I've had mine for a few months and never looked back. The ...   \n",
       "4                           @mikefish  Fair enough. But i have the Kindle2 and I think it's perfect  :)   \n",
       "5                                   @richardebaker no. it is too big. I'm quite happy with the Kindle2.   \n",
       "6                                         Fuck this economy. I hate aig and their non loan given asses.   \n",
       "7                                                                         Jquery is my new best friend.   \n",
       "8                                                                                         Loves twitter   \n",
       "9                                             how can you not love Obama? he makes jokes about himself.   \n",
       "10  Check this video out -- President Obama at the White House Correspondents' Dinner http://bit.ly/...   \n",
       "11  @Karoli I firmly believe that Obama/Pelosi have ZERO desire to be civil.  It's a charade and a s...   \n",
       "12  House Correspondents dinner was last night whoopi, barbara &amp; sherri went, Obama got a standi...   \n",
       "13   Watchin Espn..Jus seen this new Nike Commerical with a Puppet Lebron..sh*t was hilarious...LMAO!!!   \n",
       "14      dear nike, stop with the flywire. that shit is a waste of science. and ugly. love, @vincentx24x   \n",
       "15  #lebron best athlete of our generation, if not all time (basketball related) I don't want to get...   \n",
       "16  I was talking to this guy last night and he was telling me that he is a die hard Spurs fan.  He ...   \n",
       "17                                                                   i love lebron. http://bit.ly/PdHur   \n",
       "18                           @ludajuice Lebron is a Beast, but I'm still cheering 4 the A..til the end.   \n",
       "19                                                                          @Pmillzz lebron IS THE BOSS   \n",
       "\n",
       "                                                             scores  compound  \\\n",
       "0      {'neg': 0.0, 'neu': 0.627, 'pos': 0.373, 'compound': 0.8373}    0.8373   \n",
       "1        {'neg': 0.0, 'neu': 0.53, 'pos': 0.47, 'compound': 0.7964}    0.7964   \n",
       "2      {'neg': 0.0, 'neu': 0.722, 'pos': 0.278, 'compound': 0.4724}    0.4724   \n",
       "3    {'neg': 0.122, 'neu': 0.593, 'pos': 0.285, 'compound': 0.7772}    0.7772   \n",
       "4          {'neg': 0.0, 'neu': 0.5, 'pos': 0.5, 'compound': 0.8402}    0.8402   \n",
       "5    {'neg': 0.136, 'neu': 0.618, 'pos': 0.247, 'compound': 0.4201}    0.4201   \n",
       "6      {'neg': 0.444, 'neu': 0.556, 'pos': 0.0, 'compound': -0.802}   -0.8020   \n",
       "7      {'neg': 0.0, 'neu': 0.351, 'pos': 0.649, 'compound': 0.8126}    0.8126   \n",
       "8      {'neg': 0.0, 'neu': 0.213, 'pos': 0.787, 'compound': 0.5719}    0.5719   \n",
       "9   {'neg': 0.234, 'neu': 0.626, 'pos': 0.139, 'compound': -0.3331}   -0.3331   \n",
       "10            {'neg': 0.0, 'neu': 1.0, 'pos': 0.0, 'compound': 0.0}    0.0000   \n",
       "11  {'neg': 0.182, 'neu': 0.691, 'pos': 0.127, 'compound': -0.5346}   -0.5346   \n",
       "12            {'neg': 0.0, 'neu': 1.0, 'pos': 0.0, 'compound': 0.0}    0.0000   \n",
       "13            {'neg': 0.0, 'neu': 1.0, 'pos': 0.0, 'compound': 0.0}    0.0000   \n",
       "14  {'neg': 0.415, 'neu': 0.348, 'pos': 0.237, 'compound': -0.6249}   -0.6249   \n",
       "15    {'neg': 0.05, 'neu': 0.778, 'pos': 0.172, 'compound': 0.6096}    0.6096   \n",
       "16  {'neg': 0.238, 'neu': 0.696, 'pos': 0.067, 'compound': -0.7096}   -0.7096   \n",
       "17     {'neg': 0.0, 'neu': 0.323, 'pos': 0.677, 'compound': 0.6369}    0.6369   \n",
       "18     {'neg': 0.0, 'neu': 0.712, 'pos': 0.288, 'compound': 0.6652}    0.6652   \n",
       "19            {'neg': 0.0, 'neu': 1.0, 'pos': 0.0, 'compound': 0.0}    0.0000   \n",
       "\n",
       "   pred_label  \n",
       "0         pos  \n",
       "1         pos  \n",
       "2         pos  \n",
       "3         pos  \n",
       "4         pos  \n",
       "5         pos  \n",
       "6         neg  \n",
       "7         pos  \n",
       "8         pos  \n",
       "9         neg  \n",
       "10        neu  \n",
       "11        neg  \n",
       "12        neu  \n",
       "13        neu  \n",
       "14        neg  \n",
       "15        pos  \n",
       "16        neg  \n",
       "17        pos  \n",
       "18        pos  \n",
       "19        neu  "
      ]
     },
     "execution_count": 42,
     "metadata": {},
     "output_type": "execute_result"
    }
   ],
   "source": [
    "tw_test.head(n=20)"
   ]
  },
  {
   "cell_type": "code",
   "execution_count": 43,
   "metadata": {
    "ExecuteTime": {
     "end_time": "2019-05-18T21:48:02.113240Z",
     "start_time": "2019-05-18T21:48:02.107286Z"
    }
   },
   "outputs": [
    {
     "data": {
      "text/plain": [
       "0.7188755020080321"
      ]
     },
     "execution_count": 43,
     "metadata": {},
     "output_type": "execute_result"
    }
   ],
   "source": [
    "accuracy_score(tw_test['label'],tw_test['pred_label'])"
   ]
  },
  {
   "cell_type": "markdown",
   "metadata": {},
   "source": [
    "## We get close to 72% accuracy on test data"
   ]
  }
 ],
 "metadata": {
  "kernelspec": {
   "display_name": "Python 3",
   "language": "python",
   "name": "python3"
  },
  "language_info": {
   "codemirror_mode": {
    "name": "ipython",
    "version": 3
   },
   "file_extension": ".py",
   "mimetype": "text/x-python",
   "name": "python",
   "nbconvert_exporter": "python",
   "pygments_lexer": "ipython3",
   "version": "3.7.6"
  },
  "latex_envs": {
   "LaTeX_envs_menu_present": true,
   "autoclose": false,
   "autocomplete": true,
   "bibliofile": "biblio.bib",
   "cite_by": "apalike",
   "current_citInitial": 1,
   "eqLabelWithNumbers": true,
   "eqNumInitial": 1,
   "hotkeys": {
    "equation": "Ctrl-E",
    "itemize": "Ctrl-I"
   },
   "labels_anchors": false,
   "latex_user_defs": false,
   "report_style_numbering": false,
   "user_envs_cfg": false
  },
  "toc": {
   "base_numbering": 1,
   "nav_menu": {},
   "number_sections": true,
   "sideBar": true,
   "skip_h1_title": false,
   "title_cell": "Table of Contents",
   "title_sidebar": "Contents",
   "toc_cell": false,
   "toc_position": {},
   "toc_section_display": true,
   "toc_window_display": false
  },
  "varInspector": {
   "cols": {
    "lenName": 16,
    "lenType": 16,
    "lenVar": 40
   },
   "kernels_config": {
    "python": {
     "delete_cmd_postfix": "",
     "delete_cmd_prefix": "del ",
     "library": "var_list.py",
     "varRefreshCmd": "print(var_dic_list())"
    },
    "r": {
     "delete_cmd_postfix": ") ",
     "delete_cmd_prefix": "rm(",
     "library": "var_list.r",
     "varRefreshCmd": "cat(var_dic_list()) "
    }
   },
   "position": {
    "height": "394.2px",
    "left": "1101.9px",
    "right": "20px",
    "top": "120px",
    "width": "400.5px"
   },
   "types_to_exclude": [
    "module",
    "function",
    "builtin_function_or_method",
    "instance",
    "_Feature"
   ],
   "window_display": false
  }
 },
 "nbformat": 4,
 "nbformat_minor": 2
}
