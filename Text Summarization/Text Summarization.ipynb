{
 "cells": [
  {
   "cell_type": "markdown",
   "metadata": {},
   "source": [
    "- Text summarization is the process of finding relevant information in a document to produce a brief version of the original document.\n",
    "- Text can be summarized using below two methods\n",
    "    * #### **Extractive Method** \n",
    "         This method selects specific keywords or sentences from the input to generate the output. This model tends to work but won’t output a correctly structured sentence, as it just selects words or sentences from input and copies them to the output, without actually understanding the sentences, think of it as a highlighter.\n",
    "    * #### **Abstractive Method**\n",
    "         This method involves building a neural network to truly understand the relation between the input and output and not just merely copy words or sentences. This method outputs correctly structured sentences, think of it like a pen.\n",
    "___\n",
    "- In this tutorial we will be looking into __Extractive Method__ for text summarization using Natural Language Processing (NLP) libraries like __spaCy__, **gensim** and **sumy**."
   ]
  },
  {
   "cell_type": "markdown",
   "metadata": {},
   "source": [
    "#### Get the text\n",
    "For scraping contents from the web, we will use Beautiful Soup python library for parsing web pages in HTML or XML format."
   ]
  },
  {
   "cell_type": "code",
   "execution_count": 1,
   "metadata": {
    "ExecuteTime": {
     "end_time": "2019-05-27T23:46:07.423586Z",
     "start_time": "2019-05-27T23:46:06.901706Z"
    }
   },
   "outputs": [],
   "source": [
    "# import beautifulsoup library\n",
    "from urllib.request import urlopen\n",
    "from bs4 import BeautifulSoup\n",
    "import requests"
   ]
  },
  {
   "cell_type": "code",
   "execution_count": 2,
   "metadata": {
    "ExecuteTime": {
     "end_time": "2019-05-27T23:46:19.615440Z",
     "start_time": "2019-05-27T23:46:08.107419Z"
    }
   },
   "outputs": [],
   "source": [
    "# get title and text at specified url\n",
    "def get_only_text(url):\n",
    "    page = urlopen(url)\n",
    "    soup = BeautifulSoup(page, 'lxml')\n",
    "    text = ' '.join(map(lambda p: p.text, soup.find_all('p')))\n",
    "    return soup.title.text, text\n",
    "\n",
    "url = 'https://www.theverge.com/2019/5/17/18629003/us-phone-upgrades-apple-samsung-market'\n",
    "text = get_only_text(url)"
   ]
  },
  {
   "cell_type": "code",
   "execution_count": 3,
   "metadata": {
    "ExecuteTime": {
     "end_time": "2019-05-27T23:46:19.673758Z",
     "start_time": "2019-05-27T23:46:19.663062Z"
    }
   },
   "outputs": [
    {
     "name": "stdout",
     "output_type": "stream",
     "text": [
      "Original Text :\n",
      "('Three big reasons why Americans aren’t upgrading their phones - The Verge', 'Yes, this has to do with China Last month, Verizon and AT&T made official something you’ve probably been aware of for a while: American smartphone owners are upgrading a lot less than they used to. In fact, they’re hitting record lows at the two biggest US carriers, with people apparently more content than ever to keep hold of their existing device. This is a global trend, as the smartphone market is reaching maturity and saturation in many developed nations, and yet it’s most pronounced in the United States for a few reasons particular to the country. If you were to ask me to name the most exciting phones of 2019, top of my mind would be Huawei’s P30 Pro, with its exotic array of cameras and unmatched low-light photography, closely followed by the OnePlus 7 Pro and its gorgeous 90Hz screen. Is either of those phones available on AT&T or Verizon? Nope. Huawei is effectively banned by the US government, while OnePlus only has a distribution deal with T-Mobile in the country, which is better than nothing but still comparatively niche. The typical American smartphone buyer knows a choice between only two brands: Apple and Samsung. Peruse the online offerings of AT&T, Verizon, T-Mobile, and Sprint, and you’ll see a parade of various models from those two companies, punctuated by the occasional LG also-ran and Kyocera obscurity. If you scroll down far enough, you’ll get to see the Red Hydrogen One, which is a garbage phone, but it’s from a US company, so they let it in. Chinese phone brands like Huawei and Xiaomi have leading positions in most of the world’s markets now, but in the US they’re almost entirely absent. For a Chinese phone maker to get a device onto a US carrier, it has to do that via the backdoor means of putting a familiar brand on it, such as TCL is doing with its BlackBerry and Palm handsets. Even OnePlus is mostly a palatable brand in front of the same giant Chinese conglomerate that operates the Oppo and Vivo brands. The US government’s geopolitics is playing out in carrier stores, narrowing consumer choice to products from US companies, mainly Apple, or manufacturers from US-allied nations like South Korea. Being limited to two providers might not be a problem if they were competing as hard as they possibly could, but both Apple and Samsung appear content with mostly iterative upgrades. “Incremental changes from one model to the next hasn’t been that great, and it hasn’t been enough of an incentive,” according to Verizon CFO Matt Ellis. Think about the things that make a Samsung Galaxy S10 compelling: a beautiful display with tiny bezels, a very good camera, a large battery with wireless charging, fast performance, water resistance, and, as a bonus, a headphone jack. The three-year-old Galaxy S7 has all of those things. An S7 owner can absolutely want an S10, but they certainly don’t need one. It’s a situation that looks a lot like the one with Windows laptops, where screen bezels are disappearing, everything is becoming lighter and faster, but the rate of improvement is too gradual to compel most people to upgrade in a hurry. Apple did have a major redesign with the iPhone X in 2017, sparking a wave of upgrades from people who’d been waiting for such a dramatic change, but the company has otherwise kept to a conservative cadence when it comes to introducing new hardware features and capabilities. You’d certainly struggle to tell the difference between an iPhone X and XS, just as you would struggle to differentiate between an iPhone 6 and a 6S on first glance. Without the likes of Huawei to push them into more aggressive upgrade cycles, Apple and Samsung can afford to keep pace only with one another, at least in the US market. Huawei’s breakneck pursuit of new features has proven extremely enticing for phone buyers in Europe and across the rest of the world, with the Chinese vendor racking up 50 percent growth in phone shipments in the first quarter of 2019 while Samsung and Apple both faltered. It’s a badly kept secret that mobile carriers worship at the altar of ARPU (average revenue per user). Increasingly, they’re bundling their phone line rentals with subscriptions to premium video or music services, and they’re offering long-term payment plans to help people buy the super flagship $1,000 phones that Apple, Samsung, and Google have been offering. That strategy has worked surprisingly well, with consumers seeing only a marginal increase in their monthly cost and valuing the increased capabilities (or sheer aesthetic and luxury appeal) of those exclusive-tier devices. But there are two long-term issues for hardware manufacturers selling ultra pricey handsets. One is that the person that spends double what they previously did on a phone would, naturally, expect to keep their shiny new phone for somewhere close to twice as long. Apple has been great about supporting many generations of iPhones with its latest iOS updates, and even though Android vendors haven’t been anywhere near as good, many people can carry on just fine with an older version of Android as well. The other big issue is that the addressable market of people willing to spend four figures on a phone is inherently small. Phone manufacturers and carriers in the US have shifted the most innovative and appealing devices to a price point that’s simply unattainable for a majority of people. They’ve masked it well, but it’s still a lot of money. Samsung’s cheapest Galaxy S10 variant, the S10E, is still $749. Americans’ smartphone budgets haven’t risen at the same pace as smartphone prices, and now when they look at their usual price range, they just see a lack of meaningful innovation. The OnePlus 7 Pro is a rare exception, bringing a devastatingly handsome, bezel-less display to the sub-$700 market. Satisfied existing customers, a failure to deliver innovation to price points where people would be ready to upgrade, and the almost total absence of Chinese competition have sapped the US phone market’s vitality. Smartphones are still fun, exciting, and full of novel features, but you might have to go outside the United States to find one that’s both compelling and affordable. Command Line delivers daily updates from the near-future.')\n"
     ]
    }
   ],
   "source": [
    "# print original text\n",
    "print('Original Text :')\n",
    "print(text)"
   ]
  },
  {
   "cell_type": "markdown",
   "metadata": {},
   "source": [
    "### 1. [spaCy](https://spacy.io/)"
   ]
  },
  {
   "cell_type": "code",
   "execution_count": 4,
   "metadata": {
    "ExecuteTime": {
     "end_time": "2019-05-28T00:08:22.895327Z",
     "start_time": "2019-05-28T00:08:19.513232Z"
    }
   },
   "outputs": [],
   "source": [
    "# load spaCy library\n",
    "import spacy"
   ]
  },
  {
   "cell_type": "code",
   "execution_count": 5,
   "metadata": {
    "ExecuteTime": {
     "end_time": "2019-05-28T00:08:24.331890Z",
     "start_time": "2019-05-28T00:08:23.831170Z"
    }
   },
   "outputs": [],
   "source": [
    "# load text pre-processing libraries\n",
    "from spacy.lang.en.stop_words import STOP_WORDS\n",
    "from string import punctuation"
   ]
  },
  {
   "cell_type": "code",
   "execution_count": 6,
   "metadata": {
    "ExecuteTime": {
     "end_time": "2019-05-28T00:08:26.612180Z",
     "start_time": "2019-05-28T00:08:26.608869Z"
    }
   },
   "outputs": [],
   "source": [
    "# build list of stopwords\n",
    "stopwords = list(STOP_WORDS)"
   ]
  },
  {
   "cell_type": "code",
   "execution_count": 7,
   "metadata": {
    "ExecuteTime": {
     "end_time": "2019-05-28T00:08:27.415996Z",
     "start_time": "2019-05-28T00:08:27.401913Z"
    }
   },
   "outputs": [
    {
     "data": {
      "text/plain": [
       "['one',\n",
       " 'must',\n",
       " 'at',\n",
       " 'never',\n",
       " 'seems',\n",
       " 'then',\n",
       " 'together',\n",
       " 'with',\n",
       " 'from',\n",
       " 'serious']"
      ]
     },
     "execution_count": 7,
     "metadata": {},
     "output_type": "execute_result"
    }
   ],
   "source": [
    "# checkout 10 stopwords\n",
    "stopwords[:10]"
   ]
  },
  {
   "cell_type": "code",
   "execution_count": 8,
   "metadata": {
    "ExecuteTime": {
     "end_time": "2019-05-28T00:08:47.254280Z",
     "start_time": "2019-05-28T00:08:46.168663Z"
    }
   },
   "outputs": [],
   "source": [
    "# load 'english' language module in spacy\n",
    "nlp = spacy.load('en')"
   ]
  },
  {
   "cell_type": "code",
   "execution_count": 9,
   "metadata": {
    "ExecuteTime": {
     "end_time": "2019-05-28T00:09:03.566826Z",
     "start_time": "2019-05-28T00:09:03.133007Z"
    }
   },
   "outputs": [],
   "source": [
    "# build nlp object from our original text\n",
    "doc = nlp(str(text))"
   ]
  },
  {
   "cell_type": "code",
   "execution_count": 10,
   "metadata": {
    "ExecuteTime": {
     "end_time": "2019-05-28T00:09:35.269001Z",
     "start_time": "2019-05-28T00:09:35.263316Z"
    }
   },
   "outputs": [
    {
     "data": {
      "text/plain": [
       "('Three big reasons why Americans aren’t upgrading their phones - The Verge', 'Yes, this has to do with China Last month, Verizon and AT&T made official something you’ve probably been aware of for a while: American smartphone owners are upgrading a lot less than they used to. In fact, they’re hitting record lows at the two biggest US carriers, with people apparently more content than ever to keep hold of their existing device. This is a global trend, as the smartphone market is reaching maturity and saturation in many developed nations, and yet it’s most pronounced in the United States for a few reasons particular to the country. If you were to ask me to name the most exciting phones of 2019, top of my mind would be Huawei’s P30 Pro, with its exotic array of cameras and unmatched low-light photography, closely followed by the OnePlus 7 Pro and its gorgeous 90Hz screen. Is either of those phones available on AT&T or Verizon? Nope. Huawei is effectively banned by the US government, while OnePlus only has a distribution deal with T-Mobile in the country, which is better than nothing but still comparatively niche. The typical American smartphone buyer knows a choice between only two brands: Apple and Samsung. Peruse the online offerings of AT&T, Verizon, T-Mobile, and Sprint, and you’ll see a parade of various models from those two companies, punctuated by the occasional LG also-ran and Kyocera obscurity. If you scroll down far enough, you’ll get to see the Red Hydrogen One, which is a garbage phone, but it’s from a US company, so they let it in. Chinese phone brands like Huawei and Xiaomi have leading positions in most of the world’s markets now, but in the US they’re almost entirely absent. For a Chinese phone maker to get a device onto a US carrier, it has to do that via the backdoor means of putting a familiar brand on it, such as TCL is doing with its BlackBerry and Palm handsets. Even OnePlus is mostly a palatable brand in front of the same giant Chinese conglomerate that operates the Oppo and Vivo brands. The US government’s geopolitics is playing out in carrier stores, narrowing consumer choice to products from US companies, mainly Apple, or manufacturers from US-allied nations like South Korea. Being limited to two providers might not be a problem if they were competing as hard as they possibly could, but both Apple and Samsung appear content with mostly iterative upgrades. “Incremental changes from one model to the next hasn’t been that great, and it hasn’t been enough of an incentive,” according to Verizon CFO Matt Ellis. Think about the things that make a Samsung Galaxy S10 compelling: a beautiful display with tiny bezels, a very good camera, a large battery with wireless charging, fast performance, water resistance, and, as a bonus, a headphone jack. The three-year-old Galaxy S7 has all of those things. An S7 owner can absolutely want an S10, but they certainly don’t need one. It’s a situation that looks a lot like the one with Windows laptops, where screen bezels are disappearing, everything is becoming lighter and faster, but the rate of improvement is too gradual to compel most people to upgrade in a hurry. Apple did have a major redesign with the iPhone X in 2017, sparking a wave of upgrades from people who’d been waiting for such a dramatic change, but the company has otherwise kept to a conservative cadence when it comes to introducing new hardware features and capabilities. You’d certainly struggle to tell the difference between an iPhone X and XS, just as you would struggle to differentiate between an iPhone 6 and a 6S on first glance. Without the likes of Huawei to push them into more aggressive upgrade cycles, Apple and Samsung can afford to keep pace only with one another, at least in the US market. Huawei’s breakneck pursuit of new features has proven extremely enticing for phone buyers in Europe and across the rest of the world, with the Chinese vendor racking up 50 percent growth in phone shipments in the first quarter of 2019 while Samsung and Apple both faltered. It’s a badly kept secret that mobile carriers worship at the altar of ARPU (average revenue per user). Increasingly, they’re bundling their phone line rentals with subscriptions to premium video or music services, and they’re offering long-term payment plans to help people buy the super flagship $1,000 phones that Apple, Samsung, and Google have been offering. That strategy has worked surprisingly well, with consumers seeing only a marginal increase in their monthly cost and valuing the increased capabilities (or sheer aesthetic and luxury appeal) of those exclusive-tier devices. But there are two long-term issues for hardware manufacturers selling ultra pricey handsets. One is that the person that spends double what they previously did on a phone would, naturally, expect to keep their shiny new phone for somewhere close to twice as long. Apple has been great about supporting many generations of iPhones with its latest iOS updates, and even though Android vendors haven’t been anywhere near as good, many people can carry on just fine with an older version of Android as well. The other big issue is that the addressable market of people willing to spend four figures on a phone is inherently small. Phone manufacturers and carriers in the US have shifted the most innovative and appealing devices to a price point that’s simply unattainable for a majority of people. They’ve masked it well, but it’s still a lot of money. Samsung’s cheapest Galaxy S10 variant, the S10E, is still $749. Americans’ smartphone budgets haven’t risen at the same pace as smartphone prices, and now when they look at their usual price range, they just see a lack of meaningful innovation. The OnePlus 7 Pro is a rare exception, bringing a devastatingly handsome, bezel-less display to the sub-$700 market. Satisfied existing customers, a failure to deliver innovation to price points where people would be ready to upgrade, and the almost total absence of Chinese competition have sapped the US phone market’s vitality. Smartphones are still fun, exciting, and full of novel features, but you might have to go outside the United States to find one that’s both compelling and affordable. Command Line delivers daily updates from the near-future.')"
      ]
     },
     "execution_count": 10,
     "metadata": {},
     "output_type": "execute_result"
    }
   ],
   "source": [
    "# checkout contents of doc\n",
    "doc"
   ]
  },
  {
   "cell_type": "markdown",
   "metadata": {},
   "source": [
    "Build Word Frequency table i.e dictionary of words and their count using non-stopwords"
   ]
  },
  {
   "cell_type": "code",
   "execution_count": 16,
   "metadata": {
    "ExecuteTime": {
     "end_time": "2019-05-28T00:19:25.791261Z",
     "start_time": "2019-05-28T00:19:25.777363Z"
    }
   },
   "outputs": [],
   "source": [
    "word_frequency = {}\n",
    "for word in doc:\n",
    "    if word.text not in stopwords:\n",
    "        if word.text not in word_frequency.keys():\n",
    "            word_frequency[word.text] = 1\n",
    "        else:\n",
    "            word_frequency[word.text] += 1"
   ]
  },
  {
   "cell_type": "code",
   "execution_count": 17,
   "metadata": {
    "ExecuteTime": {
     "end_time": "2019-05-28T00:19:49.238681Z",
     "start_time": "2019-05-28T00:19:49.223361Z"
    }
   },
   "outputs": [
    {
     "data": {
      "text/plain": [
       "{'(': 3,\n",
       " \"'\": 4,\n",
       " 'Three': 1,\n",
       " 'big': 2,\n",
       " 'reasons': 2,\n",
       " 'Americans': 1,\n",
       " 'n’t': 6,\n",
       " 'upgrading': 2,\n",
       " 'phones': 4,\n",
       " '-': 13,\n",
       " 'The': 6,\n",
       " 'Verge': 1,\n",
       " ',': 68,\n",
       " 'Yes': 1,\n",
       " 'China': 1,\n",
       " 'Last': 1,\n",
       " 'month': 1,\n",
       " 'Verizon': 4,\n",
       " 'AT&T': 3,\n",
       " 'official': 1,\n",
       " '’ve': 2,\n",
       " 'probably': 1,\n",
       " 'aware': 1,\n",
       " ':': 3,\n",
       " 'American': 2,\n",
       " 'smartphone': 5,\n",
       " 'owners': 1,\n",
       " 'lot': 3,\n",
       " '.': 38,\n",
       " 'In': 1,\n",
       " 'fact': 1,\n",
       " '’re': 4,\n",
       " 'hitting': 1,\n",
       " 'record': 1,\n",
       " 'lows': 1,\n",
       " 'biggest': 1,\n",
       " 'US': 11,\n",
       " 'carriers': 3,\n",
       " 'people': 8,\n",
       " 'apparently': 1,\n",
       " 'content': 2,\n",
       " 'hold': 1,\n",
       " 'existing': 2,\n",
       " 'device': 2,\n",
       " 'This': 1,\n",
       " 'global': 1,\n",
       " 'trend': 1,\n",
       " 'market': 5,\n",
       " 'reaching': 1,\n",
       " 'maturity': 1,\n",
       " 'saturation': 1,\n",
       " 'developed': 1,\n",
       " 'nations': 2,\n",
       " '’s': 13,\n",
       " 'pronounced': 1,\n",
       " 'United': 2,\n",
       " 'States': 2,\n",
       " 'particular': 1,\n",
       " 'country': 2,\n",
       " 'If': 2,\n",
       " 'ask': 1,\n",
       " 'exciting': 2,\n",
       " '2019': 2,\n",
       " 'mind': 1,\n",
       " 'Huawei': 5,\n",
       " 'P30': 1,\n",
       " 'Pro': 3,\n",
       " 'exotic': 1,\n",
       " 'array': 1,\n",
       " 'cameras': 1,\n",
       " 'unmatched': 1,\n",
       " 'low': 1,\n",
       " 'light': 1,\n",
       " 'photography': 1,\n",
       " 'closely': 1,\n",
       " 'followed': 1,\n",
       " 'OnePlus': 4,\n",
       " '7': 2,\n",
       " 'gorgeous': 1,\n",
       " '90Hz': 1,\n",
       " 'screen': 2,\n",
       " 'Is': 1,\n",
       " 'available': 1,\n",
       " '?': 1,\n",
       " 'Nope': 1,\n",
       " 'effectively': 1,\n",
       " 'banned': 1,\n",
       " 'government': 2,\n",
       " 'distribution': 1,\n",
       " 'deal': 1,\n",
       " 'T': 2,\n",
       " 'Mobile': 2,\n",
       " 'better': 1,\n",
       " 'comparatively': 1,\n",
       " 'niche': 1,\n",
       " 'typical': 1,\n",
       " 'buyer': 1,\n",
       " 'knows': 1,\n",
       " 'choice': 2,\n",
       " 'brands': 3,\n",
       " 'Apple': 8,\n",
       " 'Samsung': 7,\n",
       " 'Peruse': 1,\n",
       " 'online': 1,\n",
       " 'offerings': 1,\n",
       " 'Sprint': 1,\n",
       " '’ll': 2,\n",
       " 'parade': 1,\n",
       " 'models': 1,\n",
       " 'companies': 2,\n",
       " 'punctuated': 1,\n",
       " 'occasional': 1,\n",
       " 'LG': 1,\n",
       " 'ran': 1,\n",
       " 'Kyocera': 1,\n",
       " 'obscurity': 1,\n",
       " 'scroll': 1,\n",
       " 'far': 1,\n",
       " 'Red': 1,\n",
       " 'Hydrogen': 1,\n",
       " 'One': 2,\n",
       " 'garbage': 1,\n",
       " 'phone': 10,\n",
       " 'company': 2,\n",
       " 'let': 1,\n",
       " 'Chinese': 5,\n",
       " 'like': 3,\n",
       " 'Xiaomi': 1,\n",
       " 'leading': 1,\n",
       " 'positions': 1,\n",
       " 'world': 2,\n",
       " 'markets': 1,\n",
       " 'entirely': 1,\n",
       " 'absent': 1,\n",
       " 'For': 1,\n",
       " 'maker': 1,\n",
       " 'carrier': 2,\n",
       " 'backdoor': 1,\n",
       " 'means': 1,\n",
       " 'putting': 1,\n",
       " 'familiar': 1,\n",
       " 'brand': 2,\n",
       " 'TCL': 1,\n",
       " 'BlackBerry': 1,\n",
       " 'Palm': 1,\n",
       " 'handsets': 2,\n",
       " 'Even': 1,\n",
       " 'palatable': 1,\n",
       " 'giant': 1,\n",
       " 'conglomerate': 1,\n",
       " 'operates': 1,\n",
       " 'Oppo': 1,\n",
       " 'Vivo': 1,\n",
       " 'geopolitics': 1,\n",
       " 'playing': 1,\n",
       " 'stores': 1,\n",
       " 'narrowing': 1,\n",
       " 'consumer': 1,\n",
       " 'products': 1,\n",
       " 'mainly': 1,\n",
       " 'manufacturers': 3,\n",
       " 'allied': 1,\n",
       " 'South': 1,\n",
       " 'Korea': 1,\n",
       " 'Being': 1,\n",
       " 'limited': 1,\n",
       " 'providers': 1,\n",
       " 'problem': 1,\n",
       " 'competing': 1,\n",
       " 'hard': 1,\n",
       " 'possibly': 1,\n",
       " 'appear': 1,\n",
       " 'iterative': 1,\n",
       " 'upgrades': 2,\n",
       " '“': 1,\n",
       " 'Incremental': 1,\n",
       " 'changes': 1,\n",
       " 'model': 1,\n",
       " 'great': 2,\n",
       " 'incentive': 1,\n",
       " '”': 1,\n",
       " 'according': 1,\n",
       " 'CFO': 1,\n",
       " 'Matt': 1,\n",
       " 'Ellis': 1,\n",
       " 'Think': 1,\n",
       " 'things': 2,\n",
       " 'Galaxy': 3,\n",
       " 'S10': 3,\n",
       " 'compelling': 2,\n",
       " 'beautiful': 1,\n",
       " 'display': 2,\n",
       " 'tiny': 1,\n",
       " 'bezels': 2,\n",
       " 'good': 2,\n",
       " 'camera': 1,\n",
       " 'large': 1,\n",
       " 'battery': 1,\n",
       " 'wireless': 1,\n",
       " 'charging': 1,\n",
       " 'fast': 1,\n",
       " 'performance': 1,\n",
       " 'water': 1,\n",
       " 'resistance': 1,\n",
       " 'bonus': 1,\n",
       " 'headphone': 1,\n",
       " 'jack': 1,\n",
       " 'year': 1,\n",
       " 'old': 1,\n",
       " 'S7': 2,\n",
       " 'An': 1,\n",
       " 'owner': 1,\n",
       " 'absolutely': 1,\n",
       " 'want': 1,\n",
       " 'certainly': 2,\n",
       " 'need': 1,\n",
       " 'It': 2,\n",
       " 'situation': 1,\n",
       " 'looks': 1,\n",
       " 'Windows': 1,\n",
       " 'laptops': 1,\n",
       " 'disappearing': 1,\n",
       " 'lighter': 1,\n",
       " 'faster': 1,\n",
       " 'rate': 1,\n",
       " 'improvement': 1,\n",
       " 'gradual': 1,\n",
       " 'compel': 1,\n",
       " 'upgrade': 3,\n",
       " 'hurry': 1,\n",
       " 'major': 1,\n",
       " 'redesign': 1,\n",
       " 'iPhone': 3,\n",
       " 'X': 2,\n",
       " '2017': 1,\n",
       " 'sparking': 1,\n",
       " 'wave': 1,\n",
       " '’d': 2,\n",
       " 'waiting': 1,\n",
       " 'dramatic': 1,\n",
       " 'change': 1,\n",
       " 'kept': 2,\n",
       " 'conservative': 1,\n",
       " 'cadence': 1,\n",
       " 'comes': 1,\n",
       " 'introducing': 1,\n",
       " 'new': 3,\n",
       " 'hardware': 2,\n",
       " 'features': 3,\n",
       " 'capabilities': 2,\n",
       " 'You': 1,\n",
       " 'struggle': 2,\n",
       " 'tell': 1,\n",
       " 'difference': 1,\n",
       " 'XS': 1,\n",
       " 'differentiate': 1,\n",
       " '6': 1,\n",
       " '6S': 1,\n",
       " 'glance': 1,\n",
       " 'Without': 1,\n",
       " 'likes': 1,\n",
       " 'push': 1,\n",
       " 'aggressive': 1,\n",
       " 'cycles': 1,\n",
       " 'afford': 1,\n",
       " 'pace': 2,\n",
       " 'breakneck': 1,\n",
       " 'pursuit': 1,\n",
       " 'proven': 1,\n",
       " 'extremely': 1,\n",
       " 'enticing': 1,\n",
       " 'buyers': 1,\n",
       " 'Europe': 1,\n",
       " 'rest': 1,\n",
       " 'vendor': 1,\n",
       " 'racking': 1,\n",
       " '50': 1,\n",
       " 'percent': 1,\n",
       " 'growth': 1,\n",
       " 'shipments': 1,\n",
       " 'quarter': 1,\n",
       " 'faltered': 1,\n",
       " 'badly': 1,\n",
       " 'secret': 1,\n",
       " 'mobile': 1,\n",
       " 'worship': 1,\n",
       " 'altar': 1,\n",
       " 'ARPU': 1,\n",
       " 'average': 1,\n",
       " 'revenue': 1,\n",
       " 'user': 1,\n",
       " ')': 3,\n",
       " 'Increasingly': 1,\n",
       " 'bundling': 1,\n",
       " 'line': 1,\n",
       " 'rentals': 1,\n",
       " 'subscriptions': 1,\n",
       " 'premium': 1,\n",
       " 'video': 1,\n",
       " 'music': 1,\n",
       " 'services': 1,\n",
       " 'offering': 2,\n",
       " 'long': 3,\n",
       " 'term': 2,\n",
       " 'payment': 1,\n",
       " 'plans': 1,\n",
       " 'help': 1,\n",
       " 'buy': 1,\n",
       " 'super': 1,\n",
       " 'flagship': 1,\n",
       " '$': 2,\n",
       " '1,000': 1,\n",
       " 'Google': 1,\n",
       " 'That': 1,\n",
       " 'strategy': 1,\n",
       " 'worked': 1,\n",
       " 'surprisingly': 1,\n",
       " 'consumers': 1,\n",
       " 'seeing': 1,\n",
       " 'marginal': 1,\n",
       " 'increase': 1,\n",
       " 'monthly': 1,\n",
       " 'cost': 1,\n",
       " 'valuing': 1,\n",
       " 'increased': 1,\n",
       " 'sheer': 1,\n",
       " 'aesthetic': 1,\n",
       " 'luxury': 1,\n",
       " 'appeal': 1,\n",
       " 'exclusive': 1,\n",
       " 'tier': 1,\n",
       " 'devices': 2,\n",
       " 'But': 1,\n",
       " 'issues': 1,\n",
       " 'selling': 1,\n",
       " 'ultra': 1,\n",
       " 'pricey': 1,\n",
       " 'person': 1,\n",
       " 'spends': 1,\n",
       " 'double': 1,\n",
       " 'previously': 1,\n",
       " 'naturally': 1,\n",
       " 'expect': 1,\n",
       " 'shiny': 1,\n",
       " 'close': 1,\n",
       " 'twice': 1,\n",
       " 'supporting': 1,\n",
       " 'generations': 1,\n",
       " 'iPhones': 1,\n",
       " 'latest': 1,\n",
       " 'iOS': 1,\n",
       " 'updates': 2,\n",
       " 'Android': 2,\n",
       " 'vendors': 1,\n",
       " 'near': 2,\n",
       " 'carry': 1,\n",
       " 'fine': 1,\n",
       " 'older': 1,\n",
       " 'version': 1,\n",
       " 'issue': 1,\n",
       " 'addressable': 1,\n",
       " 'willing': 1,\n",
       " 'spend': 1,\n",
       " 'figures': 1,\n",
       " 'inherently': 1,\n",
       " 'small': 1,\n",
       " 'Phone': 1,\n",
       " 'shifted': 1,\n",
       " 'innovative': 1,\n",
       " 'appealing': 1,\n",
       " 'price': 3,\n",
       " 'point': 1,\n",
       " 'simply': 1,\n",
       " 'unattainable': 1,\n",
       " 'majority': 1,\n",
       " 'They': 1,\n",
       " 'masked': 1,\n",
       " 'money': 1,\n",
       " 'cheapest': 1,\n",
       " 'variant': 1,\n",
       " 'S10E': 1,\n",
       " '749': 1,\n",
       " 'Americans’': 1,\n",
       " 'budgets': 1,\n",
       " 'risen': 1,\n",
       " 'prices': 1,\n",
       " 'look': 1,\n",
       " 'usual': 1,\n",
       " 'range': 1,\n",
       " 'lack': 1,\n",
       " 'meaningful': 1,\n",
       " 'innovation': 2,\n",
       " 'rare': 1,\n",
       " 'exception': 1,\n",
       " 'bringing': 1,\n",
       " 'devastatingly': 1,\n",
       " 'handsome': 1,\n",
       " 'bezel': 1,\n",
       " 'sub-$700': 1,\n",
       " 'Satisfied': 1,\n",
       " 'customers': 1,\n",
       " 'failure': 1,\n",
       " 'deliver': 1,\n",
       " 'points': 1,\n",
       " 'ready': 1,\n",
       " 'total': 1,\n",
       " 'absence': 1,\n",
       " 'competition': 1,\n",
       " 'sapped': 1,\n",
       " 'vitality': 1,\n",
       " 'Smartphones': 1,\n",
       " 'fun': 1,\n",
       " 'novel': 1,\n",
       " 'outside': 1,\n",
       " 'find': 1,\n",
       " 'affordable': 1,\n",
       " 'Command': 1,\n",
       " 'Line': 1,\n",
       " 'delivers': 1,\n",
       " 'daily': 1,\n",
       " 'future': 1}"
      ]
     },
     "execution_count": 17,
     "metadata": {},
     "output_type": "execute_result"
    }
   ],
   "source": [
    "word_frequency"
   ]
  },
  {
   "cell_type": "code",
   "execution_count": 18,
   "metadata": {
    "ExecuteTime": {
     "end_time": "2019-05-28T00:20:21.273545Z",
     "start_time": "2019-05-28T00:20:21.268364Z"
    }
   },
   "outputs": [],
   "source": [
    "# get maximun word frequency\n",
    "maximum_word_frequency = max(word_frequency.values())"
   ]
  },
  {
   "cell_type": "code",
   "execution_count": 20,
   "metadata": {
    "ExecuteTime": {
     "end_time": "2019-05-28T00:29:24.350810Z",
     "start_time": "2019-05-28T00:29:24.342821Z"
    }
   },
   "outputs": [],
   "source": [
    "# find the word frequency distribution\n",
    "for word in word_frequency.keys():  \n",
    "        word_frequency[word] = (word_frequency[word]/maximum_word_frequency)"
   ]
  },
  {
   "cell_type": "code",
   "execution_count": 21,
   "metadata": {
    "ExecuteTime": {
     "end_time": "2019-05-28T00:29:32.607687Z",
     "start_time": "2019-05-28T00:29:32.591707Z"
    }
   },
   "outputs": [
    {
     "data": {
      "text/plain": [
       "{'(': 0.04411764705882353,\n",
       " \"'\": 0.058823529411764705,\n",
       " 'Three': 0.014705882352941176,\n",
       " 'big': 0.029411764705882353,\n",
       " 'reasons': 0.029411764705882353,\n",
       " 'Americans': 0.014705882352941176,\n",
       " 'n’t': 0.08823529411764706,\n",
       " 'upgrading': 0.029411764705882353,\n",
       " 'phones': 0.058823529411764705,\n",
       " '-': 0.19117647058823528,\n",
       " 'The': 0.08823529411764706,\n",
       " 'Verge': 0.014705882352941176,\n",
       " ',': 1.0,\n",
       " 'Yes': 0.014705882352941176,\n",
       " 'China': 0.014705882352941176,\n",
       " 'Last': 0.014705882352941176,\n",
       " 'month': 0.014705882352941176,\n",
       " 'Verizon': 0.058823529411764705,\n",
       " 'AT&T': 0.04411764705882353,\n",
       " 'official': 0.014705882352941176,\n",
       " '’ve': 0.029411764705882353,\n",
       " 'probably': 0.014705882352941176,\n",
       " 'aware': 0.014705882352941176,\n",
       " ':': 0.04411764705882353,\n",
       " 'American': 0.029411764705882353,\n",
       " 'smartphone': 0.07352941176470588,\n",
       " 'owners': 0.014705882352941176,\n",
       " 'lot': 0.04411764705882353,\n",
       " '.': 0.5588235294117647,\n",
       " 'In': 0.014705882352941176,\n",
       " 'fact': 0.014705882352941176,\n",
       " '’re': 0.058823529411764705,\n",
       " 'hitting': 0.014705882352941176,\n",
       " 'record': 0.014705882352941176,\n",
       " 'lows': 0.014705882352941176,\n",
       " 'biggest': 0.014705882352941176,\n",
       " 'US': 0.16176470588235295,\n",
       " 'carriers': 0.04411764705882353,\n",
       " 'people': 0.11764705882352941,\n",
       " 'apparently': 0.014705882352941176,\n",
       " 'content': 0.029411764705882353,\n",
       " 'hold': 0.014705882352941176,\n",
       " 'existing': 0.029411764705882353,\n",
       " 'device': 0.029411764705882353,\n",
       " 'This': 0.014705882352941176,\n",
       " 'global': 0.014705882352941176,\n",
       " 'trend': 0.014705882352941176,\n",
       " 'market': 0.07352941176470588,\n",
       " 'reaching': 0.014705882352941176,\n",
       " 'maturity': 0.014705882352941176,\n",
       " 'saturation': 0.014705882352941176,\n",
       " 'developed': 0.014705882352941176,\n",
       " 'nations': 0.029411764705882353,\n",
       " '’s': 0.19117647058823528,\n",
       " 'pronounced': 0.014705882352941176,\n",
       " 'United': 0.029411764705882353,\n",
       " 'States': 0.029411764705882353,\n",
       " 'particular': 0.014705882352941176,\n",
       " 'country': 0.029411764705882353,\n",
       " 'If': 0.029411764705882353,\n",
       " 'ask': 0.014705882352941176,\n",
       " 'exciting': 0.029411764705882353,\n",
       " '2019': 0.029411764705882353,\n",
       " 'mind': 0.014705882352941176,\n",
       " 'Huawei': 0.07352941176470588,\n",
       " 'P30': 0.014705882352941176,\n",
       " 'Pro': 0.04411764705882353,\n",
       " 'exotic': 0.014705882352941176,\n",
       " 'array': 0.014705882352941176,\n",
       " 'cameras': 0.014705882352941176,\n",
       " 'unmatched': 0.014705882352941176,\n",
       " 'low': 0.014705882352941176,\n",
       " 'light': 0.014705882352941176,\n",
       " 'photography': 0.014705882352941176,\n",
       " 'closely': 0.014705882352941176,\n",
       " 'followed': 0.014705882352941176,\n",
       " 'OnePlus': 0.058823529411764705,\n",
       " '7': 0.029411764705882353,\n",
       " 'gorgeous': 0.014705882352941176,\n",
       " '90Hz': 0.014705882352941176,\n",
       " 'screen': 0.029411764705882353,\n",
       " 'Is': 0.014705882352941176,\n",
       " 'available': 0.014705882352941176,\n",
       " '?': 0.014705882352941176,\n",
       " 'Nope': 0.014705882352941176,\n",
       " 'effectively': 0.014705882352941176,\n",
       " 'banned': 0.014705882352941176,\n",
       " 'government': 0.029411764705882353,\n",
       " 'distribution': 0.014705882352941176,\n",
       " 'deal': 0.014705882352941176,\n",
       " 'T': 0.029411764705882353,\n",
       " 'Mobile': 0.029411764705882353,\n",
       " 'better': 0.014705882352941176,\n",
       " 'comparatively': 0.014705882352941176,\n",
       " 'niche': 0.014705882352941176,\n",
       " 'typical': 0.014705882352941176,\n",
       " 'buyer': 0.014705882352941176,\n",
       " 'knows': 0.014705882352941176,\n",
       " 'choice': 0.029411764705882353,\n",
       " 'brands': 0.04411764705882353,\n",
       " 'Apple': 0.11764705882352941,\n",
       " 'Samsung': 0.10294117647058823,\n",
       " 'Peruse': 0.014705882352941176,\n",
       " 'online': 0.014705882352941176,\n",
       " 'offerings': 0.014705882352941176,\n",
       " 'Sprint': 0.014705882352941176,\n",
       " '’ll': 0.029411764705882353,\n",
       " 'parade': 0.014705882352941176,\n",
       " 'models': 0.014705882352941176,\n",
       " 'companies': 0.029411764705882353,\n",
       " 'punctuated': 0.014705882352941176,\n",
       " 'occasional': 0.014705882352941176,\n",
       " 'LG': 0.014705882352941176,\n",
       " 'ran': 0.014705882352941176,\n",
       " 'Kyocera': 0.014705882352941176,\n",
       " 'obscurity': 0.014705882352941176,\n",
       " 'scroll': 0.014705882352941176,\n",
       " 'far': 0.014705882352941176,\n",
       " 'Red': 0.014705882352941176,\n",
       " 'Hydrogen': 0.014705882352941176,\n",
       " 'One': 0.029411764705882353,\n",
       " 'garbage': 0.014705882352941176,\n",
       " 'phone': 0.14705882352941177,\n",
       " 'company': 0.029411764705882353,\n",
       " 'let': 0.014705882352941176,\n",
       " 'Chinese': 0.07352941176470588,\n",
       " 'like': 0.04411764705882353,\n",
       " 'Xiaomi': 0.014705882352941176,\n",
       " 'leading': 0.014705882352941176,\n",
       " 'positions': 0.014705882352941176,\n",
       " 'world': 0.029411764705882353,\n",
       " 'markets': 0.014705882352941176,\n",
       " 'entirely': 0.014705882352941176,\n",
       " 'absent': 0.014705882352941176,\n",
       " 'For': 0.014705882352941176,\n",
       " 'maker': 0.014705882352941176,\n",
       " 'carrier': 0.029411764705882353,\n",
       " 'backdoor': 0.014705882352941176,\n",
       " 'means': 0.014705882352941176,\n",
       " 'putting': 0.014705882352941176,\n",
       " 'familiar': 0.014705882352941176,\n",
       " 'brand': 0.029411764705882353,\n",
       " 'TCL': 0.014705882352941176,\n",
       " 'BlackBerry': 0.014705882352941176,\n",
       " 'Palm': 0.014705882352941176,\n",
       " 'handsets': 0.029411764705882353,\n",
       " 'Even': 0.014705882352941176,\n",
       " 'palatable': 0.014705882352941176,\n",
       " 'giant': 0.014705882352941176,\n",
       " 'conglomerate': 0.014705882352941176,\n",
       " 'operates': 0.014705882352941176,\n",
       " 'Oppo': 0.014705882352941176,\n",
       " 'Vivo': 0.014705882352941176,\n",
       " 'geopolitics': 0.014705882352941176,\n",
       " 'playing': 0.014705882352941176,\n",
       " 'stores': 0.014705882352941176,\n",
       " 'narrowing': 0.014705882352941176,\n",
       " 'consumer': 0.014705882352941176,\n",
       " 'products': 0.014705882352941176,\n",
       " 'mainly': 0.014705882352941176,\n",
       " 'manufacturers': 0.04411764705882353,\n",
       " 'allied': 0.014705882352941176,\n",
       " 'South': 0.014705882352941176,\n",
       " 'Korea': 0.014705882352941176,\n",
       " 'Being': 0.014705882352941176,\n",
       " 'limited': 0.014705882352941176,\n",
       " 'providers': 0.014705882352941176,\n",
       " 'problem': 0.014705882352941176,\n",
       " 'competing': 0.014705882352941176,\n",
       " 'hard': 0.014705882352941176,\n",
       " 'possibly': 0.014705882352941176,\n",
       " 'appear': 0.014705882352941176,\n",
       " 'iterative': 0.014705882352941176,\n",
       " 'upgrades': 0.029411764705882353,\n",
       " '“': 0.014705882352941176,\n",
       " 'Incremental': 0.014705882352941176,\n",
       " 'changes': 0.014705882352941176,\n",
       " 'model': 0.014705882352941176,\n",
       " 'great': 0.029411764705882353,\n",
       " 'incentive': 0.014705882352941176,\n",
       " '”': 0.014705882352941176,\n",
       " 'according': 0.014705882352941176,\n",
       " 'CFO': 0.014705882352941176,\n",
       " 'Matt': 0.014705882352941176,\n",
       " 'Ellis': 0.014705882352941176,\n",
       " 'Think': 0.014705882352941176,\n",
       " 'things': 0.029411764705882353,\n",
       " 'Galaxy': 0.04411764705882353,\n",
       " 'S10': 0.04411764705882353,\n",
       " 'compelling': 0.029411764705882353,\n",
       " 'beautiful': 0.014705882352941176,\n",
       " 'display': 0.029411764705882353,\n",
       " 'tiny': 0.014705882352941176,\n",
       " 'bezels': 0.029411764705882353,\n",
       " 'good': 0.029411764705882353,\n",
       " 'camera': 0.014705882352941176,\n",
       " 'large': 0.014705882352941176,\n",
       " 'battery': 0.014705882352941176,\n",
       " 'wireless': 0.014705882352941176,\n",
       " 'charging': 0.014705882352941176,\n",
       " 'fast': 0.014705882352941176,\n",
       " 'performance': 0.014705882352941176,\n",
       " 'water': 0.014705882352941176,\n",
       " 'resistance': 0.014705882352941176,\n",
       " 'bonus': 0.014705882352941176,\n",
       " 'headphone': 0.014705882352941176,\n",
       " 'jack': 0.014705882352941176,\n",
       " 'year': 0.014705882352941176,\n",
       " 'old': 0.014705882352941176,\n",
       " 'S7': 0.029411764705882353,\n",
       " 'An': 0.014705882352941176,\n",
       " 'owner': 0.014705882352941176,\n",
       " 'absolutely': 0.014705882352941176,\n",
       " 'want': 0.014705882352941176,\n",
       " 'certainly': 0.029411764705882353,\n",
       " 'need': 0.014705882352941176,\n",
       " 'It': 0.029411764705882353,\n",
       " 'situation': 0.014705882352941176,\n",
       " 'looks': 0.014705882352941176,\n",
       " 'Windows': 0.014705882352941176,\n",
       " 'laptops': 0.014705882352941176,\n",
       " 'disappearing': 0.014705882352941176,\n",
       " 'lighter': 0.014705882352941176,\n",
       " 'faster': 0.014705882352941176,\n",
       " 'rate': 0.014705882352941176,\n",
       " 'improvement': 0.014705882352941176,\n",
       " 'gradual': 0.014705882352941176,\n",
       " 'compel': 0.014705882352941176,\n",
       " 'upgrade': 0.04411764705882353,\n",
       " 'hurry': 0.014705882352941176,\n",
       " 'major': 0.014705882352941176,\n",
       " 'redesign': 0.014705882352941176,\n",
       " 'iPhone': 0.04411764705882353,\n",
       " 'X': 0.029411764705882353,\n",
       " '2017': 0.014705882352941176,\n",
       " 'sparking': 0.014705882352941176,\n",
       " 'wave': 0.014705882352941176,\n",
       " '’d': 0.029411764705882353,\n",
       " 'waiting': 0.014705882352941176,\n",
       " 'dramatic': 0.014705882352941176,\n",
       " 'change': 0.014705882352941176,\n",
       " 'kept': 0.029411764705882353,\n",
       " 'conservative': 0.014705882352941176,\n",
       " 'cadence': 0.014705882352941176,\n",
       " 'comes': 0.014705882352941176,\n",
       " 'introducing': 0.014705882352941176,\n",
       " 'new': 0.04411764705882353,\n",
       " 'hardware': 0.029411764705882353,\n",
       " 'features': 0.04411764705882353,\n",
       " 'capabilities': 0.029411764705882353,\n",
       " 'You': 0.014705882352941176,\n",
       " 'struggle': 0.029411764705882353,\n",
       " 'tell': 0.014705882352941176,\n",
       " 'difference': 0.014705882352941176,\n",
       " 'XS': 0.014705882352941176,\n",
       " 'differentiate': 0.014705882352941176,\n",
       " '6': 0.014705882352941176,\n",
       " '6S': 0.014705882352941176,\n",
       " 'glance': 0.014705882352941176,\n",
       " 'Without': 0.014705882352941176,\n",
       " 'likes': 0.014705882352941176,\n",
       " 'push': 0.014705882352941176,\n",
       " 'aggressive': 0.014705882352941176,\n",
       " 'cycles': 0.014705882352941176,\n",
       " 'afford': 0.014705882352941176,\n",
       " 'pace': 0.029411764705882353,\n",
       " 'breakneck': 0.014705882352941176,\n",
       " 'pursuit': 0.014705882352941176,\n",
       " 'proven': 0.014705882352941176,\n",
       " 'extremely': 0.014705882352941176,\n",
       " 'enticing': 0.014705882352941176,\n",
       " 'buyers': 0.014705882352941176,\n",
       " 'Europe': 0.014705882352941176,\n",
       " 'rest': 0.014705882352941176,\n",
       " 'vendor': 0.014705882352941176,\n",
       " 'racking': 0.014705882352941176,\n",
       " '50': 0.014705882352941176,\n",
       " 'percent': 0.014705882352941176,\n",
       " 'growth': 0.014705882352941176,\n",
       " 'shipments': 0.014705882352941176,\n",
       " 'quarter': 0.014705882352941176,\n",
       " 'faltered': 0.014705882352941176,\n",
       " 'badly': 0.014705882352941176,\n",
       " 'secret': 0.014705882352941176,\n",
       " 'mobile': 0.014705882352941176,\n",
       " 'worship': 0.014705882352941176,\n",
       " 'altar': 0.014705882352941176,\n",
       " 'ARPU': 0.014705882352941176,\n",
       " 'average': 0.014705882352941176,\n",
       " 'revenue': 0.014705882352941176,\n",
       " 'user': 0.014705882352941176,\n",
       " ')': 0.04411764705882353,\n",
       " 'Increasingly': 0.014705882352941176,\n",
       " 'bundling': 0.014705882352941176,\n",
       " 'line': 0.014705882352941176,\n",
       " 'rentals': 0.014705882352941176,\n",
       " 'subscriptions': 0.014705882352941176,\n",
       " 'premium': 0.014705882352941176,\n",
       " 'video': 0.014705882352941176,\n",
       " 'music': 0.014705882352941176,\n",
       " 'services': 0.014705882352941176,\n",
       " 'offering': 0.029411764705882353,\n",
       " 'long': 0.04411764705882353,\n",
       " 'term': 0.029411764705882353,\n",
       " 'payment': 0.014705882352941176,\n",
       " 'plans': 0.014705882352941176,\n",
       " 'help': 0.014705882352941176,\n",
       " 'buy': 0.014705882352941176,\n",
       " 'super': 0.014705882352941176,\n",
       " 'flagship': 0.014705882352941176,\n",
       " '$': 0.029411764705882353,\n",
       " '1,000': 0.014705882352941176,\n",
       " 'Google': 0.014705882352941176,\n",
       " 'That': 0.014705882352941176,\n",
       " 'strategy': 0.014705882352941176,\n",
       " 'worked': 0.014705882352941176,\n",
       " 'surprisingly': 0.014705882352941176,\n",
       " 'consumers': 0.014705882352941176,\n",
       " 'seeing': 0.014705882352941176,\n",
       " 'marginal': 0.014705882352941176,\n",
       " 'increase': 0.014705882352941176,\n",
       " 'monthly': 0.014705882352941176,\n",
       " 'cost': 0.014705882352941176,\n",
       " 'valuing': 0.014705882352941176,\n",
       " 'increased': 0.014705882352941176,\n",
       " 'sheer': 0.014705882352941176,\n",
       " 'aesthetic': 0.014705882352941176,\n",
       " 'luxury': 0.014705882352941176,\n",
       " 'appeal': 0.014705882352941176,\n",
       " 'exclusive': 0.014705882352941176,\n",
       " 'tier': 0.014705882352941176,\n",
       " 'devices': 0.029411764705882353,\n",
       " 'But': 0.014705882352941176,\n",
       " 'issues': 0.014705882352941176,\n",
       " 'selling': 0.014705882352941176,\n",
       " 'ultra': 0.014705882352941176,\n",
       " 'pricey': 0.014705882352941176,\n",
       " 'person': 0.014705882352941176,\n",
       " 'spends': 0.014705882352941176,\n",
       " 'double': 0.014705882352941176,\n",
       " 'previously': 0.014705882352941176,\n",
       " 'naturally': 0.014705882352941176,\n",
       " 'expect': 0.014705882352941176,\n",
       " 'shiny': 0.014705882352941176,\n",
       " 'close': 0.014705882352941176,\n",
       " 'twice': 0.014705882352941176,\n",
       " 'supporting': 0.014705882352941176,\n",
       " 'generations': 0.014705882352941176,\n",
       " 'iPhones': 0.014705882352941176,\n",
       " 'latest': 0.014705882352941176,\n",
       " 'iOS': 0.014705882352941176,\n",
       " 'updates': 0.029411764705882353,\n",
       " 'Android': 0.029411764705882353,\n",
       " 'vendors': 0.014705882352941176,\n",
       " 'near': 0.029411764705882353,\n",
       " 'carry': 0.014705882352941176,\n",
       " 'fine': 0.014705882352941176,\n",
       " 'older': 0.014705882352941176,\n",
       " 'version': 0.014705882352941176,\n",
       " 'issue': 0.014705882352941176,\n",
       " 'addressable': 0.014705882352941176,\n",
       " 'willing': 0.014705882352941176,\n",
       " 'spend': 0.014705882352941176,\n",
       " 'figures': 0.014705882352941176,\n",
       " 'inherently': 0.014705882352941176,\n",
       " 'small': 0.014705882352941176,\n",
       " 'Phone': 0.014705882352941176,\n",
       " 'shifted': 0.014705882352941176,\n",
       " 'innovative': 0.014705882352941176,\n",
       " 'appealing': 0.014705882352941176,\n",
       " 'price': 0.04411764705882353,\n",
       " 'point': 0.014705882352941176,\n",
       " 'simply': 0.014705882352941176,\n",
       " 'unattainable': 0.014705882352941176,\n",
       " 'majority': 0.014705882352941176,\n",
       " 'They': 0.014705882352941176,\n",
       " 'masked': 0.014705882352941176,\n",
       " 'money': 0.014705882352941176,\n",
       " 'cheapest': 0.014705882352941176,\n",
       " 'variant': 0.014705882352941176,\n",
       " 'S10E': 0.014705882352941176,\n",
       " '749': 0.014705882352941176,\n",
       " 'Americans’': 0.014705882352941176,\n",
       " 'budgets': 0.014705882352941176,\n",
       " 'risen': 0.014705882352941176,\n",
       " 'prices': 0.014705882352941176,\n",
       " 'look': 0.014705882352941176,\n",
       " 'usual': 0.014705882352941176,\n",
       " 'range': 0.014705882352941176,\n",
       " 'lack': 0.014705882352941176,\n",
       " 'meaningful': 0.014705882352941176,\n",
       " 'innovation': 0.029411764705882353,\n",
       " 'rare': 0.014705882352941176,\n",
       " 'exception': 0.014705882352941176,\n",
       " 'bringing': 0.014705882352941176,\n",
       " 'devastatingly': 0.014705882352941176,\n",
       " 'handsome': 0.014705882352941176,\n",
       " 'bezel': 0.014705882352941176,\n",
       " 'sub-$700': 0.014705882352941176,\n",
       " 'Satisfied': 0.014705882352941176,\n",
       " 'customers': 0.014705882352941176,\n",
       " 'failure': 0.014705882352941176,\n",
       " 'deliver': 0.014705882352941176,\n",
       " 'points': 0.014705882352941176,\n",
       " 'ready': 0.014705882352941176,\n",
       " 'total': 0.014705882352941176,\n",
       " 'absence': 0.014705882352941176,\n",
       " 'competition': 0.014705882352941176,\n",
       " 'sapped': 0.014705882352941176,\n",
       " 'vitality': 0.014705882352941176,\n",
       " 'Smartphones': 0.014705882352941176,\n",
       " 'fun': 0.014705882352941176,\n",
       " 'novel': 0.014705882352941176,\n",
       " 'outside': 0.014705882352941176,\n",
       " 'find': 0.014705882352941176,\n",
       " 'affordable': 0.014705882352941176,\n",
       " 'Command': 0.014705882352941176,\n",
       " 'Line': 0.014705882352941176,\n",
       " 'delivers': 0.014705882352941176,\n",
       " 'daily': 0.014705882352941176,\n",
       " 'future': 0.014705882352941176}"
      ]
     },
     "execution_count": 21,
     "metadata": {},
     "output_type": "execute_result"
    }
   ],
   "source": [
    "word_frequency"
   ]
  },
  {
   "cell_type": "code",
   "execution_count": 22,
   "metadata": {
    "ExecuteTime": {
     "end_time": "2019-05-28T00:38:16.012276Z",
     "start_time": "2019-05-28T00:38:16.008941Z"
    }
   },
   "outputs": [],
   "source": [
    "# get sentence tokens\n",
    "sentence_list = [ sentence for sentence in doc.sents ]"
   ]
  },
  {
   "cell_type": "code",
   "execution_count": 27,
   "metadata": {
    "ExecuteTime": {
     "end_time": "2019-05-28T00:40:35.845281Z",
     "start_time": "2019-05-28T00:40:35.809195Z"
    }
   },
   "outputs": [],
   "source": [
    "# get sentence scores based on word frequency\n",
    "sentence_scores = {}  \n",
    "for sent in sentence_list:  \n",
    "        for word in sent:\n",
    "            if word.text.lower() in word_frequency.keys():\n",
    "                if len(sent.text.split(' ')) < 30:\n",
    "                    if sent not in sentence_scores.keys():\n",
    "                        sentence_scores[sent] = word_frequency[word.text.lower()]\n",
    "                    else:\n",
    "                        sentence_scores[sent] += word_frequency[word.text.lower()]"
   ]
  },
  {
   "cell_type": "code",
   "execution_count": 28,
   "metadata": {
    "ExecuteTime": {
     "end_time": "2019-05-28T00:40:42.671423Z",
     "start_time": "2019-05-28T00:40:42.664100Z"
    }
   },
   "outputs": [
    {
     "data": {
      "text/plain": [
       "{In fact, they’re hitting record lows at the two biggest US carriers, with people apparently more content than ever to keep hold of their existing device.: 2.970588235294117,\n",
       " Is either of those phones available on AT&T or Verizon?: 0.08823529411764706,\n",
       " Nope.: 0.5588235294117647,\n",
       " Huawei is effectively banned by the US government, while OnePlus only has a distribution deal with T-Mobile in the country, which is better than nothing but still comparatively niche.: 2.9264705882352935,\n",
       " The typical American smartphone buyer knows a choice between only two brands: Apple and Samsung.: 0.7941176470588236,\n",
       " If you scroll down far enough, you’ll get to see the Red Hydrogen One, which is a garbage phone, but it’s from a US company: 3.4411764705882346,\n",
       " , so they let it in.: 1.5735294117647058,\n",
       " Chinese phone brands like Huawei and Xiaomi have leading positions in most of the world’s markets now, but in the US they’re almost entirely absent.: 2.1470588235294117,\n",
       " Even OnePlus is mostly a palatable brand in front of the same giant Chinese conglomerate that operates the Oppo and Vivo brands.: 0.6911764705882353,\n",
       " The US government’s geopolitics is playing out in carrier stores, narrowing consumer choice to products from US companies, mainly Apple, or manufacturers from US-allied nations like South Korea.: 4.2941176470588225,\n",
       " “Incremental changes from one model to the next hasn’t been that great, and it hasn’t been enough of an incentive,” according to Verizon CFO Matt Ellis.: 2.852941176470588,\n",
       " The three-year-old Galaxy S7 has all of those things.: 1.0,\n",
       " An S7 owner can absolutely want an S10, but they certainly don’t need one.: 1.7352941176470587,\n",
       " Huawei’s: 0.19117647058823528,\n",
       " It’s a badly kept secret that mobile carriers worship at the altar of ARPU (average revenue per user).: 1.0294117647058825,\n",
       " But there are two long-term issues for hardware manufacturers selling ultra pricey handsets.: 0.9852941176470589,\n",
       " The other big issue is that the addressable market of people willing to spend four figures on a phone is inherently small.: 1.0294117647058822,\n",
       " Phone manufacturers and carriers in the US have shifted the most innovative and appealing devices to a price point that’s simply unattainable for a majority of people.: 1.2794117647058822,\n",
       " They’ve masked it well, but it’s still a lot of money.: 1.8529411764705883,\n",
       " Samsung’s cheapest Galaxy S10 variant, the S10E, is still $749.: 2.8235294117647056,\n",
       " The OnePlus 7 Pro is a rare exception, bringing a devastatingly handsome, bezel-less display to the sub-$700 market.: 2.985294117647059,\n",
       " Smartphones are still fun, exciting, and full of novel features, but you might have to go outside the United States to find one that’s both compelling and affordable.: 3.9264705882352935,\n",
       " Command Line delivers daily updates from the near-future.'): 0.9705882352941176}"
      ]
     },
     "execution_count": 28,
     "metadata": {},
     "output_type": "execute_result"
    }
   ],
   "source": [
    "# check sentence scores\n",
    "sentence_scores"
   ]
  },
  {
   "cell_type": "code",
   "execution_count": 29,
   "metadata": {
    "ExecuteTime": {
     "end_time": "2019-05-28T00:40:56.875974Z",
     "start_time": "2019-05-28T00:40:56.872769Z"
    }
   },
   "outputs": [],
   "source": [
    "from heapq import nlargest"
   ]
  },
  {
   "cell_type": "code",
   "execution_count": 35,
   "metadata": {
    "ExecuteTime": {
     "end_time": "2019-05-28T01:03:26.329740Z",
     "start_time": "2019-05-28T01:03:26.321565Z"
    }
   },
   "outputs": [],
   "source": [
    "# get seven sentences with highest scores\n",
    "summarized_sentences = nlargest(8, sentence_scores, key=sentence_scores.get)"
   ]
  },
  {
   "cell_type": "code",
   "execution_count": 36,
   "metadata": {
    "ExecuteTime": {
     "end_time": "2019-05-28T01:03:27.183118Z",
     "start_time": "2019-05-28T01:03:27.176328Z"
    }
   },
   "outputs": [
    {
     "data": {
      "text/plain": [
       "[The US government’s geopolitics is playing out in carrier stores, narrowing consumer choice to products from US companies, mainly Apple, or manufacturers from US-allied nations like South Korea.,\n",
       " Smartphones are still fun, exciting, and full of novel features, but you might have to go outside the United States to find one that’s both compelling and affordable.,\n",
       " If you scroll down far enough, you’ll get to see the Red Hydrogen One, which is a garbage phone, but it’s from a US company,\n",
       " The OnePlus 7 Pro is a rare exception, bringing a devastatingly handsome, bezel-less display to the sub-$700 market.,\n",
       " In fact, they’re hitting record lows at the two biggest US carriers, with people apparently more content than ever to keep hold of their existing device.,\n",
       " Huawei is effectively banned by the US government, while OnePlus only has a distribution deal with T-Mobile in the country, which is better than nothing but still comparatively niche.,\n",
       " “Incremental changes from one model to the next hasn’t been that great, and it hasn’t been enough of an incentive,” according to Verizon CFO Matt Ellis.,\n",
       " Samsung’s cheapest Galaxy S10 variant, the S10E, is still $749.]"
      ]
     },
     "execution_count": 36,
     "metadata": {},
     "output_type": "execute_result"
    }
   ],
   "source": [
    "# checkout summarized sentences\n",
    "summarized_sentences"
   ]
  },
  {
   "cell_type": "code",
   "execution_count": 37,
   "metadata": {
    "ExecuteTime": {
     "end_time": "2019-05-28T01:03:33.204319Z",
     "start_time": "2019-05-28T01:03:33.200615Z"
    }
   },
   "outputs": [],
   "source": [
    "# convert summarized sentences from its list representation to a summarized output\n",
    "final_sentences = [w.text for w in summarized_sentences]"
   ]
  },
  {
   "cell_type": "code",
   "execution_count": 38,
   "metadata": {
    "ExecuteTime": {
     "end_time": "2019-05-28T01:03:33.875159Z",
     "start_time": "2019-05-28T01:03:33.870001Z"
    }
   },
   "outputs": [],
   "source": [
    "# join sentences\n",
    "summary = ' '.join(final_sentences)"
   ]
  },
  {
   "cell_type": "code",
   "execution_count": 39,
   "metadata": {
    "ExecuteTime": {
     "end_time": "2019-05-28T01:03:34.794040Z",
     "start_time": "2019-05-28T01:03:34.786998Z"
    }
   },
   "outputs": [
    {
     "data": {
      "text/plain": [
       "'The US government’s geopolitics is playing out in carrier stores, narrowing consumer choice to products from US companies, mainly Apple, or manufacturers from US-allied nations like South Korea. Smartphones are still fun, exciting, and full of novel features, but you might have to go outside the United States to find one that’s both compelling and affordable. If you scroll down far enough, you’ll get to see the Red Hydrogen One, which is a garbage phone, but it’s from a US company The OnePlus 7 Pro is a rare exception, bringing a devastatingly handsome, bezel-less display to the sub-$700 market. In fact, they’re hitting record lows at the two biggest US carriers, with people apparently more content than ever to keep hold of their existing device. Huawei is effectively banned by the US government, while OnePlus only has a distribution deal with T-Mobile in the country, which is better than nothing but still comparatively niche. “Incremental changes from one model to the next hasn’t been that great, and it hasn’t been enough of an incentive,” according to Verizon CFO Matt Ellis. Samsung’s cheapest Galaxy S10 variant, the S10E, is still $749.'"
      ]
     },
     "execution_count": 39,
     "metadata": {},
     "output_type": "execute_result"
    }
   ],
   "source": [
    "# checkout final summary\n",
    "summary"
   ]
  },
  {
   "cell_type": "markdown",
   "metadata": {},
   "source": [
    "Using spaCy's method for text summarization does not output correctly structured sentences, instead it just outputs sentences with highest sentence scores\n",
    "\n",
    "* * *"
   ]
  },
  {
   "cell_type": "markdown",
   "metadata": {},
   "source": [
    "### 2. [gensim](https://radimrehurek.com/gensim/index.html)"
   ]
  },
  {
   "cell_type": "markdown",
   "metadata": {},
   "source": [
    "gensim has built in text summarizer and provides keywords"
   ]
  },
  {
   "cell_type": "code",
   "execution_count": 40,
   "metadata": {
    "ExecuteTime": {
     "end_time": "2019-05-28T01:15:13.488266Z",
     "start_time": "2019-05-28T01:15:10.009390Z"
    }
   },
   "outputs": [],
   "source": [
    "# import gensim library\n",
    "from gensim.summarization import summarize, keywords"
   ]
  },
  {
   "cell_type": "markdown",
   "metadata": {},
   "source": [
    "The ratio parameter used below for summarizing text is a number between 0 and 1 that determines the proportion of the number of sentences of the original text to be chosen for the summary."
   ]
  },
  {
   "cell_type": "code",
   "execution_count": 41,
   "metadata": {
    "ExecuteTime": {
     "end_time": "2019-05-28T01:15:18.112243Z",
     "start_time": "2019-05-28T01:15:17.996639Z"
    }
   },
   "outputs": [
    {
     "name": "stdout",
     "output_type": "stream",
     "text": [
      "Summary using Gensim for Ratio : 0.1\n",
      "Apple did have a major redesign with the iPhone X in 2017, sparking a wave of upgrades from people who’d been waiting for such a dramatic change, but the company has otherwise kept to a conservative cadence when it comes to introducing new hardware features and capabilities.\n",
      "Without the likes of Huawei to push them into more aggressive upgrade cycles, Apple and Samsung can afford to keep pace only with one another, at least in the US market.\n",
      "Phone manufacturers and carriers in the US have shifted the most innovative and appealing devices to a price point that’s simply unattainable for a majority of people.\n",
      "\n",
      "\n",
      "Summary using Gensim for Ratio : 0.2\n",
      "('Three big reasons why Americans aren’t upgrading their phones - The Verge', 'Yes, this has to do with China Last month, Verizon and AT&T made official something you’ve probably been aware of for a while: American smartphone owners are upgrading a lot less than they used to.\n",
      "Chinese phone brands like Huawei and Xiaomi have leading positions in most of the world’s markets now, but in the US they’re almost entirely absent.\n",
      "It’s a situation that looks a lot like the one with Windows laptops, where screen bezels are disappearing, everything is becoming lighter and faster, but the rate of improvement is too gradual to compel most people to upgrade in a hurry.\n",
      "Apple did have a major redesign with the iPhone X in 2017, sparking a wave of upgrades from people who’d been waiting for such a dramatic change, but the company has otherwise kept to a conservative cadence when it comes to introducing new hardware features and capabilities.\n",
      "Without the likes of Huawei to push them into more aggressive upgrade cycles, Apple and Samsung can afford to keep pace only with one another, at least in the US market.\n",
      "Phone manufacturers and carriers in the US have shifted the most innovative and appealing devices to a price point that’s simply unattainable for a majority of people.\n",
      "Satisfied existing customers, a failure to deliver innovation to price points where people would be ready to upgrade, and the almost total absence of Chinese competition have sapped the US phone market’s vitality.\n",
      "\n",
      "\n",
      "Summary using Gensim for Ratio : 0.4\n",
      "('Three big reasons why Americans aren’t upgrading their phones - The Verge', 'Yes, this has to do with China Last month, Verizon and AT&T made official something you’ve probably been aware of for a while: American smartphone owners are upgrading a lot less than they used to.\n",
      "This is a global trend, as the smartphone market is reaching maturity and saturation in many developed nations, and yet it’s most pronounced in the United States for a few reasons particular to the country.\n",
      "Chinese phone brands like Huawei and Xiaomi have leading positions in most of the world’s markets now, but in the US they’re almost entirely absent.\n",
      "For a Chinese phone maker to get a device onto a US carrier, it has to do that via the backdoor means of putting a familiar brand on it, such as TCL is doing with its BlackBerry and Palm handsets.\n",
      "The US government’s geopolitics is playing out in carrier stores, narrowing consumer choice to products from US companies, mainly Apple, or manufacturers from US-allied nations like South Korea.\n",
      "Think about the things that make a Samsung Galaxy S10 compelling: a beautiful display with tiny bezels, a very good camera, a large battery with wireless charging, fast performance, water resistance, and, as a bonus, a headphone jack.\n",
      "It’s a situation that looks a lot like the one with Windows laptops, where screen bezels are disappearing, everything is becoming lighter and faster, but the rate of improvement is too gradual to compel most people to upgrade in a hurry.\n",
      "Apple did have a major redesign with the iPhone X in 2017, sparking a wave of upgrades from people who’d been waiting for such a dramatic change, but the company has otherwise kept to a conservative cadence when it comes to introducing new hardware features and capabilities.\n",
      "Without the likes of Huawei to push them into more aggressive upgrade cycles, Apple and Samsung can afford to keep pace only with one another, at least in the US market.\n",
      "Huawei’s breakneck pursuit of new features has proven extremely enticing for phone buyers in Europe and across the rest of the world, with the Chinese vendor racking up 50 percent growth in phone shipments in the first quarter of 2019 while Samsung and Apple both faltered.\n",
      "Increasingly, they’re bundling their phone line rentals with subscriptions to premium video or music services, and they’re offering long-term payment plans to help people buy the super flagship $1,000 phones that Apple, Samsung, and Google have been offering.\n",
      "Apple has been great about supporting many generations of iPhones with its latest iOS updates, and even though Android vendors haven’t been anywhere near as good, many people can carry on just fine with an older version of Android as well.\n",
      "The other big issue is that the addressable market of people willing to spend four figures on a phone is inherently small.\n",
      "Phone manufacturers and carriers in the US have shifted the most innovative and appealing devices to a price point that’s simply unattainable for a majority of people.\n",
      "Satisfied existing customers, a failure to deliver innovation to price points where people would be ready to upgrade, and the almost total absence of Chinese competition have sapped the US phone market’s vitality.\n",
      "\n",
      "\n"
     ]
    }
   ],
   "source": [
    "for ratio in [0.1,0.2,0.4]:\n",
    "    summarized_text = summarize(str(text),ratio=ratio)\n",
    "    print(f'Summary using Gensim for Ratio : {ratio}')\n",
    "    print(summarized_text)\n",
    "    print('\\n')"
   ]
  },
  {
   "cell_type": "code",
   "execution_count": 46,
   "metadata": {
    "ExecuteTime": {
     "end_time": "2019-05-28T01:44:20.854999Z",
     "start_time": "2019-05-28T01:44:20.718487Z"
    }
   },
   "outputs": [
    {
     "name": "stdout",
     "output_type": "stream",
     "text": [
      "Keywords :\n",
      "[('phone', 0.318452407845418), ('smartphones', 0.1685040707322157), ('apple', 0.14406767508313495), ('brand', 0.1432874845707694), ('markets', 0.13889852900491376), ('people', 0.13757362866634612), ('samsung', 0.1320181729882281), ('chinese', 0.12836914005244315), ('likes', 0.12340612862996207), ('new', 0.11677405478264472), ('prices', 0.11189707986166327), ('upgrade', 0.11184920733756953), ('vendors', 0.1062817234854944), ('bezel', 0.1034118904932478), ('line', 0.10160248723804759), ('consumers', 0.09659572460602217), ('carrier', 0.09659572460602181), ('low', 0.0931813628519074), ('galaxy', 0.08617360759661755), ('nations', 0.08567004917866335)]\n"
     ]
    }
   ],
   "source": [
    "# get keywords and their scores for summarized text\n",
    "print('Keywords :')\n",
    "print(keywords(str(text), words=20, scores=True ,lemmatize=True))"
   ]
  },
  {
   "cell_type": "markdown",
   "metadata": {},
   "source": [
    "- The good thing about gensim text summarizer is that it maintaines the order of input statements in the output.\n",
    "- The number of sentences in the output can be controlled by the __ratio__ paramter. Default is 0.2\n",
    "- Gensim also provides keywords from its summarized text. We can play around with paramters like __ratio__, __words__, __scores__, __lemmatize__ or __split__ to get required output.\n",
    "\n",
    "___"
   ]
  },
  {
   "cell_type": "markdown",
   "metadata": {},
   "source": [
    "### 3. [Sumy](https://pypi.org/project/sumy/) "
   ]
  },
  {
   "cell_type": "markdown",
   "metadata": {},
   "source": [
    "Sumy is a simple library and command line utility for extracting summary from HTML pages or plain texts.The package also contains simple evaluation framework for text summaries. Implemented summarization methods are as below:\n",
    "\n",
    "- __Luhn__ - heurestic method, [reference](http://ieeexplore.ieee.org/xpl/articleDetails.jsp?arnumber=5392672)\n",
    "- __Edmundson__ heurestic method with previous statistic research, [reference](http://dl.acm.org/citation.cfm?doid=321510.321519)\n",
    "- __Latent Semantic Analysis, LSA__ - one of the algorithm from http://scholar.google.com/citations?user=0fTuW_YAAAAJ&hl=en I think the author is using more advanced algorithms now. [Steinberger, J. a Ježek, K. Using latent semantic an and summary evaluation. In In Proceedings ISIM '04. 2004. S. 93-100.](http://www.kiv.zcu.cz/~jstein/publikace/isim2004.pdf)\n",
    "- __LexRank__ - Unsupervised approach inspired by algorithms PageRank and HITS, [reference](http://tangra.si.umich.edu/~radev/lexrank/lexrank.pdf)\n",
    "- __TextRank__ - Unsupervised approach, also using PageRank algorithm, [reference](https://web.eecs.umich.edu/~mihalcea/papers/mihalcea.emnlp04.pdf)\n",
    "- __SumBasic__ - Method that is often used as a baseline in the literature. Source: [Read about SumBasic](http://www.cis.upenn.edu/~nenkova/papers/ipm.pdf)\n",
    "- __KL-Sum__ - Method that greedily adds sentences to a summary so long as it decreases the KL Divergence. Source: [Read about KL-Sum](http://www.aclweb.org/anthology/N09-1041)\n",
    "- __Reduction__ - Graph-based summarization, where a sentence salience is computed as the sum of the weights of its edges to other sentences. The weight of an edge between two sentences is computed in the same manner as TextRank."
   ]
  },
  {
   "cell_type": "markdown",
   "metadata": {},
   "source": [
    "We can checkout different __sumy__ summarizers and verify which one works best according to our requirement"
   ]
  },
  {
   "cell_type": "code",
   "execution_count": 8,
   "metadata": {
    "ExecuteTime": {
     "end_time": "2019-05-29T02:53:07.792396Z",
     "start_time": "2019-05-29T02:53:07.787404Z"
    }
   },
   "outputs": [],
   "source": [
    "# import sumy's text pre-processing libraries and summarizers\n",
    "from sumy.parsers.html import HtmlParser\n",
    "from sumy.nlp.tokenizers import Tokenizer\n",
    "from sumy.nlp.stemmers import Stemmer\n",
    "from sumy.utils import get_stop_words\n",
    "from sumy.summarizers.edmundson import EdmundsonSummarizer\n",
    "from sumy.summarizers.kl import KLSummarizer\n",
    "from sumy.summarizers.lex_rank import LexRankSummarizer\n",
    "from sumy.summarizers.lsa import LsaSummarizer\n",
    "from sumy.summarizers.luhn import LuhnSummarizer\n",
    "from sumy.summarizers.random import RandomSummarizer\n",
    "from sumy.summarizers.reduction import ReductionSummarizer\n",
    "from sumy.summarizers.sum_basic import SumBasicSummarizer\n",
    "from sumy.summarizers.text_rank import TextRankSummarizer"
   ]
  },
  {
   "cell_type": "code",
   "execution_count": 14,
   "metadata": {
    "ExecuteTime": {
     "end_time": "2019-05-29T03:16:49.704912Z",
     "start_time": "2019-05-29T03:16:49.118438Z"
    },
    "scrolled": false
   },
   "outputs": [
    {
     "name": "stdout",
     "output_type": "stream",
     "text": [
      "=====================================================KLSummarizer=====================================================\n",
      "If you scroll down far enough, you’ll get to see the Red Hydrogen One, which is a garbage phone , but it’s from a US company, so they let it in.\n",
      "Think about the things that make a Samsung Galaxy S10 compelling: a beautiful display with tiny bezels, a very good camera, a large battery with wireless charging, fast performance, water resistance, and, as a bonus, a headphone jack.\n",
      "You’d certainly struggle to tell the difference between an iPhone X and XS, just as you would struggle to differentiate between an iPhone 6 and a 6S on first glance.\n",
      "Huawei’s breakneck pursuit of new features has proven extremely enticing for phone buyers in Europe and across the rest of the world, with the Chinese vendor racking up 50 percent growth in phone shipments in the first quarter of 2019 while Samsung and Apple both faltered .\n",
      "That strategy has worked surprisingly well, with consumers seeing only a marginal increase in their monthly cost and valuing the increased capabilities (or sheer aesthetic and luxury appeal) of those exclusive-tier devices.\n",
      "One is that the person that spends double what they previously did on a phone would, naturally, expect to keep their shiny new phone for somewhere close to twice as long.\n",
      "Smartphones are still fun, exciting, and full of novel features, but you might have to go outside the United States to find one that’s both compelling and affordable.\n",
      "\n",
      "\n",
      "=====================================================LexRankSummarizer=====================================================\n",
      "Last month, Verizon and AT&T made official something you’ve probably been aware of for a while: American smartphone owners are upgrading a lot less than they used to.\n",
      "Is either of those phones available on AT&T or Verizon?\n",
      "The typical American smartphone buyer knows a choice between only two brands: Apple and Samsung.\n",
      "Peruse the online offerings of AT&T, Verizon, T-Mobile, and Sprint, and you’ll see a parade of various models from those two companies, punctuated by the occasional LG also-ran and Kyocera obscurity.\n",
      "Chinese phone brands like Huawei and Xiaomi have leading positions in most of the world’s markets now, but in the US they’re almost entirely absent.\n",
      "Without the likes of Huawei to push them into more aggressive upgrade cycles, Apple and Samsung can afford to keep pace only with one another, at least in the US market.\n",
      "Phone manufacturers and carriers in the US have shifted the most innovative and appealing devices to a price point that’s simply unattainable for a majority of people.\n",
      "\n",
      "\n",
      "=====================================================LsaSummarizer=====================================================\n",
      "This is a global trend, as the smartphone market is reaching maturity and saturation in many developed nations, and yet it’s most pronounced in the United States for a few reasons particular to the country.\n",
      "Peruse the online offerings of AT&T, Verizon, T-Mobile, and Sprint, and you’ll see a parade of various models from those two companies, punctuated by the occasional LG also-ran and Kyocera obscurity.\n",
      "The US government’s geopolitics is playing out in carrier stores, narrowing consumer choice to products from US companies, mainly Apple, or manufacturers from US-allied nations like South Korea.\n",
      "Think about the things that make a Samsung Galaxy S10 compelling: a beautiful display with tiny bezels, a very good camera, a large battery with wireless charging, fast performance, water resistance, and, as a bonus, a headphone jack.\n",
      "It’s a situation that looks a lot like the one with Windows laptops, where screen bezels are disappearing , everything is becoming lighter and faster, but the rate of improvement is too gradual to compel most people to upgrade in a hurry.\n",
      "Photo by James Bareham / The Verge Apple did have a major redesign with the iPhone X in 2017, sparking a wave of upgrades from people who’d been waiting for such a dramatic change, but the company has otherwise kept to a conservative cadence when it comes to introducing new hardware features and capabilities.\n",
      "Satisfied existing customers, a failure to deliver innovation to price points where people would be ready to upgrade, and the almost total absence of Chinese competition have sapped the US phone market’s vitality.\n",
      "\n",
      "\n",
      "=====================================================LuhnSummarizer=====================================================\n",
      "Last month, Verizon and AT&T made official something you’ve probably been aware of for a while: American smartphone owners are upgrading a lot less than they used to.\n",
      "The typical American smartphone buyer knows a choice between only two brands: Apple and Samsung.\n",
      "Chinese phone brands like Huawei and Xiaomi have leading positions in most of the world’s markets now, but in the US they’re almost entirely absent.\n",
      "The US government’s geopolitics is playing out in carrier stores, narrowing consumer choice to products from US companies, mainly Apple, or manufacturers from US-allied nations like South Korea.\n",
      "Think about the things that make a Samsung Galaxy S10 compelling: a beautiful display with tiny bezels, a very good camera, a large battery with wireless charging, fast performance, water resistance, and, as a bonus, a headphone jack.\n",
      "Increasingly, they’re bundling their phone line rentals with subscriptions to premium video or music services, and they’re offering long-term payment plans to help people buy the super flagship $1,000 phones that Apple, Samsung, and Google have been offering.\n",
      "Phone manufacturers and carriers in the US have shifted the most innovative and appealing devices to a price point that’s simply unattainable for a majority of people.\n",
      "\n",
      "\n",
      "=====================================================RandomSummarizer=====================================================\n",
      "Is either of those phones available on AT&T or Verizon?\n",
      "The typical American smartphone buyer knows a choice between only two brands: Apple and Samsung.\n",
      "Peruse the online offerings of AT&T, Verizon, T-Mobile, and Sprint, and you’ll see a parade of various models from those two companies, punctuated by the occasional LG also-ran and Kyocera obscurity.\n",
      "Even OnePlus is mostly a palatable brand in front of the same giant Chinese conglomerate that operates the Oppo and Vivo brands.\n",
      "You’d certainly struggle to tell the difference between an iPhone X and XS, just as you would struggle to differentiate between an iPhone 6 and a 6S on first glance.\n",
      "Without the likes of Huawei to push them into more aggressive upgrade cycles, Apple and Samsung can afford to keep pace only with one another, at least in the US market.\n",
      "That strategy has worked surprisingly well, with consumers seeing only a marginal increase in their monthly cost and valuing the increased capabilities (or sheer aesthetic and luxury appeal) of those exclusive-tier devices.\n",
      "\n",
      "\n",
      "=====================================================ReductionSummarizer=====================================================\n",
      "Chinese phone brands like Huawei and Xiaomi have leading positions in most of the world’s markets now, but in the US they’re almost entirely absent.\n",
      "For a Chinese phone maker to get a device onto a US carrier, it has to do that via the backdoor means of putting a familiar brand on it, such as TCL is doing with its BlackBerry and Palm handsets.\n",
      "Without the likes of Huawei to push them into more aggressive upgrade cycles, Apple and Samsung can afford to keep pace only with one another, at least in the US market.\n",
      "Huawei’s breakneck pursuit of new features has proven extremely enticing for phone buyers in Europe and across the rest of the world, with the Chinese vendor racking up 50 percent growth in phone shipments in the first quarter of 2019 while Samsung and Apple both faltered .\n",
      "Increasingly, they’re bundling their phone line rentals with subscriptions to premium video or music services, and they’re offering long-term payment plans to help people buy the super flagship $1,000 phones that Apple, Samsung, and Google have been offering.\n",
      "Phone manufacturers and carriers in the US have shifted the most innovative and appealing devices to a price point that’s simply unattainable for a majority of people.\n",
      "Satisfied existing customers, a failure to deliver innovation to price points where people would be ready to upgrade, and the almost total absence of Chinese competition have sapped the US phone market’s vitality.\n",
      "\n",
      "\n",
      "=====================================================SumBasicSummarizer=====================================================\n",
      "Is either of those phones available on AT&T or Verizon?\n",
      "Huawei is effectively banned by the US government, while OnePlus only has a distribution deal with T-Mobile in the country, which is better than nothing but still comparatively niche.\n",
      "The typical American smartphone buyer knows a choice between only two brands: Apple and Samsung.\n",
      "Geopolitics playing out in US carrier stores\n",
      "The three-year-old Galaxy S7 has all of those things.\n",
      "The other big issue is that the addressable market of people willing to spend four figures on a phone is inherently small.\n",
      "They’ve masked it well, but it’s still a lot of money.\n",
      "\n",
      "\n",
      "=====================================================TextRankSummarizer=====================================================\n",
      "Chinese phone brands like Huawei and Xiaomi have leading positions in most of the world’s markets now, but in the US they’re almost entirely absent.\n",
      "For a Chinese phone maker to get a device onto a US carrier, it has to do that via the backdoor means of putting a familiar brand on it, such as TCL is doing with its BlackBerry and Palm handsets.\n",
      "Photo by James Bareham / The Verge Apple did have a major redesign with the iPhone X in 2017, sparking a wave of upgrades from people who’d been waiting for such a dramatic change, but the company has otherwise kept to a conservative cadence when it comes to introducing new hardware features and capabilities.\n",
      "Huawei’s breakneck pursuit of new features has proven extremely enticing for phone buyers in Europe and across the rest of the world, with the Chinese vendor racking up 50 percent growth in phone shipments in the first quarter of 2019 while Samsung and Apple both faltered .\n",
      "Increasingly, they’re bundling their phone line rentals with subscriptions to premium video or music services, and they’re offering long-term payment plans to help people buy the super flagship $1,000 phones that Apple, Samsung, and Google have been offering.\n",
      "Phone manufacturers and carriers in the US have shifted the most innovative and appealing devices to a price point that’s simply unattainable for a majority of people.\n",
      "Satisfied existing customers, a failure to deliver innovation to price points where people would be ready to upgrade, and the almost total absence of Chinese competition have sapped the US phone market’s vitality.\n",
      "\n",
      "\n"
     ]
    }
   ],
   "source": [
    "# iterate through summarizer to get text summary\n",
    "summarizers = [KLSummarizer, LexRankSummarizer, LsaSummarizer, LuhnSummarizer, RandomSummarizer, ReductionSummarizer, \n",
    "               SumBasicSummarizer, TextRankSummarizer]\n",
    "\n",
    "# select language\n",
    "language = 'english'\n",
    "\n",
    "# set number of sentences to be in the summary\n",
    "sentence_count = 7\n",
    "\n",
    "# url to fetch text\n",
    "url = 'https://www.theverge.com/2019/5/17/18629003/us-phone-upgrades-apple-samsung-market'\n",
    "\n",
    "# parse the url through an HTML parser and tokenize it\n",
    "parser = HtmlParser.from_url(url, Tokenizer(language))\n",
    "\n",
    "for summary in summarizers:\n",
    "    name = summary.__name__    \n",
    "    print(('='*53)+name+('='*53))\n",
    "    summarizer = summary(Stemmer(language))                         # create summarizer object\n",
    "    summarizer.stop_words = get_stop_words(language)                # get stop words\n",
    "    for sentence in summarizer(parser.document, sentence_count):    # parse original text through the summarizer to get summary\n",
    "        print(sentence)\n",
    "    print('\\n')"
   ]
  },
  {
   "cell_type": "markdown",
   "metadata": {},
   "source": [
    "In my opinion, __Latent Semantic Analysis (LSA) Summarizer__ provides the best summary out off all the sumy summarizers"
   ]
  },
  {
   "cell_type": "markdown",
   "metadata": {},
   "source": [
    "__Edmundson Summarizer__ requires additional parameters like bonus_words, stigma_words and null_words for summarizing text.\n",
    "- Bonus words are the words that we want to see in our summary, they are most informative and are significant words.\n",
    "- Stigma words and null words are non-significant words similar to stop words"
   ]
  },
  {
   "cell_type": "code",
   "execution_count": 4,
   "metadata": {
    "ExecuteTime": {
     "end_time": "2019-05-29T02:13:40.648130Z",
     "start_time": "2019-05-29T02:13:40.576343Z"
    }
   },
   "outputs": [
    {
     "name": "stdout",
     "output_type": "stream",
     "text": [
      "=============Edmundson_Summarizer=============\n",
      "Nope.\n",
      "The typical American smartphone buyer knows a choice between only two brands: Apple and Samsung.\n",
      "Geopolitics playing out in US carrier stores\n",
      "The three-year-old Galaxy S7 has all of those things.\n",
      "Increasingly, they’re bundling their phone line rentals with subscriptions to premium video or music services, and they’re offering long-term payment plans to help people buy the super flagship $1,000 phones that Apple, Samsung, and Google have been offering.\n",
      "But there are two long-term issues for hardware manufacturers selling ultra pricey handsets.\n",
      "Samsung’s cheapest Galaxy S10 variant, the S10E , is still $749.\n"
     ]
    }
   ],
   "source": [
    "print('=============Edmundson_Summarizer=============')\n",
    "summarizer = EdmundsonSummarizer(Stemmer(language))\n",
    "summarizer.bonus_words = (\"china\", \"apple\", \"samsung\" )\n",
    "summarizer.stigma_words = get_stop_words(language)\n",
    "summarizer.null_words = get_stop_words(language)\n",
    "for sentence in summarizer(parser.document, sentence_count):\n",
    "    print(sentence)"
   ]
  }
 ],
 "metadata": {
  "kernelspec": {
   "display_name": "Python 3",
   "language": "python",
   "name": "python3"
  },
  "language_info": {
   "codemirror_mode": {
    "name": "ipython",
    "version": 3
   },
   "file_extension": ".py",
   "mimetype": "text/x-python",
   "name": "python",
   "nbconvert_exporter": "python",
   "pygments_lexer": "ipython3",
   "version": "3.6.7"
  },
  "varInspector": {
   "cols": {
    "lenName": 16,
    "lenType": 16,
    "lenVar": 40
   },
   "kernels_config": {
    "python": {
     "delete_cmd_postfix": "",
     "delete_cmd_prefix": "del ",
     "library": "var_list.py",
     "varRefreshCmd": "print(var_dic_list())"
    },
    "r": {
     "delete_cmd_postfix": ") ",
     "delete_cmd_prefix": "rm(",
     "library": "var_list.r",
     "varRefreshCmd": "cat(var_dic_list()) "
    }
   },
   "position": {
    "height": "229.8px",
    "left": "1116.6px",
    "right": "20px",
    "top": "120px",
    "width": "385.8px"
   },
   "types_to_exclude": [
    "module",
    "function",
    "builtin_function_or_method",
    "instance",
    "_Feature"
   ],
   "window_display": false
  }
 },
 "nbformat": 4,
 "nbformat_minor": 2
}
