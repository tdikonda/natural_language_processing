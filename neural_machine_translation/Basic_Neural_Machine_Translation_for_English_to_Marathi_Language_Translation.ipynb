{
 "cells": [
  {
   "cell_type": "markdown",
   "metadata": {
    "colab_type": "text",
    "id": "ofsTTbOPn6tj"
   },
   "source": [
    "# Basic Neural Machine Translation for English to Marathi Language Translation\n",
    "\n",
    "- Machine translation is a challenging task that traditionally involves large statistical models developed using highly sophisticated linguistic knowledge. Neural machine translation is the use of deep neural networks for the problem of machine translation.\n",
    "\n",
    "- We will develop a basic neural machine translation system for translating English phrases to Marathi. This tutorial is divided into 2 parts which are:\n",
    "\n",
    "    - Preparing the Textual Data\n",
    "    - Building & Evaluating the Neural Machine Translation Model\n"
   ]
  },
  {
   "cell_type": "code",
   "execution_count": 1,
   "metadata": {
    "colab": {
     "base_uri": "https://localhost:8080/",
     "height": 34
    },
    "colab_type": "code",
    "id": "KF27ur40xxGm",
    "outputId": "8c8a8433-5337-41a9-e4b8-1889eab9c9e3"
   },
   "outputs": [
    {
     "name": "stdout",
     "output_type": "stream",
     "text": [
      "TensorFlow Version is 2.2.0\n"
     ]
    }
   ],
   "source": [
    "# import necessary libraries\n",
    "import re\n",
    "import string\n",
    "from unicodedata import normalize\n",
    "import numpy as np\n",
    "from pickle import dump, load\n",
    "import tensorflow as tf\n",
    "import matplotlib.pyplot as plt\n",
    "from nltk.translate.bleu_score import corpus_bleu\n",
    "\n",
    "# print tensorflow version\n",
    "print(f'TensorFlow Version is {tf.__version__}')"
   ]
  },
  {
   "cell_type": "markdown",
   "metadata": {
    "colab_type": "text",
    "id": "Hbih0RcXA5b6"
   },
   "source": [
    "### English to Marathi Translation Dataset\n",
    "- The dataset is available from [ManyThings.org](http://www.manythings.org/) website. The page provides a list of many language pairs and we will use Marathi - English [(mar-eng.zip)](http://www.manythings.org/anki/mar-eng.zip) dataset."
   ]
  },
  {
   "cell_type": "code",
   "execution_count": 2,
   "metadata": {
    "colab": {
     "base_uri": "https://localhost:8080/",
     "height": 210
    },
    "colab_type": "code",
    "id": "5FJZFlSn-010",
    "outputId": "1337b102-e9ac-4d82-b896-7722699f2888"
   },
   "outputs": [
    {
     "name": "stdout",
     "output_type": "stream",
     "text": [
      "--2020-06-21 19:08:39--  http://www.manythings.org/anki/mar-eng.zip\n",
      "Resolving www.manythings.org (www.manythings.org)... 104.24.109.196, 172.67.173.198, 104.24.108.196, ...\n",
      "Connecting to www.manythings.org (www.manythings.org)|104.24.109.196|:80... connected.\n",
      "HTTP request sent, awaiting response... 200 OK\n",
      "Length: 1242995 (1.2M) [application/zip]\n",
      "Saving to: ‘mar-eng.zip’\n",
      "\n",
      "mar-eng.zip         100%[===================>]   1.18M   963KB/s    in 1.3s    \n",
      "\n",
      "2020-06-21 19:08:42 (963 KB/s) - ‘mar-eng.zip’ saved [1242995/1242995]\n",
      "\n"
     ]
    }
   ],
   "source": [
    "# download the dataset\n",
    "!wget http://www.manythings.org/anki/mar-eng.zip"
   ]
  },
  {
   "cell_type": "code",
   "execution_count": 3,
   "metadata": {
    "colab": {
     "base_uri": "https://localhost:8080/",
     "height": 70
    },
    "colab_type": "code",
    "id": "_019APbv-58f",
    "outputId": "4f34c511-a5ad-4aac-c182-5ee9d3e6b2b5"
   },
   "outputs": [
    {
     "name": "stdout",
     "output_type": "stream",
     "text": [
      "Archive:  mar-eng.zip\n",
      "  inflating: mar.txt                 \n",
      "  inflating: _about.txt              \n"
     ]
    }
   ],
   "source": [
    "# unzip the downloaded file\n",
    "!unzip mar-eng.zip"
   ]
  },
  {
   "cell_type": "markdown",
   "metadata": {
    "colab_type": "text",
    "id": "gg3cct1MC1bz"
   },
   "source": [
    "- Once we decompress the file it will contain 38,696 pairs of English and Marathi phrases, one pair per line with a tab separating the language. We can ignore the third column in the dataset which is not relevant for our translation task."
   ]
  },
  {
   "cell_type": "code",
   "execution_count": 0,
   "metadata": {
    "colab": {
     "base_uri": "https://localhost:8080/",
     "height": 193
    },
    "colab_type": "code",
    "id": "cIipuzIetL13",
    "outputId": "58c2783c-36e4-422d-f307-46e7de2d6bf9"
   },
   "outputs": [
    {
     "name": "stdout",
     "output_type": "stream",
     "text": [
      "Go.\tजा.\tCC-BY 2.0 (France) Attribution: tatoeba.org #2877272 (CM) & #3138228 (sabretou)\n",
      "\n",
      "Run!\tपळ!\tCC-BY 2.0 (France) Attribution: tatoeba.org #906328 (papabear) & #3138217 (sabretou)\n",
      "\n",
      "Run!\tधाव!\tCC-BY 2.0 (France) Attribution: tatoeba.org #906328 (papabear) & #3138218 (sabretou)\n",
      "\n",
      "Run!\tपळा!\tCC-BY 2.0 (France) Attribution: tatoeba.org #906328 (papabear) & #3138219 (sabretou)\n",
      "\n",
      "Run!\tधावा!\tCC-BY 2.0 (France) Attribution: tatoeba.org #906328 (papabear) & #3138220 (sabretou)\n",
      "\n"
     ]
    }
   ],
   "source": [
    "# view first 5 lines of data\n",
    "with open('mar.txt', encoding='utf-8') as f:\n",
    "    for _ in range(5):\n",
    "        l = f.readline()\n",
    "        print(l)"
   ]
  },
  {
   "cell_type": "markdown",
   "metadata": {
    "colab_type": "text",
    "id": "_ZvTaDSyENJf"
   },
   "source": [
    "- We will frame the prediction problem as given a sequence of words in English as input, translate or predict the sequence of words in Marathi.\n",
    "\n",
    "## Prepare the Textual Data\n",
    "- The next step is to prepare the textual data for modeling. If you are new to cleaning text data, see this post :- [How to Clean Text for Machine Learning with Python](https://machinelearningmastery.com/clean-text-machine-learning-python/)\n",
    "\n",
    "- After reviewing the raw data here are some observations:\n",
    "    - There are punctuations.\n",
    "    - The text contains uppercase and lowercase letters.\n",
    "    - There are special characters in Marathi phrases.\n",
    "    - There are duplicate phrases in English with different translations in Marathi.\n",
    "    - The file is ordered by sentence length with very long sentences toward the end of the file.\n",
    "\n",
    "- Data preparation is divided into 3 subsections:\n",
    "    1. Clean Text\n",
    "    2. Split Text\n",
    "    3. Tokenize and Encode the Text\n",
    "\n",
    "### 1. Clean Text\n",
    "- First, we must load the data in a way that preserves the Unicode Marathi characters. The function below called clean_text( ) will load the file as a blob of text. We will read the file using **UTF-8** encoding and write the pairs to a new file called 'eng-mar.txt' discarding the third column value."
   ]
  },
  {
   "cell_type": "code",
   "execution_count": 0,
   "metadata": {
    "colab": {},
    "colab_type": "code",
    "id": "mqnV01Ocdfhb"
   },
   "outputs": [],
   "source": [
    "# load and clean the text\n",
    "def clean_text(filename):\n",
    "    with open(filename, mode='rt', encoding='utf-8') as f:\n",
    "        with open('eng-mar.txt', mode='wt', encoding='utf-8') as t:\n",
    "            for line in f:\n",
    "                line = line.split('\tCC', 1)[0]\n",
    "                t.write(''.join(line))\n",
    "                t.write('\\n')\n",
    "\n",
    "clean_text('mar.txt')"
   ]
  },
  {
   "cell_type": "code",
   "execution_count": 0,
   "metadata": {
    "colab": {
     "base_uri": "https://localhost:8080/",
     "height": 193
    },
    "colab_type": "code",
    "id": "Cgu-CgJsEYrG",
    "outputId": "be5da0c6-afe3-4c95-caea-e9b9531a880f"
   },
   "outputs": [
    {
     "name": "stdout",
     "output_type": "stream",
     "text": [
      "Go.\tजा.\n",
      "\n",
      "Run!\tपळ!\n",
      "\n",
      "Run!\tधाव!\n",
      "\n",
      "Run!\tपळा!\n",
      "\n",
      "Run!\tधावा!\n",
      "\n"
     ]
    }
   ],
   "source": [
    "# view first 5 lines of cleaned text\n",
    "with open('eng-mar.txt', encoding='utf-8') as f:\n",
    "    for _ in range(5):\n",
    "        l = f.readline()\n",
    "        print(l)"
   ]
  },
  {
   "cell_type": "markdown",
   "metadata": {
    "colab_type": "text",
    "id": "x5hu2EtKGzeg"
   },
   "source": [
    "- We must first read the data in a way that preserves the Unicode Marathi characters. The function below called read_text( ) will load the file as a blob of text."
   ]
  },
  {
   "cell_type": "code",
   "execution_count": 0,
   "metadata": {
    "colab": {},
    "colab_type": "code",
    "id": "WLuEKh0xwOd_"
   },
   "outputs": [],
   "source": [
    "# load the clean text\n",
    "def read_text(filename):\n",
    "    # open file as read only\n",
    "    file = open(filename, mode='rt', encoding='utf-8')\n",
    "    # read the text\n",
    "    text = file.read()\n",
    "    # close the file\n",
    "    file.close\n",
    "    return text\n",
    "\n",
    "text = read_text('eng-mar.txt')"
   ]
  },
  {
   "cell_type": "markdown",
   "metadata": {
    "colab_type": "text",
    "id": "8c_b5qFMHWar"
   },
   "source": [
    "- Each line contains a single pair of phrases first English and then Marathi separated by a tab character. We must split the loaded text by line and then by phrase. The function to_pairs( ) below will split the loaded text."
   ]
  },
  {
   "cell_type": "code",
   "execution_count": 0,
   "metadata": {
    "colab": {},
    "colab_type": "code",
    "id": "GPDayZIayi4P"
   },
   "outputs": [],
   "source": [
    "# split text into sentences\n",
    "def to_pairs(text):\n",
    "    # split test by line\n",
    "    lines = text.strip().split('\\n')\n",
    "    # split text by phrase\n",
    "    pairs = [line.split('\\t') for line in lines]\n",
    "    return pairs\n",
    "\n",
    "pairs = to_pairs(text)"
   ]
  },
  {
   "cell_type": "code",
   "execution_count": 7,
   "metadata": {
    "colab": {
     "base_uri": "https://localhost:8080/",
     "height": 193
    },
    "colab_type": "code",
    "id": "b1SSRthwkz3k",
    "outputId": "ef55f60e-bcab-47a3-b72f-92ef112c1929"
   },
   "outputs": [
    {
     "data": {
      "text/plain": [
       "[['Go.', 'जा.'],\n",
       " ['Run!', 'पळ!'],\n",
       " ['Run!', 'धाव!'],\n",
       " ['Run!', 'पळा!'],\n",
       " ['Run!', 'धावा!'],\n",
       " ['Who?', 'कोण?'],\n",
       " ['Wow!', 'वाह!'],\n",
       " ['Fire!', 'आग!'],\n",
       " ['Fire!', 'फायर!'],\n",
       " ['Help!', 'वाचवा!']]"
      ]
     },
     "execution_count": 7,
     "metadata": {
      "tags": []
     },
     "output_type": "execute_result"
    }
   ],
   "source": [
    "## check out first 10 pairs\n",
    "pairs[:10]"
   ]
  },
  {
   "cell_type": "markdown",
   "metadata": {
    "colab_type": "text",
    "id": "BP8FEN1UzYWV"
   },
   "source": [
    "- We are now ready to clean each sentence. The specific cleaning operations we will perform are as follows:\n",
    "\n",
    "    * Remove all non-printable characters.\n",
    "    * Remove all punctuation characters.\n",
    "    * Normalize all Unicode characters to ASCII (e.g. Latin characters).\n",
    "    * Normalize the case to lowercase.\n",
    "    * Remove any remaining tokens that are not alphabetic.\n",
    "\n",
    "- We will perform these operations on each phrase for each pair in the loaded dataset. The clean_pairs( ) function below implements these operations.\n",
    "\n",
    "- __[string.printable](https://docs.python.org/3/library/string.html#string.printable)__\n",
    "\n",
    "    * String of ASCII characters which are considered printable. This is a combination of digits, ascii_letters, punctuation, and whitespace.\n",
    "\n",
    "- __[unicodedata](https://docs.python.org/3.8/library/unicodedata.html)__\n",
    "\n",
    "    - __unicodedata.normalize(form, unistr)__\n",
    "\n",
    "        * Returns the normal form for the Unicode string unistr. Valid values for form are ‘NFC’, ‘NFKC’, ‘NFD’, and ‘NFKD’.\n",
    "        * Normal form D (NFD) is also known as canonical decomposition and translates each character into its decomposed form.\n",
    "\n",
    "- __[Standard Encodings](https://docs.python.org/3/library/codecs.html#standard-encodings)__\n",
    "\n",
    "- __[bytes.decode](https://docs.python.org/3/library/stdtypes.html#bytes.decode)__"
   ]
  },
  {
   "cell_type": "code",
   "execution_count": 0,
   "metadata": {
    "colab": {},
    "colab_type": "code",
    "id": "dvh39KqDTjBN"
   },
   "outputs": [],
   "source": [
    "def clean_pairs(pairs):\n",
    "    cleaned = list()\n",
    "    # prepare regex for char filtering\n",
    "    #re_print = re.compile('[^%s]' % re.escape(string.printable))\n",
    "    # prepare translaion table for removing punctuation\n",
    "    table = str.maketrans('', '', string.punctuation)\n",
    "    for pair in pairs:\n",
    "        clean_pair = list()\n",
    "        for line in pair:\n",
    "            # normalize unicode characters\n",
    "            line = normalize('NFD', line).encode()\n",
    "            # for english language\n",
    "            #line = normalize('NFD', line).encode('ascii', 'ignore')\n",
    "            line = line.decode()\n",
    "            # tokenize on white space\n",
    "            line = line.split()\n",
    "            # convert to lowercase\n",
    "            line = [word.lower() for word in line]\n",
    "            # remove punctuation from each token\n",
    "            line = [word.translate(table) for word in line]\n",
    "            # remove non-printable chars from each token\n",
    "            #line = [re_print.sub('', word) for word in line]\n",
    "            # remove tokens with numbers in them\n",
    "            #line = [word for word in line if word.isalpha()]\n",
    "            # store as string\n",
    "            clean_pair.append(' '.join(line))\n",
    "        cleaned.append(clean_pair)\n",
    "    return np.array(cleaned)\n",
    "\n",
    "clean_pairs = clean_pairs(pairs)"
   ]
  },
  {
   "cell_type": "markdown",
   "metadata": {
    "colab_type": "text",
    "id": "lbpgRQD5Juq1"
   },
   "source": [
    "- Now that the data has been cleaned, we can save the list of phrase pairs to a file ready for use. The function save_clean_data( ) uses the pickle API to save the list of clean text to file."
   ]
  },
  {
   "cell_type": "code",
   "execution_count": 9,
   "metadata": {
    "colab": {
     "base_uri": "https://localhost:8080/",
     "height": 34
    },
    "colab_type": "code",
    "id": "5T3sjG6LrZNF",
    "outputId": "d9f2aa34-6727-49c5-8483-85d84dec5899"
   },
   "outputs": [
    {
     "name": "stdout",
     "output_type": "stream",
     "text": [
      "Saved : eng-mar-both.pkl\n"
     ]
    }
   ],
   "source": [
    "# save list of clean sentences to file\n",
    "def save_clean_data(clean_pairs, filename):\n",
    "    dump(clean_pairs, open(filename, mode='wb'))\n",
    "    print(f'Saved : {filename}')\n",
    "\n",
    "save_clean_data(clean_pairs, 'eng-mar-both.pkl')"
   ]
  },
  {
   "cell_type": "code",
   "execution_count": 10,
   "metadata": {
    "colab": {
     "base_uri": "https://localhost:8080/",
     "height": 105
    },
    "colab_type": "code",
    "id": "F8tzKPqbjPLw",
    "outputId": "72e84170-a020-476b-c57c-81d455702d3a"
   },
   "outputs": [
    {
     "name": "stdout",
     "output_type": "stream",
     "text": [
      "go ==> जा\n",
      "run ==> पळ\n",
      "run ==> धाव\n",
      "run ==> पळा\n",
      "run ==> धावा\n"
     ]
    }
   ],
   "source": [
    "# spot check\n",
    "for i in range(5):\n",
    "    print(f'{clean_pairs[i,0]} ==> {clean_pairs[i,1]}')"
   ]
  },
  {
   "cell_type": "markdown",
   "metadata": {
    "colab_type": "text",
    "id": "CEA--2pfLCib"
   },
   "source": [
    "### 2. Split Text\n",
    "- We will first load the dataset, shuffle and then split it into training and testing set. We will utilize the first 35000 pairs as training data from the shuffled dataset and rest as testing data."
   ]
  },
  {
   "cell_type": "code",
   "execution_count": 0,
   "metadata": {
    "colab": {},
    "colab_type": "code",
    "id": "47P1l9zOxbHm"
   },
   "outputs": [],
   "source": [
    "# load clean dataset\n",
    "def load_clean_dataset(filename):\n",
    "    return load(open(filename, mode='rb'))\n",
    "\n",
    "dataset = load_clean_dataset('eng-mar-both.pkl')"
   ]
  },
  {
   "cell_type": "code",
   "execution_count": 0,
   "metadata": {
    "colab": {
     "base_uri": "https://localhost:8080/",
     "height": 230
    },
    "colab_type": "code",
    "id": "FOaOBUcC5Q1-",
    "outputId": "08e5db0b-fa7f-4aa4-a6dd-ddd7ebba67fe"
   },
   "outputs": [
    {
     "data": {
      "text/plain": [
       "array([['go', 'जा'],\n",
       "       ['run', 'पळ'],\n",
       "       ['run', 'धाव'],\n",
       "       ...,\n",
       "       ['tom tried to sell his old vcr instead of throwing it away but no one would buy it so he ended up throwing it away',\n",
       "        'टॉमने त्याचा जुना व्हीसीआर फेकून टाकण्याऐवजी विकून टाकण्याचा प्रयत्न केला पण विकत घ्यायला कोणीच तयार नव्हतं म्हणून त्याला तो शेवटी फेकूनच टाकायला लागला'],\n",
       "       ['you cant view flash content on an ipad however you can easily email yourself the urls of these web pages and view that content on your regular computer when you get home',\n",
       "        'आयपॅडवर फ्लॅश आशय बघता येत नाही पण तुम्ही त्या वेब पानांचे यूआरएल स्वतःला ईमेल करून तोच आशय घरी पोहोचल्यावर आपल्या रोजच्या संगणकावर पाहू शकता'],\n",
       "       ['in 1969 roger miller recorded a song called you dont want my love today this song is better known as in the summer time its the first song he wrote and sang that became popular',\n",
       "        '१९६९मध्ये रॉजर मिलरने यू डोन्ट वॉन्ट माय लव्ह नावाचं गाणं रेकॉर्ड केलं आज हे गाणं इन द समर टाइम म्हणून जास्त प्रसिद्ध आहे त्याने लिहिलेलं व गायलेलं हे असं पहिलं गाणं होतं जे लोकप्रिय झालं']],\n",
       "      dtype='<U187')"
      ]
     },
     "execution_count": 3,
     "metadata": {
      "tags": []
     },
     "output_type": "execute_result"
    }
   ],
   "source": [
    "# checkout the dataset\n",
    "dataset"
   ]
  },
  {
   "cell_type": "code",
   "execution_count": 0,
   "metadata": {
    "colab": {},
    "colab_type": "code",
    "id": "JTwf4TeBve__"
   },
   "outputs": [],
   "source": [
    "# random shuffle\n",
    "np.random.shuffle(dataset)\n",
    "\n",
    "# split the data into training and testing set\n",
    "train_data, test_data = dataset[:35000], dataset[35000:]"
   ]
  },
  {
   "cell_type": "markdown",
   "metadata": {
    "colab_type": "text",
    "id": "5ZC4qmNGm8b_"
   },
   "source": [
    "### 3.1 Tokenize the Text\n",
    "\n",
    "- We will use the Keras Tokenize class to map words to integers. We will use separate tokenizer for English and Marathi sequences. The function below create_tokenizer( ) will tokenize the phrases."
   ]
  },
  {
   "cell_type": "code",
   "execution_count": 0,
   "metadata": {
    "colab": {},
    "colab_type": "code",
    "id": "qj30HLpb8EyV"
   },
   "outputs": [],
   "source": [
    "# create tokenizer\n",
    "def create_tokenizer(data):\n",
    "    tokenizer = tf.keras.preprocessing.text.Tokenizer()\n",
    "    tokenizer.fit_on_texts(data)\n",
    "    return tokenizer"
   ]
  },
  {
   "cell_type": "markdown",
   "metadata": {
    "colab_type": "text",
    "id": "S3paSiWwOP0T"
   },
   "source": [
    "- Similarly, the function max_length( ) below will find the length of the longest sentence in the list of phrases."
   ]
  },
  {
   "cell_type": "code",
   "execution_count": 0,
   "metadata": {
    "colab": {},
    "colab_type": "code",
    "id": "yyuevg3K5rNW"
   },
   "outputs": [],
   "source": [
    "# get maximum sentence length\n",
    "def max_length(data):\n",
    "    return max(len(line.split()) for line in data)"
   ]
  },
  {
   "cell_type": "code",
   "execution_count": 0,
   "metadata": {
    "colab": {
     "base_uri": "https://localhost:8080/",
     "height": 87
    },
    "colab_type": "code",
    "id": "5NUpwdn1SvQ-",
    "outputId": "f5807d9b-d471-44b4-ae63-5977fdb4dce9"
   },
   "outputs": [
    {
     "name": "stdout",
     "output_type": "stream",
     "text": [
      "English Vocabulary Size : 5763\n",
      "Maximum length of a Sentence in English : 35\n",
      "Marathi Vocabulary Size : 13565\n",
      "Maximum length of a Sentence in Marathi : 35\n"
     ]
    }
   ],
   "source": [
    "# tokenize english phrases\n",
    "eng_tokenizer = create_tokenizer(dataset[:, 0])\n",
    "# get size of english vocabulary\n",
    "eng_vocab_size = len(eng_tokenizer.word_index) + 1\n",
    "print(f'English Vocabulary Size : {eng_vocab_size}')\n",
    "# get maximum length of a phrase in english\n",
    "eng_length = max_length(dataset[:, 0])\n",
    "print(f'Maximum length of a Sentence in English : {eng_length}')\n",
    "\n",
    "# tokenize marathi phrases\n",
    "mar_tokenizer = create_tokenizer(dataset[:, 1])\n",
    "# get size of marathi vocabulary\n",
    "mar_vocab_size = len(mar_tokenizer.word_index) + 1\n",
    "print(f'Marathi Vocabulary Size : {mar_vocab_size}')\n",
    "# get maximum length of a phrase in marathi\n",
    "mar_length = max_length(dataset[:, 1])\n",
    "print(f'Maximum length of a Sentence in Marathi : {mar_length}')"
   ]
  },
  {
   "cell_type": "markdown",
   "metadata": {
    "colab_type": "text",
    "id": "lz9YWpLMPrv4"
   },
   "source": [
    "### 3.2 Encode the Textual Data\n",
    "- Each input and output sequence must be encoded to integers and padded to the maximum phrase length. This is because we will use a word embedding for the input sequences. The function below named encode_sequences( ) will perform this operation and return the result."
   ]
  },
  {
   "cell_type": "code",
   "execution_count": 0,
   "metadata": {
    "colab": {},
    "colab_type": "code",
    "id": "keMcVoEg6_LG"
   },
   "outputs": [],
   "source": [
    "# encode and pad sequences\n",
    "def encode_sequences(tokenizer, length, data):\n",
    "    # integer encode sequences\n",
    "    X = tokenizer.texts_to_sequences(data)\n",
    "    # pad sequences with zero values\n",
    "    X = tf.keras.preprocessing.sequence.pad_sequences(X, maxlen=length, padding='post')\n",
    "    return X"
   ]
  },
  {
   "cell_type": "markdown",
   "metadata": {
    "colab_type": "text",
    "id": "4esqk2skkZvC"
   },
   "source": [
    "- The output sequence needs to be one-hot encoded. This is because the model will predict the probability of each word in the vocabulary as output. The function encode_output( ) below will one-hot encode Marathi output sequences."
   ]
  },
  {
   "cell_type": "code",
   "execution_count": 0,
   "metadata": {
    "colab": {},
    "colab_type": "code",
    "id": "zrF1OHg8_1-9"
   },
   "outputs": [],
   "source": [
    "# one hot encode target sequence\n",
    "#def encode_output(sequences, vocab_size):\n",
    "#    ylist = list()\n",
    "#    for sequence in sequences:\n",
    "#        encoded = tf.keras.utils.to_categorical(sequence, num_classes=vocab_size)\n",
    "#        ylist.append(encoded)\n",
    "#    y = np.array(ylist)\n",
    "#    y = y.reshape(sequences.shape[0], sequences.shape[1], vocab_size)\n",
    "#    return y"
   ]
  },
  {
   "cell_type": "code",
   "execution_count": 0,
   "metadata": {
    "colab": {},
    "colab_type": "code",
    "id": "G_RDKCfrFpdT"
   },
   "outputs": [],
   "source": [
    "# encode training data\n",
    "X_train = encode_sequences(eng_tokenizer, eng_length, train_data[:, 0])\n",
    "Y_train = encode_sequences(mar_tokenizer, mar_length, train_data[:, 1])\n",
    "#Y_train = encode_output(Y_train, eng_vocab_size)\n",
    "\n",
    "# encode testing data\n",
    "X_test = encode_sequences(eng_tokenizer, eng_length, test_data[:, 0])\n",
    "Y_test = encode_sequences(mar_tokenizer, mar_length, test_data[:, 1])\n",
    "#Y_test = encode_output(Y_test, eng_vocab_size)"
   ]
  },
  {
   "cell_type": "markdown",
   "metadata": {
    "colab_type": "text",
    "id": "4DknWCO-QaaP"
   },
   "source": [
    "## Define Neural Machine Translation Model\n",
    "\n",
    "* We will use an encoder-decoder LSTM model for this task. In this architecture, the input sequence is encoded by a front-end model called the encoder then decoded word by word by a backend model called the decoder.\n",
    "\n",
    "* The function define_model( ) below defines the model and takes a number of arguments used to configure the model, such as the size of the input and output vocabularies, the maximum length of input and output phrases and the number of memory units used to configure the model."
   ]
  },
  {
   "cell_type": "code",
   "execution_count": 0,
   "metadata": {
    "colab": {
     "base_uri": "https://localhost:8080/",
     "height": 334
    },
    "colab_type": "code",
    "id": "MfHSvC4viZA9",
    "outputId": "a068e174-b6be-46ee-b350-b00d9e17b7b9"
   },
   "outputs": [
    {
     "name": "stdout",
     "output_type": "stream",
     "text": [
      "Model: \"sequential\"\n",
      "_________________________________________________________________\n",
      "Layer (type)                 Output Shape              Param #   \n",
      "=================================================================\n",
      "embedding (Embedding)        (None, 35, 512)           2950656   \n",
      "_________________________________________________________________\n",
      "bidirectional (Bidirectional (None, 1024)              4198400   \n",
      "_________________________________________________________________\n",
      "repeat_vector (RepeatVector) (None, 35, 1024)          0         \n",
      "_________________________________________________________________\n",
      "lstm_1 (LSTM)                (None, 35, 512)           3147776   \n",
      "_________________________________________________________________\n",
      "time_distributed (TimeDistri (None, 35, 13565)         6958845   \n",
      "=================================================================\n",
      "Total params: 17,255,677\n",
      "Trainable params: 17,255,677\n",
      "Non-trainable params: 0\n",
      "_________________________________________________________________\n"
     ]
    }
   ],
   "source": [
    "# define NMT model\n",
    "def define_model(src_vocab_size, tar_vocab_size, src_length, tar_length, units):\n",
    "    model = tf.keras.models.Sequential()\n",
    "    # define encoder\n",
    "    model.add(tf.keras.layers.Embedding(src_vocab_size, units, input_length=src_length, mask_zero=True))\n",
    "    model.add(tf.keras.layers.Bidirectional(tf.keras.layers.LSTM(units=units, dropout=0.4)))\n",
    "    # define decoder\n",
    "    model.add(tf.keras.layers.RepeatVector(n=tar_length))\n",
    "    model.add(tf.keras.layers.LSTM(units=units, return_sequences=True, dropout=0.4))\n",
    "    model.add(tf.keras.layers.TimeDistributed(tf.keras.layers.Dense(tar_vocab_size, activation='softmax')))\n",
    "    return model\n",
    "\n",
    "model = define_model(eng_vocab_size, mar_vocab_size, eng_length, mar_length, units=512)\n",
    "\n",
    "# get model summary\n",
    "model.summary()"
   ]
  },
  {
   "cell_type": "code",
   "execution_count": 0,
   "metadata": {
    "colab": {
     "base_uri": "https://localhost:8080/",
     "height": 644
    },
    "colab_type": "code",
    "id": "rbMV18wyzE9o",
    "outputId": "04c80320-90b8-4af4-ce4d-ef8ccacd2b7a"
   },
   "outputs": [
    {
     "data": {
      "image/png": "[encoded data removed]",
      "text/plain": [
       "<IPython.core.display.Image object>"
      ]
     },
     "execution_count": 11,
     "metadata": {
      "tags": []
     },
     "output_type": "execute_result"
    }
   ],
   "source": [
    "# plot the model\n",
    "tf.keras.utils.plot_model(model, to_file='basic_nmt.png', show_shapes=True)"
   ]
  },
  {
   "cell_type": "markdown",
   "metadata": {
    "colab_type": "text",
    "id": "EmW_5CizTEnW"
   },
   "source": [
    "* The model is trained using the efficient Adam approach to stochastic gradient descent and minimizes the sparse categorical loss function because we have framed the prediction problem as multi-class classification.\n",
    "\n",
    "* Please note that we have used *'sparse_categorical_crossentropy'* as the loss function because it allows us to use the target sequence as is instead of one hot encoding. One hot encoding the target sequences with such a huge vocabulary will consume our system's entire memory.\n",
    "\n",
    "* We will use Earlystopping to monitor 'val_loss' with a patience of 3 to stop traning if there is no improvement for 3 consecutive epochs. We will also use Model Checkpoint to ensure that each time the model skill on the test set improves, the model is saved.\n",
    "\n",
    "* We train the model for 30 epochs with a batch size of 64."
   ]
  },
  {
   "cell_type": "code",
   "execution_count": 0,
   "metadata": {
    "colab": {
     "base_uri": "https://localhost:8080/",
     "height": 1000
    },
    "colab_type": "code",
    "id": "2hHLBI4gzHxH",
    "outputId": "af87e2e3-b0aa-4049-fce9-e7d8551f6e28"
   },
   "outputs": [
    {
     "name": "stdout",
     "output_type": "stream",
     "text": [
      "Epoch 1/30\n",
      "547/547 [==============================] - ETA: 0s - loss: 1.1208\n",
      "Epoch 00001: val_loss improved from inf to 0.93111, saving model to nmt_model.h5\n",
      "547/547 [==============================] - 103s 188ms/step - loss: 1.1208 - val_loss: 0.9311\n",
      "Epoch 2/30\n",
      "547/547 [==============================] - ETA: 0s - loss: 0.8940\n",
      "Epoch 00002: val_loss improved from 0.93111 to 0.86772, saving model to nmt_model.h5\n",
      "547/547 [==============================] - 101s 184ms/step - loss: 0.8940 - val_loss: 0.8677\n",
      "Epoch 3/30\n",
      "547/547 [==============================] - ETA: 0s - loss: 0.8103\n",
      "Epoch 00003: val_loss improved from 0.86772 to 0.79355, saving model to nmt_model.h5\n",
      "547/547 [==============================] - 100s 184ms/step - loss: 0.8103 - val_loss: 0.7936\n",
      "Epoch 4/30\n",
      "547/547 [==============================] - ETA: 0s - loss: 0.7218\n",
      "Epoch 00004: val_loss improved from 0.79355 to 0.72077, saving model to nmt_model.h5\n",
      "547/547 [==============================] - 100s 184ms/step - loss: 0.7218 - val_loss: 0.7208\n",
      "Epoch 5/30\n",
      "547/547 [==============================] - ETA: 0s - loss: 0.6312\n",
      "Epoch 00005: val_loss improved from 0.72077 to 0.65221, saving model to nmt_model.h5\n",
      "547/547 [==============================] - 100s 184ms/step - loss: 0.6312 - val_loss: 0.6522\n",
      "Epoch 6/30\n",
      "547/547 [==============================] - ETA: 0s - loss: 0.5484\n",
      "Epoch 00006: val_loss improved from 0.65221 to 0.60153, saving model to nmt_model.h5\n",
      "547/547 [==============================] - 100s 183ms/step - loss: 0.5484 - val_loss: 0.6015\n",
      "Epoch 7/30\n",
      "547/547 [==============================] - ETA: 0s - loss: 0.4763\n",
      "Epoch 00007: val_loss improved from 0.60153 to 0.55980, saving model to nmt_model.h5\n",
      "547/547 [==============================] - 100s 183ms/step - loss: 0.4763 - val_loss: 0.5598\n",
      "Epoch 8/30\n",
      "547/547 [==============================] - ETA: 0s - loss: 0.4145\n",
      "Epoch 00008: val_loss improved from 0.55980 to 0.52875, saving model to nmt_model.h5\n",
      "547/547 [==============================] - 100s 183ms/step - loss: 0.4145 - val_loss: 0.5288\n",
      "Epoch 9/30\n",
      "547/547 [==============================] - ETA: 0s - loss: 0.3617\n",
      "Epoch 00009: val_loss improved from 0.52875 to 0.50335, saving model to nmt_model.h5\n",
      "547/547 [==============================] - 100s 183ms/step - loss: 0.3617 - val_loss: 0.5034\n",
      "Epoch 10/30\n",
      "547/547 [==============================] - ETA: 0s - loss: 0.3196\n",
      "Epoch 00010: val_loss improved from 0.50335 to 0.48603, saving model to nmt_model.h5\n",
      "547/547 [==============================] - 100s 183ms/step - loss: 0.3196 - val_loss: 0.4860\n",
      "Epoch 11/30\n",
      "547/547 [==============================] - ETA: 0s - loss: 0.2844\n",
      "Epoch 00011: val_loss improved from 0.48603 to 0.47124, saving model to nmt_model.h5\n",
      "547/547 [==============================] - 100s 182ms/step - loss: 0.2844 - val_loss: 0.4712\n",
      "Epoch 12/30\n",
      "547/547 [==============================] - ETA: 0s - loss: 0.2560\n",
      "Epoch 00012: val_loss improved from 0.47124 to 0.45916, saving model to nmt_model.h5\n",
      "547/547 [==============================] - 100s 184ms/step - loss: 0.2560 - val_loss: 0.4592\n",
      "Epoch 13/30\n",
      "547/547 [==============================] - ETA: 0s - loss: 0.2326\n",
      "Epoch 00013: val_loss improved from 0.45916 to 0.45417, saving model to nmt_model.h5\n",
      "547/547 [==============================] - 101s 184ms/step - loss: 0.2326 - val_loss: 0.4542\n",
      "Epoch 14/30\n",
      "547/547 [==============================] - ETA: 0s - loss: 0.2135\n",
      "Epoch 00014: val_loss improved from 0.45417 to 0.44836, saving model to nmt_model.h5\n",
      "547/547 [==============================] - 100s 182ms/step - loss: 0.2135 - val_loss: 0.4484\n",
      "Epoch 15/30\n",
      "547/547 [==============================] - ETA: 0s - loss: 0.1984\n",
      "Epoch 00015: val_loss improved from 0.44836 to 0.44591, saving model to nmt_model.h5\n",
      "547/547 [==============================] - 100s 183ms/step - loss: 0.1984 - val_loss: 0.4459\n",
      "Epoch 16/30\n",
      "547/547 [==============================] - ETA: 0s - loss: 0.1846\n",
      "Epoch 00016: val_loss improved from 0.44591 to 0.44243, saving model to nmt_model.h5\n",
      "547/547 [==============================] - 100s 183ms/step - loss: 0.1846 - val_loss: 0.4424\n",
      "Epoch 17/30\n",
      "547/547 [==============================] - ETA: 0s - loss: 0.1737\n",
      "Epoch 00017: val_loss improved from 0.44243 to 0.44201, saving model to nmt_model.h5\n",
      "547/547 [==============================] - 100s 183ms/step - loss: 0.1737 - val_loss: 0.4420\n",
      "Epoch 18/30\n",
      "547/547 [==============================] - ETA: 0s - loss: 0.1639\n",
      "Epoch 00018: val_loss improved from 0.44201 to 0.43971, saving model to nmt_model.h5\n",
      "547/547 [==============================] - 101s 184ms/step - loss: 0.1639 - val_loss: 0.4397\n",
      "Epoch 19/30\n",
      "547/547 [==============================] - ETA: 0s - loss: 0.1546\n",
      "Epoch 00019: val_loss improved from 0.43971 to 0.43838, saving model to nmt_model.h5\n",
      "547/547 [==============================] - 100s 183ms/step - loss: 0.1546 - val_loss: 0.4384\n",
      "Epoch 20/30\n",
      "547/547 [==============================] - ETA: 0s - loss: 0.1475\n",
      "Epoch 00020: val_loss did not improve from 0.43838\n",
      "547/547 [==============================] - 100s 183ms/step - loss: 0.1475 - val_loss: 0.4392\n",
      "Epoch 21/30\n",
      "547/547 [==============================] - ETA: 0s - loss: 0.1404\n",
      "Epoch 00021: val_loss did not improve from 0.43838\n",
      "547/547 [==============================] - 100s 183ms/step - loss: 0.1404 - val_loss: 0.4406\n",
      "Epoch 22/30\n",
      "547/547 [==============================] - ETA: 0s - loss: 0.1348\n",
      "Epoch 00022: val_loss did not improve from 0.43838\n",
      "547/547 [==============================] - 100s 183ms/step - loss: 0.1348 - val_loss: 0.4408\n",
      "Epoch 00022: early stopping\n"
     ]
    }
   ],
   "source": [
    "# compile the model\n",
    "model.compile(optimizer='adam', loss='sparse_categorical_crossentropy')\n",
    "\n",
    "# define early stopping\n",
    "es = tf.keras.callbacks.EarlyStopping(monitor='val_loss', patience=3, verbose=1, mode='min')\n",
    "\n",
    "# define model checkpoint\n",
    "mckpt = tf.keras.callbacks.ModelCheckpoint('nmt_model.h5', monitor='val_loss', verbose=1, save_best_only=True, mode='min')\n",
    "\n",
    "# define Reduce Learning Rate on Plateau\n",
    "#reduce_lr = tf.keras.callbacks.ReduceLROnPlateau(monitor=\"val_loss\", factor=0.15, patience=3, verbose=1, mode='min')\n",
    "\n",
    "# fit the model\n",
    "history = model.fit(X_train, Y_train, validation_data=(X_test, Y_test), epochs=30, batch_size=64, callbacks=[es, mckpt])"
   ]
  },
  {
   "cell_type": "code",
   "execution_count": 0,
   "metadata": {
    "colab": {
     "base_uri": "https://localhost:8080/",
     "height": 369
    },
    "colab_type": "code",
    "id": "KGcN47kPzKFH",
    "outputId": "a9499b1e-e4e4-45fd-c0e1-008f5354745f"
   },
   "outputs": [
    {
     "data": {
      "image/png": "[encoded data removed]",
      "text/plain": [
       "<Figure size 720x360 with 1 Axes>"
      ]
     },
     "metadata": {
      "needs_background": "light",
      "tags": []
     },
     "output_type": "display_data"
    }
   ],
   "source": [
    "# Plot Model Loss\n",
    "plt.figure(figsize=(10, 5))\n",
    "plt.plot(history.history['loss'])\n",
    "plt.plot(history.history['val_loss'])\n",
    "plt.title('Model Loss')\n",
    "plt.ylabel('Loss')\n",
    "plt.xlabel('Epoch')\n",
    "plt.legend(labels=['Train', 'Test'], fontsize='large')\n",
    "plt.tight_layout()"
   ]
  },
  {
   "cell_type": "markdown",
   "metadata": {
    "colab_type": "text",
    "id": "MFnxfsE9-qjr"
   },
   "source": [
    "### Evaluate Neural Machine Translation Model\n",
    "\n",
    "* Evaluation involves two steps: first generating a translated output sequence and then repeating this process for many input examples and summarizing the skill of the model across multiple cases.\n",
    "\n",
    "* Starting with inference, the model can predict the entire output sequence in a one-shot manner. This will be a sequence of integers that we can enumerate and lookup in the tokenizer to map back to words. The function below named word_for_id( ) will perform this reverse mapping.\n"
   ]
  },
  {
   "cell_type": "code",
   "execution_count": 0,
   "metadata": {
    "colab": {},
    "colab_type": "code",
    "id": "HqW05cfQ5t2F"
   },
   "outputs": [],
   "source": [
    "# map an integer to a word\n",
    "def word_for_id(integer, tokenizer):\n",
    "    for word, index in tokenizer.word_index.items():\n",
    "        if index == integer:\n",
    "            return word\n",
    "    return None"
   ]
  },
  {
   "cell_type": "markdown",
   "metadata": {
    "colab_type": "text",
    "id": "BGC2GpYRxTG5"
   },
   "source": [
    "* We can perform this mapping for each integer in the translation and return the result as a string of words. The function predict_sequence( ) below performs this operation for a single encoded source phrase.\n",
    "\n",
    "* Next, we can repeat this for each source phrase in a dataset and compare the predicted result to the expected target phrase in Marathi."
   ]
  },
  {
   "cell_type": "code",
   "execution_count": 0,
   "metadata": {
    "colab": {},
    "colab_type": "code",
    "id": "KjJq8CFw_Me0"
   },
   "outputs": [],
   "source": [
    "# generate target given source sequence\n",
    "def predict_sequence(model, tokenizer, source):\n",
    "    prediction = model.predict(source)[0]\n",
    "    integers = [np.argmax(vector) for vector in prediction]\n",
    "    target = list()\n",
    "    for i in integers:\n",
    "        word = word_for_id(i, tokenizer)\n",
    "        if word is None:\n",
    "            break\n",
    "        target.append(word)\n",
    "    return ' '.join(target)"
   ]
  },
  {
   "cell_type": "markdown",
   "metadata": {
    "colab_type": "text",
    "id": "fZvhaJ1Lx0a2"
   },
   "source": [
    "* We will also calculate the BLEU scores to get a quantitative idea of how well the model has performed. You can learn more about the BLEU score here :- [Calculating the BLEU Score for Text in Python](https://machinelearningmastery.com/calculate-bleu-score-for-text-python/).\n",
    "\n",
    "* The evaluate_model( ) function below implements this calling the above predict_sequence() function for each phrase in a provided dataset. Running the function first prints examples of source text, target text and predicted translations as well as BLEU scores for the test dataset.\n",
    "\n",
    "* Looking at the results for the test dataset, we can see that the translations are readable and fairly accurate.\n",
    "\n",
    "* We can also see that the translations were not perfect and can be improved with [Attention Mechanism](https://jalammar.github.io/visualizing-neural-machine-translation-mechanics-of-seq2seq-models-with-attention/) which we will see in another tutorial."
   ]
  },
  {
   "cell_type": "code",
   "execution_count": 0,
   "metadata": {
    "colab": {
     "base_uri": "https://localhost:8080/",
     "height": 477
    },
    "colab_type": "code",
    "id": "oKbaETm14YCa",
    "outputId": "41d04fd1-5093-4b5d-c990-c2fe98da20a8"
   },
   "outputs": [
    {
     "name": "stdout",
     "output_type": "stream",
     "text": [
      "src ===> whats your name;  target ===> तुमचं नाव काय आहे;  translated ===> तुमचं नाव काय आहे\n",
      "src ===> our website is offline for scheduled maintenance;  target ===> आमचे संकेतस्थळ नियोजित देखरेखीकरिता ऑफलाइन आहे;  translated ===> आमची देशाचा नाव क्रमांक करून आहे\n",
      "src ===> someone will close the window;  target ===> कोणीतरी खिडकी बंद करेल;  translated ===> कोणीतरी कोणीतरी बघेल\n",
      "src ===> she bit him;  target ===> तिने त्यांना चावलं;  translated ===> त्यांनी त्याला चावलं\n",
      "src ===> i can teach you how to sing;  target ===> मी तुम्हाला गायला शिकवू शकतो;  translated ===> मी तुला गायला शिकवू शकते\n",
      "src ===> the potatoes stayed hot;  target ===> बटाटे गरम राहिले;  translated ===> सँडविच सँडविच बिघडला\n",
      "src ===> is that black bag yours;  target ===> ती काळी बॅग तुमची आहे का;  translated ===> ती काळी पिशवी तुमची आहे का\n",
      "src ===> japan is a rich country;  target ===> जपान श्रीमंत देश आहे;  translated ===> जपान हा जुना देश आहे\n",
      "src ===> call the number i gave you;  target ===> मी तुला दिलेल्या नंबरवर फोन कर;  translated ===> मी फोन फोन फोन फोन फोन फोन\n",
      "src ===> were ready to fight;  target ===> आम्ही लढायला तयार आहोत;  translated ===> आम्ही लढायला तयार आहोत\n",
      "src ===> i want to see you again;  target ===> मला तुम्हाला परत भेटायचं आहे;  translated ===> मला तुला परत भेटायचं आहे\n",
      "src ===> tom is in a hurry;  target ===> टॉम घाईत आहे;  translated ===> टॉम हिलबिली आहे\n",
      "src ===> tell tom what you saw last night;  target ===> काल रात्री तुम्ही जे पाहिलंत ते टॉमला सांगा;  translated ===> तुम्ही काल रात्री जे पाहिलंत ते टॉमला सांग\n",
      "src ===> were lawyers;  target ===> आपण वकील आहोत;  translated ===> आम्ही वकील आहोत\n",
      "src ===> i got stuck in a traffic jam;  target ===> मी ट्रॅफिक जॅममध्ये अडकून गेलो;  translated ===> मी ट्रॅफिक जॅममध्ये अडकून गेले\n",
      "src ===> its an emergency;  target ===> इमरजन्सी आहे;  translated ===> आणीबाणी आहे\n",
      "src ===> you are big;  target ===> तू मोठी आहेस;  translated ===> तू मोठे आहात\n",
      "src ===> the money is on the table;  target ===> पैसे टेबलावर आहेत;  translated ===> पैसा टेबलावर आहे\n",
      "src ===> i knew tom wasnt going to lose;  target ===> टॉम हरणार नव्हता हे मला माहीत होतं;  translated ===> टॉम माहीत होतं हे हे मला माहीत होतं\n",
      "src ===> many new factories have opened;  target ===> अनेक नवीन कारखाने उघडले गेले आहेत;  translated ===> नवीन नवीन कार्ड पडली\n",
      "====================================================================================================\n",
      "BLEU-1: 0.5545862673392626\n",
      "BLEU-2: 0.40771800104766254\n",
      "BLEU-3: 0.33450350819850627\n",
      "BLEU-4: 0.210304783037935\n"
     ]
    }
   ],
   "source": [
    "# evaluate the skill of the model\n",
    "def evaluate_model(model, tokenizer, sources, dataset):\n",
    "    actual, predicted = list(), list()\n",
    "    for i, source in enumerate(sources):\n",
    "        # translate encoded source text\n",
    "        source = source.reshape((1, source.shape[0]))\n",
    "        translation = predict_sequence(model, tokenizer, source)\n",
    "        src, target = dataset[i]\n",
    "        if i < 20:\n",
    "            print(f'src ===> {src};  target ===> {target};  translated ===> {translation}')\n",
    "        \n",
    "        actual.append([target.split()])\n",
    "        predicted.append(translation.split())\n",
    "    # calculate BLEU score\n",
    "    print('=='*50)\n",
    "    print(f'BLEU-1: {corpus_bleu(actual, predicted, weights=(1.0, 0, 0, 0))}')\n",
    "    print(f'BLEU-2: {corpus_bleu(actual, predicted, weights=(0.5, 0.5, 0, 0))}')\n",
    "    print(f'BLEU-3: {corpus_bleu(actual, predicted, weights=(0.3, 0.3, 0.3, 0))}')\n",
    "    print(f'BLEU-4: {corpus_bleu(actual, predicted, weights=(0.25, 0.25, 0.25, 0.25))}')\n",
    "\n",
    "# test on some test sequences\n",
    "evaluate_model(model, mar_tokenizer, X_test, test_data)"
   ]
  },
  {
   "cell_type": "markdown",
   "metadata": {
    "colab_type": "text",
    "id": "Bekz2mu7ql9L"
   },
   "source": [
    "[Configuration of Encoder-Decoder Model for NMT](https://machinelearningmastery.com/configure-encoder-decoder-model-neural-machine-translation/)\n",
    "\n",
    "[Basic Neural Machine Translation](https://machinelearningmastery.com/develop-neural-machine-translation-system-keras/)"
   ]
  }
 ],
 "metadata": {
  "accelerator": "GPU",
  "colab": {
   "name": "Basic_Neural_Machine_Translation_for_English_to_Marathi_Language_Translation.ipynb",
   "provenance": []
  },
  "kernelspec": {
   "display_name": "Python 3",
   "language": "python",
   "name": "python3"
  },
  "language_info": {
   "codemirror_mode": {
    "name": "ipython",
    "version": 3
   },
   "file_extension": ".py",
   "mimetype": "text/x-python",
   "name": "python",
   "nbconvert_exporter": "python",
   "pygments_lexer": "ipython3",
   "version": "3.7.6"
  },
  "latex_envs": {
   "LaTeX_envs_menu_present": true,
   "autoclose": false,
   "autocomplete": true,
   "bibliofile": "biblio.bib",
   "cite_by": "apalike",
   "current_citInitial": 1,
   "eqLabelWithNumbers": true,
   "eqNumInitial": 1,
   "hotkeys": {
    "equation": "Ctrl-E",
    "itemize": "Ctrl-I"
   },
   "labels_anchors": false,
   "latex_user_defs": false,
   "report_style_numbering": false,
   "user_envs_cfg": false
  },
  "toc": {
   "base_numbering": 1,
   "nav_menu": {},
   "number_sections": true,
   "sideBar": true,
   "skip_h1_title": false,
   "title_cell": "Table of Contents",
   "title_sidebar": "Contents",
   "toc_cell": false,
   "toc_position": {},
   "toc_section_display": true,
   "toc_window_display": false
  },
  "varInspector": {
   "cols": {
    "lenName": 16,
    "lenType": 16,
    "lenVar": 40
   },
   "kernels_config": {
    "python": {
     "delete_cmd_postfix": "",
     "delete_cmd_prefix": "del ",
     "library": "var_list.py",
     "varRefreshCmd": "print(var_dic_list())"
    },
    "r": {
     "delete_cmd_postfix": ") ",
     "delete_cmd_prefix": "rm(",
     "library": "var_list.r",
     "varRefreshCmd": "cat(var_dic_list()) "
    }
   },
   "types_to_exclude": [
    "module",
    "function",
    "builtin_function_or_method",
    "instance",
    "_Feature"
   ],
   "window_display": false
  }
 },
 "nbformat": 4,
 "nbformat_minor": 1
}
